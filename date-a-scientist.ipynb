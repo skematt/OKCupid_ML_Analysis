{
 "cells": [
  {
   "cell_type": "markdown",
   "metadata": {},
   "source": [
    "# Introduction\n",
    "\n",
    "In recent years, there has been a massive rise in the usage of dating apps to find love. Many of these apps use sophisticated data science techniques to recommend possible matches to users and to optimize the user experience. These apps give us access to a wealth of information that we’ve never had before about how different people experience romance.\n",
    "\n",
    "In this portfolio project, you will analyze some data from OKCupid, an app that focuses on using multiple choice and short answers to match users.\n",
    "\n",
    "You will also create a presentation about your findings from this OKCupid dataset."
   ]
  },
  {
   "cell_type": "markdown",
   "metadata": {},
   "source": [
    "## Project Goal\n",
    "We will investigate the OKCupid data using machine learning models. We will use\n",
    "- A regression related model\n",
    "- A classification related model\n",
    "\n",
    "After looking over the dataset, I am going to pick three main questions to explore.\n",
    "\n",
    "**1. Can habits, beliefs, & preferences be used to predict someone's astrological sign?**\n",
    "\n",
    "**2. Can education and location be used to predict income?**\n",
    "\n",
    "### Data\n",
    "We will be using `profiles.csv` as the dataset for this project. More details about the data will be written upon investigation.\n",
    "\n",
    "Clarifications of the dataset columns can be found here `https://www.kaggle.com/andrewmvd/okcupid-profiles`\n",
    "Source can be found at `https://www.tandfonline.com/doi/abs/10.1080/10691898.2015.11889737`\n",
    "\n",
    "### Analysis\n",
    "We will be using descriptive statistics and graphical visualization to perform some exploratory data analysis. \n",
    "\n",
    "### Evaluation\n",
    "We will score our machine learning model."
   ]
  },
  {
   "cell_type": "markdown",
   "metadata": {},
   "source": [
    "## Step 1: Understanding the dataset & Decide Questions"
   ]
  },
  {
   "cell_type": "markdown",
   "metadata": {},
   "source": [
    "#### Importing python modules"
   ]
  },
  {
   "cell_type": "code",
   "execution_count": 540,
   "metadata": {},
   "outputs": [],
   "source": [
    "import numpy as np\n",
    "import pandas as pd\n",
    "import matplotlib.pyplot as plt\n",
    "import seaborn as sns"
   ]
  },
  {
   "cell_type": "code",
   "execution_count": 541,
   "metadata": {},
   "outputs": [
    {
     "name": "stdout",
     "output_type": "stream",
     "text": [
      "Index(['age', 'body_type', 'diet', 'drinks', 'drugs', 'education', 'essay0',\n",
      "       'essay1', 'essay2', 'essay3', 'essay4', 'essay5', 'essay6', 'essay7',\n",
      "       'essay8', 'essay9', 'ethnicity', 'height', 'income', 'job',\n",
      "       'last_online', 'location', 'offspring', 'orientation', 'pets',\n",
      "       'religion', 'sex', 'sign', 'smokes', 'speaks', 'status'],\n",
      "      dtype='object')\n"
     ]
    },
    {
     "data": {
      "text/html": [
       "<div>\n",
       "<style scoped>\n",
       "    .dataframe tbody tr th:only-of-type {\n",
       "        vertical-align: middle;\n",
       "    }\n",
       "\n",
       "    .dataframe tbody tr th {\n",
       "        vertical-align: top;\n",
       "    }\n",
       "\n",
       "    .dataframe thead th {\n",
       "        text-align: right;\n",
       "    }\n",
       "</style>\n",
       "<table border=\"1\" class=\"dataframe\">\n",
       "  <thead>\n",
       "    <tr style=\"text-align: right;\">\n",
       "      <th></th>\n",
       "      <th>age</th>\n",
       "      <th>body_type</th>\n",
       "      <th>diet</th>\n",
       "      <th>drinks</th>\n",
       "      <th>drugs</th>\n",
       "      <th>education</th>\n",
       "      <th>essay0</th>\n",
       "      <th>...</th>\n",
       "      <th>pets</th>\n",
       "      <th>religion</th>\n",
       "      <th>sex</th>\n",
       "      <th>sign</th>\n",
       "      <th>smokes</th>\n",
       "      <th>speaks</th>\n",
       "      <th>status</th>\n",
       "    </tr>\n",
       "  </thead>\n",
       "  <tbody>\n",
       "    <tr>\n",
       "      <th>0</th>\n",
       "      <td>22</td>\n",
       "      <td>a little extra</td>\n",
       "      <td>strictly anything</td>\n",
       "      <td>socially</td>\n",
       "      <td>never</td>\n",
       "      <td>working on college/university</td>\n",
       "      <td>about me:&lt;br /&gt;\\n&lt;br /&gt;\\ni would love to think...</td>\n",
       "      <td>...</td>\n",
       "      <td>likes dogs and likes cats</td>\n",
       "      <td>agnosticism and very serious about it</td>\n",
       "      <td>m</td>\n",
       "      <td>gemini</td>\n",
       "      <td>sometimes</td>\n",
       "      <td>english</td>\n",
       "      <td>single</td>\n",
       "    </tr>\n",
       "    <tr>\n",
       "      <th>1</th>\n",
       "      <td>35</td>\n",
       "      <td>average</td>\n",
       "      <td>mostly other</td>\n",
       "      <td>often</td>\n",
       "      <td>sometimes</td>\n",
       "      <td>working on space camp</td>\n",
       "      <td>i am a chef: this is what that means.&lt;br /&gt;\\n1...</td>\n",
       "      <td>...</td>\n",
       "      <td>likes dogs and likes cats</td>\n",
       "      <td>agnosticism but not too serious about it</td>\n",
       "      <td>m</td>\n",
       "      <td>cancer</td>\n",
       "      <td>no</td>\n",
       "      <td>english (fluently), spanish (poorly), french (...</td>\n",
       "      <td>single</td>\n",
       "    </tr>\n",
       "    <tr>\n",
       "      <th>2</th>\n",
       "      <td>38</td>\n",
       "      <td>thin</td>\n",
       "      <td>anything</td>\n",
       "      <td>socially</td>\n",
       "      <td>NaN</td>\n",
       "      <td>graduated from masters program</td>\n",
       "      <td>i'm not ashamed of much, but writing public te...</td>\n",
       "      <td>...</td>\n",
       "      <td>has cats</td>\n",
       "      <td>NaN</td>\n",
       "      <td>m</td>\n",
       "      <td>pisces but it doesn&amp;rsquo;t matter</td>\n",
       "      <td>no</td>\n",
       "      <td>english, french, c++</td>\n",
       "      <td>available</td>\n",
       "    </tr>\n",
       "    <tr>\n",
       "      <th>3</th>\n",
       "      <td>23</td>\n",
       "      <td>thin</td>\n",
       "      <td>vegetarian</td>\n",
       "      <td>socially</td>\n",
       "      <td>NaN</td>\n",
       "      <td>working on college/university</td>\n",
       "      <td>i work in a library and go to school. . .</td>\n",
       "      <td>...</td>\n",
       "      <td>likes cats</td>\n",
       "      <td>NaN</td>\n",
       "      <td>m</td>\n",
       "      <td>pisces</td>\n",
       "      <td>no</td>\n",
       "      <td>english, german (poorly)</td>\n",
       "      <td>single</td>\n",
       "    </tr>\n",
       "    <tr>\n",
       "      <th>4</th>\n",
       "      <td>29</td>\n",
       "      <td>athletic</td>\n",
       "      <td>NaN</td>\n",
       "      <td>socially</td>\n",
       "      <td>never</td>\n",
       "      <td>graduated from college/university</td>\n",
       "      <td>hey how's it going? currently vague on the pro...</td>\n",
       "      <td>...</td>\n",
       "      <td>likes dogs and likes cats</td>\n",
       "      <td>NaN</td>\n",
       "      <td>m</td>\n",
       "      <td>aquarius</td>\n",
       "      <td>no</td>\n",
       "      <td>english</td>\n",
       "      <td>single</td>\n",
       "    </tr>\n",
       "  </tbody>\n",
       "</table>\n",
       "<p>5 rows × 31 columns</p>\n",
       "</div>"
      ],
      "text/plain": [
       "   age       body_type               diet    drinks      drugs  \\\n",
       "0   22  a little extra  strictly anything  socially      never   \n",
       "1   35         average       mostly other     often  sometimes   \n",
       "2   38            thin           anything  socially        NaN   \n",
       "3   23            thin         vegetarian  socially        NaN   \n",
       "4   29        athletic                NaN  socially      never   \n",
       "\n",
       "                           education  \\\n",
       "0      working on college/university   \n",
       "1              working on space camp   \n",
       "2     graduated from masters program   \n",
       "3      working on college/university   \n",
       "4  graduated from college/university   \n",
       "\n",
       "                                              essay0  ...  \\\n",
       "0  about me:<br />\\n<br />\\ni would love to think...  ...   \n",
       "1  i am a chef: this is what that means.<br />\\n1...  ...   \n",
       "2  i'm not ashamed of much, but writing public te...  ...   \n",
       "3          i work in a library and go to school. . .  ...   \n",
       "4  hey how's it going? currently vague on the pro...  ...   \n",
       "\n",
       "                        pets                                  religion sex  \\\n",
       "0  likes dogs and likes cats     agnosticism and very serious about it   m   \n",
       "1  likes dogs and likes cats  agnosticism but not too serious about it   m   \n",
       "2                   has cats                                       NaN   m   \n",
       "3                 likes cats                                       NaN   m   \n",
       "4  likes dogs and likes cats                                       NaN   m   \n",
       "\n",
       "                                 sign     smokes  \\\n",
       "0                              gemini  sometimes   \n",
       "1                              cancer         no   \n",
       "2  pisces but it doesn&rsquo;t matter         no   \n",
       "3                              pisces         no   \n",
       "4                            aquarius         no   \n",
       "\n",
       "                                              speaks     status  \n",
       "0                                            english     single  \n",
       "1  english (fluently), spanish (poorly), french (...     single  \n",
       "2                               english, french, c++  available  \n",
       "3                           english, german (poorly)     single  \n",
       "4                                            english     single  \n",
       "\n",
       "[5 rows x 31 columns]"
      ]
     },
     "execution_count": 541,
     "metadata": {},
     "output_type": "execute_result"
    }
   ],
   "source": [
    "profiles = pd.read_csv('profiles.csv')\n",
    "print(profiles.columns)\n",
    "profiles.head()"
   ]
  },
  {
   "cell_type": "markdown",
   "metadata": {},
   "source": [
    "#### Variables\n",
    "\n",
    "The data came in three major types\n",
    "\n",
    "**1. Basic Info**\n",
    "    - age [continuous]\n",
    "    - last_online [continuous]\n",
    "    - orientation [categorical, nominal]\n",
    "    - sex [categorical, nominal]\n",
    "    - sign [categorical, nominal]\n",
    "    - status [categorical, ordinal]\n",
    "**2. Appearance**\n",
    "\n",
    "    - age (While age is basic info, it is directly related to appearance)\n",
    "    - body_type [categorical, ordinal]\n",
    "    - ethnicity [categorical, nominal]\n",
    "    - height [continuous]\n",
    "**3. Background**\n",
    "    - education [categorical, nominal]\n",
    "    - income [continuous]\n",
    "    - job [categorical, nominal]\n",
    "    - location [categorical, nominal]\n",
    "**4. Habits, Beliefs, & Preferences**\n",
    "    - diet [categorical, nominal]\n",
    "    - drinks [categorical, ordinal]\n",
    "    - drugs [categorical, ordinal]\n",
    "    - offspring [cateogrical, ordinal]\n",
    "    - pets [categorical, nominal]\n",
    "    - religion [categorical, nominal & categorical] (could be categorical because it adds seriousness)\n",
    "    - smokes [categorical, ordinal]\n",
    "    - speaks [categorical, nominal]\n",
    "**5. Essays**\n",
    "    - essay0 - essay9\n",
    "**(Clarifications on essay topics)**\n",
    "- essay0 - My self summary\n",
    "- essay1 - What I’m doing with my life\n",
    "- essay2 - I’m really good at\n",
    "- essay3 - The first thing people usually notice about me\n",
    "- essay4 - Favorite books, movies, show, music, and food\n",
    "- essay5 - The six things I could never do without\n",
    "- essay6 - I spend a lot of time thinking about\n",
    "- essay7 - On a typical Friday night I am\n",
    "- essay8 - The most private thing I am willing to admit\n",
    "- essay9 - You should message me if…\n",
    "    "
   ]
  },
  {
   "cell_type": "markdown",
   "metadata": {},
   "source": [
    "For the sake of easier categorization later on, I'm going to store these classifications in a few variables"
   ]
  },
  {
   "cell_type": "code",
   "execution_count": 542,
   "metadata": {},
   "outputs": [],
   "source": [
    "basic_info = ['age', 'last_online', 'orientation', 'sex', 'sign', 'sstatus']\n",
    "appearance = ['age', 'body_type', 'ethnicity', 'height']\n",
    "background = ['education', 'income', 'job', 'location']\n",
    "habits_beliefs_preferences = ['diet', 'drinks', 'drugs', 'job', 'offspring', 'pets', \\\n",
    "                              'religion', 'smokes', 'speaks']\n",
    "essays = ['essay' + str(i) for i in range(10)]\n"
   ]
  },
  {
   "cell_type": "code",
   "execution_count": 543,
   "metadata": {},
   "outputs": [
    {
     "name": "stdout",
     "output_type": "stream",
     "text": [
      "['sometimes' 'no' nan 'when drinking' 'yes' 'trying to quit']\n",
      "['working on college/university' 'working on space camp'\n",
      " 'graduated from masters program' 'graduated from college/university'\n",
      " 'working on two-year college' nan 'graduated from high school'\n",
      " 'working on masters program' 'graduated from space camp'\n",
      " 'college/university' 'dropped out of space camp'\n",
      " 'graduated from ph.d program' 'graduated from law school'\n",
      " 'working on ph.d program' 'two-year college'\n",
      " 'graduated from two-year college' 'working on med school'\n",
      " 'dropped out of college/university' 'space camp'\n",
      " 'graduated from med school' 'dropped out of high school'\n",
      " 'working on high school' 'masters program' 'dropped out of ph.d program'\n",
      " 'dropped out of two-year college' 'dropped out of med school'\n",
      " 'high school' 'working on law school' 'law school'\n",
      " 'dropped out of masters program' 'ph.d program'\n",
      " 'dropped out of law school' 'med school']\n"
     ]
    }
   ],
   "source": [
    "print(profiles.smokes.unique())\n",
    "print(profiles.education.unique())"
   ]
  },
  {
   "cell_type": "markdown",
   "metadata": {},
   "source": [
    "#### Selecting Questiosn to Explore\n",
    "\n",
    "After looking over the dataset, I am going to pick three main questions to explore.\n",
    "1. Can habits, beliefs, & preferences be used to predict someone's astrological sign?\n",
    "2. Can education and location be used to predict income?"
   ]
  },
  {
   "cell_type": "markdown",
   "metadata": {},
   "source": [
    "## Step 2: Exploratory Data Analysis"
   ]
  },
  {
   "cell_type": "markdown",
   "metadata": {},
   "source": [
    "#### Selecting the Right Columns\n",
    "\n",
    "We obviously don't have to explore every single field given. We will find the variables pertinent to the questions and explore them. "
   ]
  },
  {
   "cell_type": "markdown",
   "metadata": {},
   "source": [
    "### Question 1: Can habits, beliefs, & preferences be used to predict someone's astrological sign?\n",
    "\n",
    "We will explore the `sign` column and the columns that fall under `habits_beliefs_preferences`, as I classified earlier."
   ]
  },
  {
   "cell_type": "code",
   "execution_count": 544,
   "metadata": {},
   "outputs": [
    {
     "data": {
      "text/html": [
       "<div>\n",
       "<style scoped>\n",
       "    .dataframe tbody tr th:only-of-type {\n",
       "        vertical-align: middle;\n",
       "    }\n",
       "\n",
       "    .dataframe tbody tr th {\n",
       "        vertical-align: top;\n",
       "    }\n",
       "\n",
       "    .dataframe thead th {\n",
       "        text-align: right;\n",
       "    }\n",
       "</style>\n",
       "<table border=\"1\" class=\"dataframe\">\n",
       "  <thead>\n",
       "    <tr style=\"text-align: right;\">\n",
       "      <th></th>\n",
       "      <th>diet</th>\n",
       "      <th>drinks</th>\n",
       "      <th>drugs</th>\n",
       "      <th>job</th>\n",
       "      <th>offspring</th>\n",
       "      <th>pets</th>\n",
       "      <th>religion</th>\n",
       "      <th>smokes</th>\n",
       "      <th>speaks</th>\n",
       "      <th>sign</th>\n",
       "    </tr>\n",
       "  </thead>\n",
       "  <tbody>\n",
       "    <tr>\n",
       "      <th>0</th>\n",
       "      <td>strictly anything</td>\n",
       "      <td>socially</td>\n",
       "      <td>never</td>\n",
       "      <td>transportation</td>\n",
       "      <td>doesn&amp;rsquo;t have kids, but might want them</td>\n",
       "      <td>likes dogs and likes cats</td>\n",
       "      <td>agnosticism and very serious about it</td>\n",
       "      <td>sometimes</td>\n",
       "      <td>english</td>\n",
       "      <td>gemini</td>\n",
       "    </tr>\n",
       "    <tr>\n",
       "      <th>1</th>\n",
       "      <td>mostly other</td>\n",
       "      <td>often</td>\n",
       "      <td>sometimes</td>\n",
       "      <td>hospitality / travel</td>\n",
       "      <td>doesn&amp;rsquo;t have kids, but might want them</td>\n",
       "      <td>likes dogs and likes cats</td>\n",
       "      <td>agnosticism but not too serious about it</td>\n",
       "      <td>no</td>\n",
       "      <td>english (fluently), spanish (poorly), french (...</td>\n",
       "      <td>cancer</td>\n",
       "    </tr>\n",
       "    <tr>\n",
       "      <th>2</th>\n",
       "      <td>anything</td>\n",
       "      <td>socially</td>\n",
       "      <td>NaN</td>\n",
       "      <td>NaN</td>\n",
       "      <td>NaN</td>\n",
       "      <td>has cats</td>\n",
       "      <td>NaN</td>\n",
       "      <td>no</td>\n",
       "      <td>english, french, c++</td>\n",
       "      <td>pisces but it doesn&amp;rsquo;t matter</td>\n",
       "    </tr>\n",
       "    <tr>\n",
       "      <th>3</th>\n",
       "      <td>vegetarian</td>\n",
       "      <td>socially</td>\n",
       "      <td>NaN</td>\n",
       "      <td>student</td>\n",
       "      <td>doesn&amp;rsquo;t want kids</td>\n",
       "      <td>likes cats</td>\n",
       "      <td>NaN</td>\n",
       "      <td>no</td>\n",
       "      <td>english, german (poorly)</td>\n",
       "      <td>pisces</td>\n",
       "    </tr>\n",
       "    <tr>\n",
       "      <th>4</th>\n",
       "      <td>NaN</td>\n",
       "      <td>socially</td>\n",
       "      <td>never</td>\n",
       "      <td>artistic / musical / writer</td>\n",
       "      <td>NaN</td>\n",
       "      <td>likes dogs and likes cats</td>\n",
       "      <td>NaN</td>\n",
       "      <td>no</td>\n",
       "      <td>english</td>\n",
       "      <td>aquarius</td>\n",
       "    </tr>\n",
       "  </tbody>\n",
       "</table>\n",
       "</div>"
      ],
      "text/plain": [
       "                diet    drinks      drugs                          job  \\\n",
       "0  strictly anything  socially      never               transportation   \n",
       "1       mostly other     often  sometimes         hospitality / travel   \n",
       "2           anything  socially        NaN                          NaN   \n",
       "3         vegetarian  socially        NaN                      student   \n",
       "4                NaN  socially      never  artistic / musical / writer   \n",
       "\n",
       "                                      offspring                       pets  \\\n",
       "0  doesn&rsquo;t have kids, but might want them  likes dogs and likes cats   \n",
       "1  doesn&rsquo;t have kids, but might want them  likes dogs and likes cats   \n",
       "2                                           NaN                   has cats   \n",
       "3                       doesn&rsquo;t want kids                 likes cats   \n",
       "4                                           NaN  likes dogs and likes cats   \n",
       "\n",
       "                                   religion     smokes  \\\n",
       "0     agnosticism and very serious about it  sometimes   \n",
       "1  agnosticism but not too serious about it         no   \n",
       "2                                       NaN         no   \n",
       "3                                       NaN         no   \n",
       "4                                       NaN         no   \n",
       "\n",
       "                                              speaks  \\\n",
       "0                                            english   \n",
       "1  english (fluently), spanish (poorly), french (...   \n",
       "2                               english, french, c++   \n",
       "3                           english, german (poorly)   \n",
       "4                                            english   \n",
       "\n",
       "                                 sign  \n",
       "0                              gemini  \n",
       "1                              cancer  \n",
       "2  pisces but it doesn&rsquo;t matter  \n",
       "3                              pisces  \n",
       "4                            aquarius  "
      ]
     },
     "execution_count": 544,
     "metadata": {},
     "output_type": "execute_result"
    }
   ],
   "source": [
    "df1 = profiles[habits_beliefs_preferences + ['sign']]\n",
    "df1.head()"
   ]
  },
  {
   "cell_type": "markdown",
   "metadata": {},
   "source": [
    "#### Distribution of signs\n",
    "\n",
    "As seen, for each sign, there is \"it doesn't matter\", \"it matters a lot\", and \"it's fun to think about\". Therefore, we are gonna create a new dataframe that seperates signs and importance.\n",
    "\n",
    "To rate the importance, we are going to do\n",
    "- 1: doesn't matter\n",
    "- 2: doesn't say\n",
    "- 3: fun to think about\n",
    "- 4: matters a lot"
   ]
  },
  {
   "cell_type": "code",
   "execution_count": 545,
   "metadata": {},
   "outputs": [
    {
     "name": "stdout",
     "output_type": "stream",
     "text": [
      "59946\n"
     ]
    }
   ],
   "source": [
    "# Since first word is always sign, we are going to do that\n",
    "df_sign = df1[['sign']]\n",
    "print(len(df_sign))\n",
    "df_sign = df_sign.dropna()\n",
    "\n",
    "def find_importance(x):\n",
    "    if (x.find(' ') == -1):\n",
    "        return 'not clear'\n",
    "    else:\n",
    "        loc = x.find(' ')\n",
    "        loc+=4    # cuz 'and' and 'but' are both 3 characters\n",
    "        return x[loc:]\n",
    "    \n",
    "find_importance2 = lambda D: \\\n",
    "            D[((D).find(' ') + 4):]"
   ]
  },
  {
   "cell_type": "code",
   "execution_count": 546,
   "metadata": {},
   "outputs": [
    {
     "name": "stdout",
     "output_type": "stream",
     "text": [
      "['not clear' ' it doesn&rsquo;t matter' ' it&rsquo;s fun to think about'\n",
      " ' it matters a lot']\n",
      "['not clear' \"doesn't matter\" 'fun to think about' 'matters a lot']\n"
     ]
    },
    {
     "data": {
      "text/html": [
       "<div>\n",
       "<style scoped>\n",
       "    .dataframe tbody tr th:only-of-type {\n",
       "        vertical-align: middle;\n",
       "    }\n",
       "\n",
       "    .dataframe tbody tr th {\n",
       "        vertical-align: top;\n",
       "    }\n",
       "\n",
       "    .dataframe thead th {\n",
       "        text-align: right;\n",
       "    }\n",
       "</style>\n",
       "<table border=\"1\" class=\"dataframe\">\n",
       "  <thead>\n",
       "    <tr style=\"text-align: right;\">\n",
       "      <th></th>\n",
       "      <th>sign</th>\n",
       "      <th>importance</th>\n",
       "      <th>original_text</th>\n",
       "    </tr>\n",
       "  </thead>\n",
       "  <tbody>\n",
       "    <tr>\n",
       "      <th>0</th>\n",
       "      <td>gemini</td>\n",
       "      <td>not clear</td>\n",
       "      <td>gemini</td>\n",
       "    </tr>\n",
       "    <tr>\n",
       "      <th>1</th>\n",
       "      <td>cancer</td>\n",
       "      <td>not clear</td>\n",
       "      <td>cancer</td>\n",
       "    </tr>\n",
       "    <tr>\n",
       "      <th>2</th>\n",
       "      <td>pisces but it doesn&amp;rsquo;t matter</td>\n",
       "      <td>doesn't matter</td>\n",
       "      <td>pisces but it doesn&amp;rsquo;t matter</td>\n",
       "    </tr>\n",
       "    <tr>\n",
       "      <th>3</th>\n",
       "      <td>pisces</td>\n",
       "      <td>not clear</td>\n",
       "      <td>pisces</td>\n",
       "    </tr>\n",
       "    <tr>\n",
       "      <th>4</th>\n",
       "      <td>aquarius</td>\n",
       "      <td>not clear</td>\n",
       "      <td>aquarius</td>\n",
       "    </tr>\n",
       "  </tbody>\n",
       "</table>\n",
       "</div>"
      ],
      "text/plain": [
       "                                 sign      importance  \\\n",
       "0                              gemini       not clear   \n",
       "1                              cancer       not clear   \n",
       "2  pisces but it doesn&rsquo;t matter  doesn't matter   \n",
       "3                              pisces       not clear   \n",
       "4                            aquarius       not clear   \n",
       "\n",
       "                        original_text  \n",
       "0                              gemini  \n",
       "1                              cancer  \n",
       "2  pisces but it doesn&rsquo;t matter  \n",
       "3                              pisces  \n",
       "4                            aquarius  "
      ]
     },
     "execution_count": 546,
     "metadata": {},
     "output_type": "execute_result"
    }
   ],
   "source": [
    "\n",
    "df_sign['importance'] = df_sign['sign'].apply(find_importance)\n",
    "\n",
    "\n",
    "print(df_sign.importance.unique())\n",
    "df_sign.importance = df_sign.importance.map({'not clear': 'not clear', \\\n",
    "                        ' it doesn&rsquo;t matter': 'doesn\\'t matter', \\\n",
    "                        ' it&rsquo;s fun to think about': 'fun to think about', \\\n",
    "                       ' it matters a lot': 'matters a lot'})\n",
    "print(df_sign.importance.unique())\n",
    "df_sign['original_text'] = df_sign.sign[:]\n",
    "df_sign.head()"
   ]
  },
  {
   "cell_type": "code",
   "execution_count": 547,
   "metadata": {},
   "outputs": [
    {
     "data": {
      "text/html": [
       "<div>\n",
       "<style scoped>\n",
       "    .dataframe tbody tr th:only-of-type {\n",
       "        vertical-align: middle;\n",
       "    }\n",
       "\n",
       "    .dataframe tbody tr th {\n",
       "        vertical-align: top;\n",
       "    }\n",
       "\n",
       "    .dataframe thead th {\n",
       "        text-align: right;\n",
       "    }\n",
       "</style>\n",
       "<table border=\"1\" class=\"dataframe\">\n",
       "  <thead>\n",
       "    <tr style=\"text-align: right;\">\n",
       "      <th></th>\n",
       "      <th>sign</th>\n",
       "      <th>importance</th>\n",
       "      <th>original_text</th>\n",
       "    </tr>\n",
       "  </thead>\n",
       "  <tbody>\n",
       "    <tr>\n",
       "      <th>0</th>\n",
       "      <td>gemini</td>\n",
       "      <td>not clear</td>\n",
       "      <td>gemini</td>\n",
       "    </tr>\n",
       "    <tr>\n",
       "      <th>1</th>\n",
       "      <td>cancer</td>\n",
       "      <td>not clear</td>\n",
       "      <td>cancer</td>\n",
       "    </tr>\n",
       "    <tr>\n",
       "      <th>2</th>\n",
       "      <td>pisces</td>\n",
       "      <td>doesn't matter</td>\n",
       "      <td>pisces but it doesn&amp;rsquo;t matter</td>\n",
       "    </tr>\n",
       "    <tr>\n",
       "      <th>3</th>\n",
       "      <td>pisces</td>\n",
       "      <td>not clear</td>\n",
       "      <td>pisces</td>\n",
       "    </tr>\n",
       "    <tr>\n",
       "      <th>4</th>\n",
       "      <td>aquarius</td>\n",
       "      <td>not clear</td>\n",
       "      <td>aquarius</td>\n",
       "    </tr>\n",
       "    <tr>\n",
       "      <th>...</th>\n",
       "      <td>...</td>\n",
       "      <td>...</td>\n",
       "      <td>...</td>\n",
       "    </tr>\n",
       "    <tr>\n",
       "      <th>16</th>\n",
       "      <td>pisces</td>\n",
       "      <td>doesn't matter</td>\n",
       "      <td>pisces but it doesn&amp;rsquo;t matter</td>\n",
       "    </tr>\n",
       "    <tr>\n",
       "      <th>17</th>\n",
       "      <td>aries</td>\n",
       "      <td>fun to think about</td>\n",
       "      <td>aries and it&amp;rsquo;s fun to think about</td>\n",
       "    </tr>\n",
       "    <tr>\n",
       "      <th>18</th>\n",
       "      <td>libra</td>\n",
       "      <td>doesn't matter</td>\n",
       "      <td>libra but it doesn&amp;rsquo;t matter</td>\n",
       "    </tr>\n",
       "    <tr>\n",
       "      <th>19</th>\n",
       "      <td>pisces</td>\n",
       "      <td>fun to think about</td>\n",
       "      <td>pisces and it&amp;rsquo;s fun to think about</td>\n",
       "    </tr>\n",
       "    <tr>\n",
       "      <th>20</th>\n",
       "      <td>libra</td>\n",
       "      <td>not clear</td>\n",
       "      <td>libra</td>\n",
       "    </tr>\n",
       "  </tbody>\n",
       "</table>\n",
       "<p>20 rows × 3 columns</p>\n",
       "</div>"
      ],
      "text/plain": [
       "        sign          importance                             original_text\n",
       "0     gemini           not clear                                    gemini\n",
       "1     cancer           not clear                                    cancer\n",
       "2     pisces      doesn't matter        pisces but it doesn&rsquo;t matter\n",
       "3     pisces           not clear                                    pisces\n",
       "4   aquarius           not clear                                  aquarius\n",
       "..       ...                 ...                                       ...\n",
       "16    pisces      doesn't matter        pisces but it doesn&rsquo;t matter\n",
       "17     aries  fun to think about   aries and it&rsquo;s fun to think about\n",
       "18     libra      doesn't matter         libra but it doesn&rsquo;t matter\n",
       "19    pisces  fun to think about  pisces and it&rsquo;s fun to think about\n",
       "20     libra           not clear                                     libra\n",
       "\n",
       "[20 rows x 3 columns]"
      ]
     },
     "execution_count": 547,
     "metadata": {},
     "output_type": "execute_result"
    }
   ],
   "source": [
    "df_sign.sign = df_sign.sign.apply(lambda x: x if ' ' not in x else x[:(x.find(' '))])\n",
    "\n",
    "df_sign.head(20)"
   ]
  },
  {
   "cell_type": "code",
   "execution_count": 548,
   "metadata": {},
   "outputs": [
    {
     "data": {
      "image/png": "[encoded data removed]",
      "text/plain": [
       "<Figure size 648x432 with 1 Axes>"
      ]
     },
     "metadata": {
      "needs_background": "light"
     },
     "output_type": "display_data"
    }
   ],
   "source": [
    "f, ax = plt.subplots(figsize = (9, 6))\n",
    "sns.countplot(x = df_sign.sign, hue = df_sign.importance)\n",
    "plt.title('Distribution of Astrological Sign grouped by Perceived Importance')\n",
    "plt.show()"
   ]
  },
  {
   "cell_type": "code",
   "execution_count": 549,
   "metadata": {
    "scrolled": true
   },
   "outputs": [
    {
     "name": "stdout",
     "output_type": "stream",
     "text": [
      "       sign      importance                       original_text\n",
      "0    gemini       not clear                              gemini\n",
      "1    cancer       not clear                              cancer\n",
      "2    pisces  doesn't matter  pisces but it doesn&rsquo;t matter\n",
      "3    pisces       not clear                              pisces\n",
      "4  aquarius       not clear                            aquarius\n"
     ]
    },
    {
     "data": {
      "text/plain": [
       "<matplotlib.axes._subplots.AxesSubplot at 0x7f9aa2ebed90>"
      ]
     },
     "execution_count": 549,
     "metadata": {},
     "output_type": "execute_result"
    },
    {
     "data": {
      "image/png": "[encoded data removed]",
      "text/plain": [
       "<Figure size 648x432 with 1 Axes>"
      ]
     },
     "metadata": {
      "needs_background": "light"
     },
     "output_type": "display_data"
    }
   ],
   "source": [
    "# Make a crosstab\n",
    "title = 'Distribution of Astrological Sign stacked by Perceived Importance'\n",
    "df_sign_xtab = pd.crosstab(df_sign.sign, df_sign.importance)\n",
    "print(df_sign.head())\n",
    "\n",
    "df_sign_xtab.plot(kind = 'bar', stacked = True, figsize = (9, 6), title = title)"
   ]
  },
  {
   "cell_type": "markdown",
   "metadata": {},
   "source": [
    "#### Analysis of Distribution of Signs\n",
    "As can be seen, the signs are roughly evenly distributed. Regarding importance, very few people are taking astrology too seriously, while there's a roughly equal amount of people not caring vs. thinking it's fun to think about."
   ]
  },
  {
   "cell_type": "markdown",
   "metadata": {},
   "source": [
    "### Question 2: Can education and location be used to predict income?\n",
    "\n",
    "To observe this question, we are going to analyze the distribution of `education`, `location`, and `income`"
   ]
  },
  {
   "cell_type": "code",
   "execution_count": 550,
   "metadata": {},
   "outputs": [
    {
     "data": {
      "text/html": [
       "<div>\n",
       "<style scoped>\n",
       "    .dataframe tbody tr th:only-of-type {\n",
       "        vertical-align: middle;\n",
       "    }\n",
       "\n",
       "    .dataframe tbody tr th {\n",
       "        vertical-align: top;\n",
       "    }\n",
       "\n",
       "    .dataframe thead th {\n",
       "        text-align: right;\n",
       "    }\n",
       "</style>\n",
       "<table border=\"1\" class=\"dataframe\">\n",
       "  <thead>\n",
       "    <tr style=\"text-align: right;\">\n",
       "      <th></th>\n",
       "      <th>education</th>\n",
       "      <th>income</th>\n",
       "      <th>job</th>\n",
       "      <th>location</th>\n",
       "    </tr>\n",
       "  </thead>\n",
       "  <tbody>\n",
       "    <tr>\n",
       "      <th>0</th>\n",
       "      <td>working on college/university</td>\n",
       "      <td>-1</td>\n",
       "      <td>transportation</td>\n",
       "      <td>south san francisco, california</td>\n",
       "    </tr>\n",
       "    <tr>\n",
       "      <th>1</th>\n",
       "      <td>working on space camp</td>\n",
       "      <td>80000</td>\n",
       "      <td>hospitality / travel</td>\n",
       "      <td>oakland, california</td>\n",
       "    </tr>\n",
       "    <tr>\n",
       "      <th>2</th>\n",
       "      <td>graduated from masters program</td>\n",
       "      <td>-1</td>\n",
       "      <td>NaN</td>\n",
       "      <td>san francisco, california</td>\n",
       "    </tr>\n",
       "    <tr>\n",
       "      <th>3</th>\n",
       "      <td>working on college/university</td>\n",
       "      <td>20000</td>\n",
       "      <td>student</td>\n",
       "      <td>berkeley, california</td>\n",
       "    </tr>\n",
       "    <tr>\n",
       "      <th>4</th>\n",
       "      <td>graduated from college/university</td>\n",
       "      <td>-1</td>\n",
       "      <td>artistic / musical / writer</td>\n",
       "      <td>san francisco, california</td>\n",
       "    </tr>\n",
       "  </tbody>\n",
       "</table>\n",
       "</div>"
      ],
      "text/plain": [
       "                           education  income                          job  \\\n",
       "0      working on college/university      -1               transportation   \n",
       "1              working on space camp   80000         hospitality / travel   \n",
       "2     graduated from masters program      -1                          NaN   \n",
       "3      working on college/university   20000                      student   \n",
       "4  graduated from college/university      -1  artistic / musical / writer   \n",
       "\n",
       "                          location  \n",
       "0  south san francisco, california  \n",
       "1              oakland, california  \n",
       "2        san francisco, california  \n",
       "3             berkeley, california  \n",
       "4        san francisco, california  "
      ]
     },
     "execution_count": 550,
     "metadata": {},
     "output_type": "execute_result"
    }
   ],
   "source": [
    "df2 = profiles[background]\n",
    "df2.head()"
   ]
  },
  {
   "cell_type": "markdown",
   "metadata": {},
   "source": [
    "####  Distribution of education\n",
    "\n",
    "Since the dataframe format was similar to the astrological sign, we are going to pivot the table in a similar way. We will group the institutions together, e.g. college, highschool, etc. Then we will creat a 'status' column to show if the person has graduated, dropped out, etc. "
   ]
  },
  {
   "cell_type": "code",
   "execution_count": 551,
   "metadata": {},
   "outputs": [
    {
     "name": "stdout",
     "output_type": "stream",
     "text": [
      "['working on college/university' 'working on space camp'\n",
      " 'graduated from masters program' 'graduated from college/university'\n",
      " 'working on two-year college' 'graduated from high school'\n",
      " 'working on masters program' 'graduated from space camp'\n",
      " 'college/university' 'dropped out of space camp'\n",
      " 'graduated from ph.d program' 'graduated from law school'\n",
      " 'working on ph.d program' 'two-year college'\n",
      " 'graduated from two-year college' 'working on med school'\n",
      " 'dropped out of college/university' 'space camp'\n",
      " 'graduated from med school' 'dropped out of high school'\n",
      " 'working on high school' 'masters program' 'dropped out of ph.d program'\n",
      " 'dropped out of two-year college' 'dropped out of med school'\n",
      " 'high school' 'working on law school' 'law school'\n",
      " 'dropped out of masters program' 'ph.d program'\n",
      " 'dropped out of law school' 'med school']\n"
     ]
    },
    {
     "name": "stderr",
     "output_type": "stream",
     "text": [
      "/opt/anaconda3/lib/python3.7/site-packages/ipykernel_launcher.py:2: SettingWithCopyWarning: \n",
      "A value is trying to be set on a copy of a slice from a DataFrame\n",
      "\n",
      "See the caveats in the documentation: https://pandas.pydata.org/pandas-docs/stable/user_guide/indexing.html#returning-a-view-versus-a-copy\n",
      "  \n"
     ]
    }
   ],
   "source": [
    "df_education = df2[['education']]\n",
    "df_education.dropna(inplace = True)\n",
    "print(df_education.education.unique())"
   ]
  },
  {
   "cell_type": "code",
   "execution_count": 552,
   "metadata": {},
   "outputs": [],
   "source": [
    "def find_edu_status(x):\n",
    "    if 'graduated' in x:\n",
    "        return 'graduated'\n",
    "    elif 'working' in x:\n",
    "        return 'in process'\n",
    "    elif 'dropped' in x:\n",
    "        return 'dropped out'\n",
    "    else:\n",
    "        return 'unspecified'"
   ]
  },
  {
   "cell_type": "code",
   "execution_count": 553,
   "metadata": {},
   "outputs": [
    {
     "name": "stderr",
     "output_type": "stream",
     "text": [
      "/opt/anaconda3/lib/python3.7/site-packages/ipykernel_launcher.py:1: SettingWithCopyWarning: \n",
      "A value is trying to be set on a copy of a slice from a DataFrame.\n",
      "Try using .loc[row_indexer,col_indexer] = value instead\n",
      "\n",
      "See the caveats in the documentation: https://pandas.pydata.org/pandas-docs/stable/user_guide/indexing.html#returning-a-view-versus-a-copy\n",
      "  \"\"\"Entry point for launching an IPython kernel.\n"
     ]
    },
    {
     "data": {
      "text/html": [
       "<div>\n",
       "<style scoped>\n",
       "    .dataframe tbody tr th:only-of-type {\n",
       "        vertical-align: middle;\n",
       "    }\n",
       "\n",
       "    .dataframe tbody tr th {\n",
       "        vertical-align: top;\n",
       "    }\n",
       "\n",
       "    .dataframe thead th {\n",
       "        text-align: right;\n",
       "    }\n",
       "</style>\n",
       "<table border=\"1\" class=\"dataframe\">\n",
       "  <thead>\n",
       "    <tr style=\"text-align: right;\">\n",
       "      <th></th>\n",
       "      <th>education</th>\n",
       "      <th>status</th>\n",
       "    </tr>\n",
       "  </thead>\n",
       "  <tbody>\n",
       "    <tr>\n",
       "      <th>0</th>\n",
       "      <td>working on college/university</td>\n",
       "      <td>in process</td>\n",
       "    </tr>\n",
       "    <tr>\n",
       "      <th>1</th>\n",
       "      <td>working on space camp</td>\n",
       "      <td>in process</td>\n",
       "    </tr>\n",
       "    <tr>\n",
       "      <th>2</th>\n",
       "      <td>graduated from masters program</td>\n",
       "      <td>graduated</td>\n",
       "    </tr>\n",
       "    <tr>\n",
       "      <th>3</th>\n",
       "      <td>working on college/university</td>\n",
       "      <td>in process</td>\n",
       "    </tr>\n",
       "    <tr>\n",
       "      <th>4</th>\n",
       "      <td>graduated from college/university</td>\n",
       "      <td>graduated</td>\n",
       "    </tr>\n",
       "  </tbody>\n",
       "</table>\n",
       "</div>"
      ],
      "text/plain": [
       "                           education      status\n",
       "0      working on college/university  in process\n",
       "1              working on space camp  in process\n",
       "2     graduated from masters program   graduated\n",
       "3      working on college/university  in process\n",
       "4  graduated from college/university   graduated"
      ]
     },
     "execution_count": 553,
     "metadata": {},
     "output_type": "execute_result"
    }
   ],
   "source": [
    "df_education['status'] = df_education.education.apply(find_edu_status)\n",
    "df_education.head()"
   ]
  },
  {
   "cell_type": "code",
   "execution_count": 554,
   "metadata": {},
   "outputs": [],
   "source": [
    "def find_edu_institution(x):\n",
    "    if (('working' in x) or ('graduated' in x)):\n",
    "        return ' '.join(x.split()[2:])\n",
    "    elif ('dropped' in x):\n",
    "        return ' '.join(x.split()[3:])\n",
    "    else:\n",
    "        return x"
   ]
  },
  {
   "cell_type": "code",
   "execution_count": 555,
   "metadata": {},
   "outputs": [
    {
     "name": "stdout",
     "output_type": "stream",
     "text": [
      "['college/university' 'space camp' 'masters program' 'two-year college'\n",
      " 'high school' 'ph.d program' 'law school' 'med school']\n"
     ]
    },
    {
     "name": "stderr",
     "output_type": "stream",
     "text": [
      "/opt/anaconda3/lib/python3.7/site-packages/ipykernel_launcher.py:1: SettingWithCopyWarning: \n",
      "A value is trying to be set on a copy of a slice from a DataFrame.\n",
      "Try using .loc[row_indexer,col_indexer] = value instead\n",
      "\n",
      "See the caveats in the documentation: https://pandas.pydata.org/pandas-docs/stable/user_guide/indexing.html#returning-a-view-versus-a-copy\n",
      "  \"\"\"Entry point for launching an IPython kernel.\n",
      "/opt/anaconda3/lib/python3.7/site-packages/pandas/core/generic.py:5303: SettingWithCopyWarning: \n",
      "A value is trying to be set on a copy of a slice from a DataFrame.\n",
      "Try using .loc[row_indexer,col_indexer] = value instead\n",
      "\n",
      "See the caveats in the documentation: https://pandas.pydata.org/pandas-docs/stable/user_guide/indexing.html#returning-a-view-versus-a-copy\n",
      "  self[name] = value\n"
     ]
    }
   ],
   "source": [
    "df_education['original_text'] = df_education['education']\n",
    "df_education.education = df_education.education.apply(find_edu_institution)\n",
    "print(df_education.education.unique())"
   ]
  },
  {
   "cell_type": "code",
   "execution_count": 556,
   "metadata": {},
   "outputs": [
    {
     "data": {
      "image/png": "[encoded data removed]",
      "text/plain": [
       "<Figure size 648x432 with 1 Axes>"
      ]
     },
     "metadata": {
      "needs_background": "light"
     },
     "output_type": "display_data"
    }
   ],
   "source": [
    "f, ax = plt.subplots(figsize = (9, 6))\n",
    "sns.countplot(x = df_education.education, hue = df_education.status)\n",
    "plt.title('Distribution of Education grouped by Completion Status')\n",
    "plt.xticks(rotation = 30)\n",
    "plt.show()"
   ]
  },
  {
   "cell_type": "code",
   "execution_count": 557,
   "metadata": {},
   "outputs": [
    {
     "name": "stdout",
     "output_type": "stream",
     "text": [
      "status              dropped out  graduated  in process  unspecified\n",
      "education                                                          \n",
      "college/university     0.031620   0.761401    0.181524     0.025455\n",
      "high school            0.059545   0.833625    0.050788     0.056042\n",
      "law school             0.012605   0.785714    0.188375     0.013305\n",
      "masters program        0.012821   0.820604    0.154121     0.012454\n",
      "med school             0.017621   0.654919    0.311307     0.016153\n",
      "ph.d program           0.052741   0.528239    0.408223     0.010797\n",
      "space camp             0.310755   0.390374    0.264409     0.034462\n",
      "two-year college       0.063287   0.507290    0.355865     0.073559\n"
     ]
    },
    {
     "data": {
      "text/plain": [
       "<matplotlib.axes._subplots.AxesSubplot at 0x7f9aa4a853d0>"
      ]
     },
     "execution_count": 557,
     "metadata": {},
     "output_type": "execute_result"
    },
    {
     "data": {
      "image/png": "[encoded data removed]",
      "text/plain": [
       "<Figure size 648x432 with 1 Axes>"
      ]
     },
     "metadata": {
      "needs_background": "light"
     },
     "output_type": "display_data"
    }
   ],
   "source": [
    "# Make a crosstab\n",
    "title = 'Distribution of Education stacked by Completion Status'\n",
    "df_education_xtab = pd.crosstab(df_education.education, df_education.status)\n",
    "print(df_education_xtab.apply(lambda r: r/r.sum(), axis=1))\n",
    "\n",
    "df_education_xtab.plot(kind = 'bar', stacked = True, figsize = (9, 6), title = title)"
   ]
  },
  {
   "cell_type": "markdown",
   "metadata": {},
   "source": [
    "#### Analysis of Distribution of Education\n",
    "\n",
    "College / University take up a notably higher proportion than other educaiton institutions, with masters program being second, followed by two-year colleges and phd programs. \n",
    "\n",
    "As seen, most of the users are graduated, while roughly 20% of users are in process for each instiution. This can reflect the age of the user group as well."
   ]
  },
  {
   "cell_type": "markdown",
   "metadata": {},
   "source": [
    "#### Distribution of Location\n",
    "\n",
    "This should be easier to analyze. We are going to use a simple bar chart. Since the data is a little too specific for visualization, we are going to omit the state and only graph the state / country."
   ]
  },
  {
   "cell_type": "code",
   "execution_count": 558,
   "metadata": {
    "scrolled": true
   },
   "outputs": [
    {
     "name": "stdout",
     "output_type": "stream",
     "text": [
      "['south san francisco, california' 'oakland, california'\n",
      " 'san francisco, california' 'berkeley, california'\n",
      " 'belvedere tiburon, california' 'san mateo, california'\n",
      " 'daly city, california' 'san leandro, california' 'atherton, california'\n",
      " 'san rafael, california' 'walnut creek, california'\n",
      " 'menlo park, california' 'belmont, california' 'san jose, california'\n",
      " 'palo alto, california' 'emeryville, california' 'el granada, california'\n",
      " 'castro valley, california' 'fairfax, california'\n",
      " 'mountain view, california' 'burlingame, california'\n",
      " 'martinez, california' 'pleasant hill, california' 'hayward, california'\n",
      " 'alameda, california' 'vallejo, california' 'benicia, california'\n",
      " 'el cerrito, california' 'mill valley, california' 'richmond, california'\n",
      " 'redwood city, california' 'el sobrante, california'\n",
      " 'stanford, california' 'san pablo, california' 'novato, california'\n",
      " 'pacifica, california' 'lafayette, california'\n",
      " 'half moon bay, california' 'fremont, california' 'orinda, california'\n",
      " 'san anselmo, california' 'corte madera, california' 'albany, california'\n",
      " 'san carlos, california' 'san lorenzo, california'\n",
      " 'foster city, california' 'hercules, california' 'santa cruz, california'\n",
      " 'bolinas, california' 'sausalito, california' 'millbrae, california'\n",
      " 'larkspur, california' 'moraga, california' 'san bruno, california'\n",
      " 'petaluma, california' 'pinole, california' 'san geronimo, california'\n",
      " 'crockett, california' 'boulder, colorado' 'brisbane, california'\n",
      " 'freedom, california' 'montara, california' 'green brae, california'\n",
      " 'woodside, california' 'new york, new york' 'ross, california'\n",
      " 'east palo alto, california' 'san quentin, california' 'portland, oregon'\n",
      " 'rodeo, california' 'hacienda heights, california' 'woodacre, california'\n",
      " 'westlake, california' 'riverside, california' 'rohnert park, california'\n",
      " 'sacramento, california' 'point richmond, california'\n",
      " 'san diego, california' 'canyon country, california' 'tucson, arizona'\n",
      " 'honolulu, hawaii' 'billings, montana' 'west oakland, california'\n",
      " 'kentfield, california' 'milwaukee, wisconsin' 'woodbridge, virginia'\n",
      " 'glencove, california' 'tiburon, california' 'madrid, spain'\n",
      " 'las vegas, nevada' 'peoria, illinois' 'santa monica, california'\n",
      " 'bellwood, illinois' 'los angeles, california' 'moss beach, california'\n",
      " 'nha trang, vietnam' 'hillsborough, california' 'olema, california'\n",
      " 'union city, california' 'colma, california' 'cork, ireland'\n",
      " 'new orleans, louisiana' 'kensington, california'\n",
      " 'redwood shores, california' 'utica, michigan' 'brea, california'\n",
      " 'lagunitas, california' 'stinson beach, california'\n",
      " 'santa clara, california' 'studio city, california' 'concord, california'\n",
      " 'piedmont, california' 'grand rapids, michigan' 'seaside, california'\n",
      " 'leander, texas' 'forest knolls, california' 'edinburgh, united kingdom'\n",
      " 'magalia, california' 'london, united kingdom' 'astoria, new york'\n",
      " 'chicago, illinois' 'orange, california' 'south wellfleet, massachusetts'\n",
      " 'bayshore, california' 'asheville, north carolina'\n",
      " 'los gatos, california' 'boise, idaho' 'islip terrace, new york'\n",
      " 'sunnyvale, california' 'cambridge, massachusetts' 'lake orion, michigan'\n",
      " 'ozone park, new york' 'jackson, mississippi' 'ashland, california'\n",
      " 'south orange, new jersey' 'fort lauderdale, florida'\n",
      " 'minneapolis, minnesota' 'pasadena, california' 'atlanta, georgia'\n",
      " 'salt lake city, utah' 'arcadia, california' 'milpitas, california'\n",
      " 'san antonio, texas' 'port costa, california' 'nicasio, california'\n",
      " 'livingston, california' 'bellingham, washington' 'crowley, texas'\n",
      " 'boston, massachusetts' 'longwood, florida' 'fayetteville, west virginia'\n",
      " 'granite bay, california' 'isla vista, california' 'hilarita, california'\n",
      " 'campbell, california' 'stratford, connecticut' 'santa ana, california'\n",
      " 'santa rosa, california' 'kula, hawaii' 'murfreesboro, tennessee'\n",
      " 'brooklyn, new york' 'north hollywood, california'\n",
      " 'nevada city, california' 'providence, rhode island'\n",
      " 'stockton, california' 'marin city, california'\n",
      " 'washington, district of columbia' 'waterford, california'\n",
      " 'vancouver, british columbia, canada' 'muir beach, california'\n",
      " 'pacheco, california' 'irvine, california' 'kansas city, missouri'\n",
      " 'kassel, germany' 'canyon, california' 'philadelphia, pennsylvania'\n",
      " 'oceanview, california' 'long beach, new york' 'amsterdam, netherlands'\n",
      " 'taunton, massachusetts' 'napa, california' 'austin, texas'\n",
      " 'san luis obispo, california' 'modesto, california'\n",
      " 'bonaduz, switzerland' 'costa mesa, california' 'guadalajara, mexico'\n",
      " 'oakley, california' 'columbus, ohio' 'chico, california'\n",
      " 'south lake tahoe, california' 'vacaville, california' 'miami, florida'\n",
      " 'long beach, california' 'denver, colorado' 'seattle, washington'\n",
      " 'cincinnati, ohio' 'phoenix, arizona' 'rochester, michigan']\n"
     ]
    }
   ],
   "source": [
    "print(df2.location.unique())"
   ]
  },
  {
   "cell_type": "code",
   "execution_count": 559,
   "metadata": {},
   "outputs": [
    {
     "name": "stdout",
     "output_type": "stream",
     "text": [
      "['california' 'colorado' 'new york' 'oregon' 'arizona' 'hawaii' 'montana'\n",
      " 'wisconsin' 'virginia' 'spain' 'nevada' 'illinois' 'vietnam' 'ireland'\n",
      " 'louisiana' 'michigan' 'texas' 'united kingdom' 'massachusetts'\n",
      " 'north carolina' 'idaho' 'mississippi' 'new jersey' 'florida' 'minnesota'\n",
      " 'georgia' 'utah' 'washington' 'west virginia' 'connecticut' 'tennessee'\n",
      " 'rhode island' 'district of columbia' 'british columbia, canada'\n",
      " 'missouri' 'germany' 'pennsylvania' 'netherlands' 'switzerland' 'mexico'\n",
      " 'ohio']\n",
      "Index(['state', 'original_text'], dtype='object')\n"
     ]
    },
    {
     "data": {
      "text/html": [
       "<div>\n",
       "<style scoped>\n",
       "    .dataframe tbody tr th:only-of-type {\n",
       "        vertical-align: middle;\n",
       "    }\n",
       "\n",
       "    .dataframe tbody tr th {\n",
       "        vertical-align: top;\n",
       "    }\n",
       "\n",
       "    .dataframe thead th {\n",
       "        text-align: right;\n",
       "    }\n",
       "</style>\n",
       "<table border=\"1\" class=\"dataframe\">\n",
       "  <thead>\n",
       "    <tr style=\"text-align: right;\">\n",
       "      <th></th>\n",
       "      <th>state</th>\n",
       "      <th>original_text</th>\n",
       "    </tr>\n",
       "  </thead>\n",
       "  <tbody>\n",
       "    <tr>\n",
       "      <th>0</th>\n",
       "      <td>california</td>\n",
       "      <td>south san francisco, california</td>\n",
       "    </tr>\n",
       "    <tr>\n",
       "      <th>1</th>\n",
       "      <td>california</td>\n",
       "      <td>oakland, california</td>\n",
       "    </tr>\n",
       "    <tr>\n",
       "      <th>2</th>\n",
       "      <td>california</td>\n",
       "      <td>san francisco, california</td>\n",
       "    </tr>\n",
       "    <tr>\n",
       "      <th>3</th>\n",
       "      <td>california</td>\n",
       "      <td>berkeley, california</td>\n",
       "    </tr>\n",
       "    <tr>\n",
       "      <th>4</th>\n",
       "      <td>california</td>\n",
       "      <td>san francisco, california</td>\n",
       "    </tr>\n",
       "  </tbody>\n",
       "</table>\n",
       "</div>"
      ],
      "text/plain": [
       "        state                    original_text\n",
       "0  california  south san francisco, california\n",
       "1  california              oakland, california\n",
       "2  california        san francisco, california\n",
       "3  california             berkeley, california\n",
       "4  california        san francisco, california"
      ]
     },
     "execution_count": 559,
     "metadata": {},
     "output_type": "execute_result"
    }
   ],
   "source": [
    "df_location_state = df2[['location']].loc[:]\n",
    "df_location_state['original_text'] = df_location_state.location\n",
    "df_location_state.location = df_location_state.location.apply\\\n",
    "            (lambda x: x[(x.find(',') + 2) : ])\n",
    "print(df_location_state.location.unique())\n",
    "\n",
    "\n",
    "df_location_state.rename(columns = {'location': 'state'}, inplace = True)\n",
    "print(df_location_state.columns)\n",
    "df_location_state.head()"
   ]
  },
  {
   "cell_type": "code",
   "execution_count": 560,
   "metadata": {},
   "outputs": [
    {
     "data": {
      "text/html": [
       "<div>\n",
       "<style scoped>\n",
       "    .dataframe tbody tr th:only-of-type {\n",
       "        vertical-align: middle;\n",
       "    }\n",
       "\n",
       "    .dataframe tbody tr th {\n",
       "        vertical-align: top;\n",
       "    }\n",
       "\n",
       "    .dataframe thead th {\n",
       "        text-align: right;\n",
       "    }\n",
       "</style>\n",
       "<table border=\"1\" class=\"dataframe\">\n",
       "  <thead>\n",
       "    <tr style=\"text-align: right;\">\n",
       "      <th></th>\n",
       "      <th>original_text</th>\n",
       "    </tr>\n",
       "    <tr>\n",
       "      <th>state</th>\n",
       "      <th></th>\n",
       "    </tr>\n",
       "  </thead>\n",
       "  <tbody>\n",
       "    <tr>\n",
       "      <th>arizona</th>\n",
       "      <td>3</td>\n",
       "    </tr>\n",
       "    <tr>\n",
       "      <th>british columbia, canada</th>\n",
       "      <td>1</td>\n",
       "    </tr>\n",
       "    <tr>\n",
       "      <th>california</th>\n",
       "      <td>59855</td>\n",
       "    </tr>\n",
       "    <tr>\n",
       "      <th>colorado</th>\n",
       "      <td>2</td>\n",
       "    </tr>\n",
       "    <tr>\n",
       "      <th>connecticut</th>\n",
       "      <td>1</td>\n",
       "    </tr>\n",
       "    <tr>\n",
       "      <th>...</th>\n",
       "      <td>...</td>\n",
       "    </tr>\n",
       "    <tr>\n",
       "      <th>vietnam</th>\n",
       "      <td>1</td>\n",
       "    </tr>\n",
       "    <tr>\n",
       "      <th>virginia</th>\n",
       "      <td>2</td>\n",
       "    </tr>\n",
       "    <tr>\n",
       "      <th>washington</th>\n",
       "      <td>2</td>\n",
       "    </tr>\n",
       "    <tr>\n",
       "      <th>west virginia</th>\n",
       "      <td>1</td>\n",
       "    </tr>\n",
       "    <tr>\n",
       "      <th>wisconsin</th>\n",
       "      <td>1</td>\n",
       "    </tr>\n",
       "  </tbody>\n",
       "</table>\n",
       "<p>41 rows × 1 columns</p>\n",
       "</div>"
      ],
      "text/plain": [
       "                          original_text\n",
       "state                                  \n",
       "arizona                               3\n",
       "british columbia, canada              1\n",
       "california                        59855\n",
       "colorado                              2\n",
       "connecticut                           1\n",
       "...                                 ...\n",
       "vietnam                               1\n",
       "virginia                              2\n",
       "washington                            2\n",
       "west virginia                         1\n",
       "wisconsin                             1\n",
       "\n",
       "[41 rows x 1 columns]"
      ]
     },
     "execution_count": 560,
     "metadata": {},
     "output_type": "execute_result"
    }
   ],
   "source": [
    "#df_location_state_groupby = df_location_state.groupby('state')\n",
    "\n",
    "df_location_state_pivot = df_location_state.pivot_table(index = 'state', \\\n",
    "                                                  values = 'original_text', aggfunc = 'count')\n",
    "\n",
    "df_location_state_pivot"
   ]
  },
  {
   "cell_type": "code",
   "execution_count": 561,
   "metadata": {},
   "outputs": [
    {
     "name": "stdout",
     "output_type": "stream",
     "text": [
      "         state       original_text\n",
      "1336  colorado   boulder, colorado\n",
      "2819  new york  new york, new york\n",
      "4332    oregon    portland, oregon\n",
      "6728    oregon    portland, oregon\n",
      "6881   arizona     tucson, arizona\n"
     ]
    },
    {
     "data": {
      "image/png": "[encoded data removed]",
      "text/plain": [
       "<Figure size 648x432 with 1 Axes>"
      ]
     },
     "metadata": {
      "needs_background": "light"
     },
     "output_type": "display_data"
    }
   ],
   "source": [
    "f, ax = plt.subplots(figsize = (9, 6))\n",
    "df_location_state_noca = df_location_state[df_location_state.state != 'california']\n",
    "print(df_location_state_noca.head())\n",
    "sns.countplot(df_location_state_noca.state)\n",
    "plt.title('Distribution of State Without California')\n",
    "plt.xticks(rotation = 40)\n",
    "plt.show()"
   ]
  },
  {
   "cell_type": "markdown",
   "metadata": {},
   "source": [
    "#### Analysis of Distribution of Location\n",
    "\n",
    "Obviously, Califiornia has the most users. Perhaps it has to do with how the data is collected. After eliminating California, we can see that many states have single digit counts. I conjecture that this data is taken in California, so an overwhelming majority of respondents are from California.\n",
    "\n",
    "This tells us that location will not be such a useful feature in our ML model. We have too few samples for other states to generate any statistical significance."
   ]
  },
  {
   "cell_type": "markdown",
   "metadata": {},
   "source": [
    "#### Distribution of Income\n",
    "\n",
    "Since income is continuous data, it is a lot easier to plot. We can use a histogram.\n",
    "\n",
    "However, note that many users have income of -1. This dataset is not given with much explanation, but I'm assuming it means the user did not fill in a value. I confirmed this after checking that there is no NaN value in income."
   ]
  },
  {
   "cell_type": "code",
   "execution_count": 562,
   "metadata": {},
   "outputs": [
    {
     "name": "stdout",
     "output_type": "stream",
     "text": [
      "count      59946.000000\n",
      "mean       20033.222534\n",
      "std        97346.192104\n",
      "min           -1.000000\n",
      "25%           -1.000000\n",
      "50%           -1.000000\n",
      "75%           -1.000000\n",
      "max      1000000.000000\n",
      "Name: income, dtype: float64\n"
     ]
    }
   ],
   "source": [
    "# Brief summary statistics\n",
    "print(df2.income.describe())"
   ]
  },
  {
   "cell_type": "code",
   "execution_count": 563,
   "metadata": {},
   "outputs": [
    {
     "name": "stdout",
     "output_type": "stream",
     "text": [
      "59946\n",
      "59946\n"
     ]
    }
   ],
   "source": [
    "df_income = df2[['income']][:]\n",
    "print(len(df_income))\n",
    "df_income.dropna()\n",
    "print(len(df_income))"
   ]
  },
  {
   "cell_type": "code",
   "execution_count": 564,
   "metadata": {},
   "outputs": [
    {
     "name": "stdout",
     "output_type": "stream",
     "text": [
      "11504\n"
     ]
    }
   ],
   "source": [
    "print(len(df_income[df_income.income != -1]))"
   ]
  },
  {
   "cell_type": "markdown",
   "metadata": {},
   "source": [
    "Note that the code above showed that only 11504 out of 59946 people chose to fill in their income."
   ]
  },
  {
   "cell_type": "code",
   "execution_count": 565,
   "metadata": {},
   "outputs": [
    {
     "name": "stdout",
     "output_type": "stream",
     "text": [
      "               income\n",
      "count    11504.000000\n",
      "mean    104394.993046\n",
      "std     201433.528307\n",
      "min      20000.000000\n",
      "25%      20000.000000\n",
      "50%      50000.000000\n",
      "75%     100000.000000\n",
      "max    1000000.000000\n"
     ]
    },
    {
     "data": {
      "text/html": [
       "<div>\n",
       "<style scoped>\n",
       "    .dataframe tbody tr th:only-of-type {\n",
       "        vertical-align: middle;\n",
       "    }\n",
       "\n",
       "    .dataframe tbody tr th {\n",
       "        vertical-align: top;\n",
       "    }\n",
       "\n",
       "    .dataframe thead th {\n",
       "        text-align: right;\n",
       "    }\n",
       "</style>\n",
       "<table border=\"1\" class=\"dataframe\">\n",
       "  <thead>\n",
       "    <tr style=\"text-align: right;\">\n",
       "      <th></th>\n",
       "      <th>income</th>\n",
       "    </tr>\n",
       "  </thead>\n",
       "  <tbody>\n",
       "    <tr>\n",
       "      <th>1</th>\n",
       "      <td>80000</td>\n",
       "    </tr>\n",
       "    <tr>\n",
       "      <th>3</th>\n",
       "      <td>20000</td>\n",
       "    </tr>\n",
       "    <tr>\n",
       "      <th>11</th>\n",
       "      <td>40000</td>\n",
       "    </tr>\n",
       "    <tr>\n",
       "      <th>13</th>\n",
       "      <td>30000</td>\n",
       "    </tr>\n",
       "    <tr>\n",
       "      <th>14</th>\n",
       "      <td>50000</td>\n",
       "    </tr>\n",
       "  </tbody>\n",
       "</table>\n",
       "</div>"
      ],
      "text/plain": [
       "    income\n",
       "1    80000\n",
       "3    20000\n",
       "11   40000\n",
       "13   30000\n",
       "14   50000"
      ]
     },
     "execution_count": 565,
     "metadata": {},
     "output_type": "execute_result"
    }
   ],
   "source": [
    "df_income_filled = df_income[df_income.income!= -1]\n",
    "print(df_income_filled.describe())\n",
    "df_income_filled.head()"
   ]
  },
  {
   "cell_type": "code",
   "execution_count": 566,
   "metadata": {},
   "outputs": [
    {
     "data": {
      "image/png": "[encoded data removed]",
      "text/plain": [
       "<Figure size 648x432 with 1 Axes>"
      ]
     },
     "metadata": {
      "needs_background": "light"
     },
     "output_type": "display_data"
    }
   ],
   "source": [
    "f, ax = plt.subplots(figsize = (9, 6))\n",
    "plt.hist(df_income_filled.income, bins = 70)\n",
    "plt.show()"
   ]
  },
  {
   "cell_type": "markdown",
   "metadata": {},
   "source": [
    "#### Analysis of Distribution of Income\n",
    "\n",
    "As seen, half of the people have income from 20000 to 50000, and 75% have income below 100000. However, we get about 500 users with income at 10000000. The distribution is certainly right skewed.\n",
    "\n",
    "Also note that almost 80% of the users chose not to fill out the income."
   ]
  },
  {
   "cell_type": "markdown",
   "metadata": {},
   "source": [
    "### Step 3: Data Preprocessing and Preparation"
   ]
  },
  {
   "cell_type": "markdown",
   "metadata": {},
   "source": [
    "### Question 1: Can habits, beliefs, & preferences be used to predict someone's astrological sign?\n",
    "\n",
    "We have `habits, beliefs, & preferences` as the features, and `sign` as the labels. Since this is a clsssification with categorical variables, we gotta make sure to change some of those to dummies."
   ]
  },
  {
   "cell_type": "markdown",
   "metadata": {},
   "source": [
    "#### Label: Astrological Sign\n",
    "\n",
    "Recall that we have an almost preprocessed dataset. We are going to make the classification simple and ignore importance."
   ]
  },
  {
   "cell_type": "code",
   "execution_count": 567,
   "metadata": {},
   "outputs": [
    {
     "data": {
      "text/html": [
       "<div>\n",
       "<style scoped>\n",
       "    .dataframe tbody tr th:only-of-type {\n",
       "        vertical-align: middle;\n",
       "    }\n",
       "\n",
       "    .dataframe tbody tr th {\n",
       "        vertical-align: top;\n",
       "    }\n",
       "\n",
       "    .dataframe thead th {\n",
       "        text-align: right;\n",
       "    }\n",
       "</style>\n",
       "<table border=\"1\" class=\"dataframe\">\n",
       "  <thead>\n",
       "    <tr style=\"text-align: right;\">\n",
       "      <th></th>\n",
       "      <th>sign</th>\n",
       "      <th>importance</th>\n",
       "      <th>original_text</th>\n",
       "    </tr>\n",
       "  </thead>\n",
       "  <tbody>\n",
       "    <tr>\n",
       "      <th>0</th>\n",
       "      <td>gemini</td>\n",
       "      <td>not clear</td>\n",
       "      <td>gemini</td>\n",
       "    </tr>\n",
       "    <tr>\n",
       "      <th>1</th>\n",
       "      <td>cancer</td>\n",
       "      <td>not clear</td>\n",
       "      <td>cancer</td>\n",
       "    </tr>\n",
       "    <tr>\n",
       "      <th>2</th>\n",
       "      <td>pisces</td>\n",
       "      <td>doesn't matter</td>\n",
       "      <td>pisces but it doesn&amp;rsquo;t matter</td>\n",
       "    </tr>\n",
       "    <tr>\n",
       "      <th>3</th>\n",
       "      <td>pisces</td>\n",
       "      <td>not clear</td>\n",
       "      <td>pisces</td>\n",
       "    </tr>\n",
       "    <tr>\n",
       "      <th>4</th>\n",
       "      <td>aquarius</td>\n",
       "      <td>not clear</td>\n",
       "      <td>aquarius</td>\n",
       "    </tr>\n",
       "    <tr>\n",
       "      <th>...</th>\n",
       "      <td>...</td>\n",
       "      <td>...</td>\n",
       "      <td>...</td>\n",
       "    </tr>\n",
       "    <tr>\n",
       "      <th>59941</th>\n",
       "      <td>cancer</td>\n",
       "      <td>fun to think about</td>\n",
       "      <td>cancer and it&amp;rsquo;s fun to think about</td>\n",
       "    </tr>\n",
       "    <tr>\n",
       "      <th>59942</th>\n",
       "      <td>leo</td>\n",
       "      <td>doesn't matter</td>\n",
       "      <td>leo but it doesn&amp;rsquo;t matter</td>\n",
       "    </tr>\n",
       "    <tr>\n",
       "      <th>59943</th>\n",
       "      <td>sagittarius</td>\n",
       "      <td>doesn't matter</td>\n",
       "      <td>sagittarius but it doesn&amp;rsquo;t matter</td>\n",
       "    </tr>\n",
       "    <tr>\n",
       "      <th>59944</th>\n",
       "      <td>leo</td>\n",
       "      <td>fun to think about</td>\n",
       "      <td>leo and it&amp;rsquo;s fun to think about</td>\n",
       "    </tr>\n",
       "    <tr>\n",
       "      <th>59945</th>\n",
       "      <td>gemini</td>\n",
       "      <td>fun to think about</td>\n",
       "      <td>gemini and it&amp;rsquo;s fun to think about</td>\n",
       "    </tr>\n",
       "  </tbody>\n",
       "</table>\n",
       "<p>48890 rows × 3 columns</p>\n",
       "</div>"
      ],
      "text/plain": [
       "              sign          importance  \\\n",
       "0           gemini           not clear   \n",
       "1           cancer           not clear   \n",
       "2           pisces      doesn't matter   \n",
       "3           pisces           not clear   \n",
       "4         aquarius           not clear   \n",
       "...            ...                 ...   \n",
       "59941       cancer  fun to think about   \n",
       "59942          leo      doesn't matter   \n",
       "59943  sagittarius      doesn't matter   \n",
       "59944          leo  fun to think about   \n",
       "59945       gemini  fun to think about   \n",
       "\n",
       "                                  original_text  \n",
       "0                                        gemini  \n",
       "1                                        cancer  \n",
       "2            pisces but it doesn&rsquo;t matter  \n",
       "3                                        pisces  \n",
       "4                                      aquarius  \n",
       "...                                         ...  \n",
       "59941  cancer and it&rsquo;s fun to think about  \n",
       "59942           leo but it doesn&rsquo;t matter  \n",
       "59943   sagittarius but it doesn&rsquo;t matter  \n",
       "59944     leo and it&rsquo;s fun to think about  \n",
       "59945  gemini and it&rsquo;s fun to think about  \n",
       "\n",
       "[48890 rows x 3 columns]"
      ]
     },
     "execution_count": 567,
     "metadata": {},
     "output_type": "execute_result"
    }
   ],
   "source": [
    "df_sign"
   ]
  },
  {
   "cell_type": "code",
   "execution_count": 568,
   "metadata": {},
   "outputs": [
    {
     "name": "stdout",
     "output_type": "stream",
     "text": [
      "0\n",
      "48890\n"
     ]
    },
    {
     "data": {
      "text/html": [
       "<div>\n",
       "<style scoped>\n",
       "    .dataframe tbody tr th:only-of-type {\n",
       "        vertical-align: middle;\n",
       "    }\n",
       "\n",
       "    .dataframe tbody tr th {\n",
       "        vertical-align: top;\n",
       "    }\n",
       "\n",
       "    .dataframe thead th {\n",
       "        text-align: right;\n",
       "    }\n",
       "</style>\n",
       "<table border=\"1\" class=\"dataframe\">\n",
       "  <thead>\n",
       "    <tr style=\"text-align: right;\">\n",
       "      <th></th>\n",
       "      <th>sign</th>\n",
       "    </tr>\n",
       "  </thead>\n",
       "  <tbody>\n",
       "    <tr>\n",
       "      <th>0</th>\n",
       "      <td>gemini</td>\n",
       "    </tr>\n",
       "    <tr>\n",
       "      <th>1</th>\n",
       "      <td>cancer</td>\n",
       "    </tr>\n",
       "    <tr>\n",
       "      <th>2</th>\n",
       "      <td>pisces</td>\n",
       "    </tr>\n",
       "    <tr>\n",
       "      <th>3</th>\n",
       "      <td>pisces</td>\n",
       "    </tr>\n",
       "    <tr>\n",
       "      <th>4</th>\n",
       "      <td>aquarius</td>\n",
       "    </tr>\n",
       "  </tbody>\n",
       "</table>\n",
       "</div>"
      ],
      "text/plain": [
       "       sign\n",
       "0    gemini\n",
       "1    cancer\n",
       "2    pisces\n",
       "3    pisces\n",
       "4  aquarius"
      ]
     },
     "execution_count": 568,
     "metadata": {},
     "output_type": "execute_result"
    }
   ],
   "source": [
    "q1_label = df_sign[['sign']]\n",
    "print(q1_label.sign.isna().sum())\n",
    "print(len(df_sign))\n",
    "q1_label.head()"
   ]
  },
  {
   "cell_type": "markdown",
   "metadata": {},
   "source": [
    "#### Feature: Habits, Beliefs & Preferences\n",
    "\n",
    "Earlier we have craeted a `df1` with the related columns. Let's take a look at that."
   ]
  },
  {
   "cell_type": "code",
   "execution_count": 569,
   "metadata": {},
   "outputs": [
    {
     "name": "stdout",
     "output_type": "stream",
     "text": [
      "Index(['diet', 'drinks', 'drugs', 'job', 'offspring', 'pets', 'religion',\n",
      "       'smokes', 'speaks', 'sign'],\n",
      "      dtype='object')\n"
     ]
    },
    {
     "data": {
      "text/html": [
       "<div>\n",
       "<style scoped>\n",
       "    .dataframe tbody tr th:only-of-type {\n",
       "        vertical-align: middle;\n",
       "    }\n",
       "\n",
       "    .dataframe tbody tr th {\n",
       "        vertical-align: top;\n",
       "    }\n",
       "\n",
       "    .dataframe thead th {\n",
       "        text-align: right;\n",
       "    }\n",
       "</style>\n",
       "<table border=\"1\" class=\"dataframe\">\n",
       "  <thead>\n",
       "    <tr style=\"text-align: right;\">\n",
       "      <th></th>\n",
       "      <th>diet</th>\n",
       "      <th>drinks</th>\n",
       "      <th>drugs</th>\n",
       "      <th>job</th>\n",
       "      <th>offspring</th>\n",
       "      <th>pets</th>\n",
       "      <th>religion</th>\n",
       "      <th>smokes</th>\n",
       "      <th>speaks</th>\n",
       "      <th>sign</th>\n",
       "    </tr>\n",
       "  </thead>\n",
       "  <tbody>\n",
       "    <tr>\n",
       "      <th>0</th>\n",
       "      <td>strictly anything</td>\n",
       "      <td>socially</td>\n",
       "      <td>never</td>\n",
       "      <td>transportation</td>\n",
       "      <td>doesn&amp;rsquo;t have kids, but might want them</td>\n",
       "      <td>likes dogs and likes cats</td>\n",
       "      <td>agnosticism and very serious about it</td>\n",
       "      <td>sometimes</td>\n",
       "      <td>english</td>\n",
       "      <td>gemini</td>\n",
       "    </tr>\n",
       "    <tr>\n",
       "      <th>1</th>\n",
       "      <td>mostly other</td>\n",
       "      <td>often</td>\n",
       "      <td>sometimes</td>\n",
       "      <td>hospitality / travel</td>\n",
       "      <td>doesn&amp;rsquo;t have kids, but might want them</td>\n",
       "      <td>likes dogs and likes cats</td>\n",
       "      <td>agnosticism but not too serious about it</td>\n",
       "      <td>no</td>\n",
       "      <td>english (fluently), spanish (poorly), french (...</td>\n",
       "      <td>cancer</td>\n",
       "    </tr>\n",
       "    <tr>\n",
       "      <th>2</th>\n",
       "      <td>anything</td>\n",
       "      <td>socially</td>\n",
       "      <td>NaN</td>\n",
       "      <td>NaN</td>\n",
       "      <td>NaN</td>\n",
       "      <td>has cats</td>\n",
       "      <td>NaN</td>\n",
       "      <td>no</td>\n",
       "      <td>english, french, c++</td>\n",
       "      <td>pisces but it doesn&amp;rsquo;t matter</td>\n",
       "    </tr>\n",
       "    <tr>\n",
       "      <th>3</th>\n",
       "      <td>vegetarian</td>\n",
       "      <td>socially</td>\n",
       "      <td>NaN</td>\n",
       "      <td>student</td>\n",
       "      <td>doesn&amp;rsquo;t want kids</td>\n",
       "      <td>likes cats</td>\n",
       "      <td>NaN</td>\n",
       "      <td>no</td>\n",
       "      <td>english, german (poorly)</td>\n",
       "      <td>pisces</td>\n",
       "    </tr>\n",
       "    <tr>\n",
       "      <th>4</th>\n",
       "      <td>NaN</td>\n",
       "      <td>socially</td>\n",
       "      <td>never</td>\n",
       "      <td>artistic / musical / writer</td>\n",
       "      <td>NaN</td>\n",
       "      <td>likes dogs and likes cats</td>\n",
       "      <td>NaN</td>\n",
       "      <td>no</td>\n",
       "      <td>english</td>\n",
       "      <td>aquarius</td>\n",
       "    </tr>\n",
       "  </tbody>\n",
       "</table>\n",
       "</div>"
      ],
      "text/plain": [
       "                diet    drinks      drugs                          job  \\\n",
       "0  strictly anything  socially      never               transportation   \n",
       "1       mostly other     often  sometimes         hospitality / travel   \n",
       "2           anything  socially        NaN                          NaN   \n",
       "3         vegetarian  socially        NaN                      student   \n",
       "4                NaN  socially      never  artistic / musical / writer   \n",
       "\n",
       "                                      offspring                       pets  \\\n",
       "0  doesn&rsquo;t have kids, but might want them  likes dogs and likes cats   \n",
       "1  doesn&rsquo;t have kids, but might want them  likes dogs and likes cats   \n",
       "2                                           NaN                   has cats   \n",
       "3                       doesn&rsquo;t want kids                 likes cats   \n",
       "4                                           NaN  likes dogs and likes cats   \n",
       "\n",
       "                                   religion     smokes  \\\n",
       "0     agnosticism and very serious about it  sometimes   \n",
       "1  agnosticism but not too serious about it         no   \n",
       "2                                       NaN         no   \n",
       "3                                       NaN         no   \n",
       "4                                       NaN         no   \n",
       "\n",
       "                                              speaks  \\\n",
       "0                                            english   \n",
       "1  english (fluently), spanish (poorly), french (...   \n",
       "2                               english, french, c++   \n",
       "3                           english, german (poorly)   \n",
       "4                                            english   \n",
       "\n",
       "                                 sign  \n",
       "0                              gemini  \n",
       "1                              cancer  \n",
       "2  pisces but it doesn&rsquo;t matter  \n",
       "3                              pisces  \n",
       "4                            aquarius  "
      ]
     },
     "execution_count": 569,
     "metadata": {},
     "output_type": "execute_result"
    }
   ],
   "source": [
    "print(df1.columns)\n",
    "df1.head()"
   ]
  },
  {
   "cell_type": "code",
   "execution_count": 570,
   "metadata": {},
   "outputs": [
    {
     "name": "stdout",
     "output_type": "stream",
     "text": [
      "diet         18770\n",
      "drinks        1526\n",
      "drugs        11333\n",
      "job           4961\n",
      "offspring    27852\n",
      "pets         13718\n",
      "religion     14130\n",
      "smokes        3604\n",
      "dtype: int64\n",
      "48890\n"
     ]
    },
    {
     "data": {
      "text/html": [
       "<div>\n",
       "<style scoped>\n",
       "    .dataframe tbody tr th:only-of-type {\n",
       "        vertical-align: middle;\n",
       "    }\n",
       "\n",
       "    .dataframe tbody tr th {\n",
       "        vertical-align: top;\n",
       "    }\n",
       "\n",
       "    .dataframe thead th {\n",
       "        text-align: right;\n",
       "    }\n",
       "</style>\n",
       "<table border=\"1\" class=\"dataframe\">\n",
       "  <thead>\n",
       "    <tr style=\"text-align: right;\">\n",
       "      <th></th>\n",
       "      <th>diet</th>\n",
       "      <th>drinks</th>\n",
       "      <th>drugs</th>\n",
       "      <th>job</th>\n",
       "      <th>offspring</th>\n",
       "      <th>pets</th>\n",
       "      <th>religion</th>\n",
       "      <th>smokes</th>\n",
       "    </tr>\n",
       "  </thead>\n",
       "  <tbody>\n",
       "    <tr>\n",
       "      <th>0</th>\n",
       "      <td>strictly anything</td>\n",
       "      <td>socially</td>\n",
       "      <td>never</td>\n",
       "      <td>transportation</td>\n",
       "      <td>doesn&amp;rsquo;t have kids, but might want them</td>\n",
       "      <td>likes dogs and likes cats</td>\n",
       "      <td>agnosticism and very serious about it</td>\n",
       "      <td>sometimes</td>\n",
       "    </tr>\n",
       "    <tr>\n",
       "      <th>1</th>\n",
       "      <td>mostly other</td>\n",
       "      <td>often</td>\n",
       "      <td>sometimes</td>\n",
       "      <td>hospitality / travel</td>\n",
       "      <td>doesn&amp;rsquo;t have kids, but might want them</td>\n",
       "      <td>likes dogs and likes cats</td>\n",
       "      <td>agnosticism but not too serious about it</td>\n",
       "      <td>no</td>\n",
       "    </tr>\n",
       "    <tr>\n",
       "      <th>2</th>\n",
       "      <td>anything</td>\n",
       "      <td>socially</td>\n",
       "      <td>NaN</td>\n",
       "      <td>NaN</td>\n",
       "      <td>NaN</td>\n",
       "      <td>has cats</td>\n",
       "      <td>NaN</td>\n",
       "      <td>no</td>\n",
       "    </tr>\n",
       "    <tr>\n",
       "      <th>3</th>\n",
       "      <td>vegetarian</td>\n",
       "      <td>socially</td>\n",
       "      <td>NaN</td>\n",
       "      <td>student</td>\n",
       "      <td>doesn&amp;rsquo;t want kids</td>\n",
       "      <td>likes cats</td>\n",
       "      <td>NaN</td>\n",
       "      <td>no</td>\n",
       "    </tr>\n",
       "    <tr>\n",
       "      <th>4</th>\n",
       "      <td>NaN</td>\n",
       "      <td>socially</td>\n",
       "      <td>never</td>\n",
       "      <td>artistic / musical / writer</td>\n",
       "      <td>NaN</td>\n",
       "      <td>likes dogs and likes cats</td>\n",
       "      <td>NaN</td>\n",
       "      <td>no</td>\n",
       "    </tr>\n",
       "    <tr>\n",
       "      <th>...</th>\n",
       "      <td>...</td>\n",
       "      <td>...</td>\n",
       "      <td>...</td>\n",
       "      <td>...</td>\n",
       "      <td>...</td>\n",
       "      <td>...</td>\n",
       "      <td>...</td>\n",
       "      <td>...</td>\n",
       "    </tr>\n",
       "    <tr>\n",
       "      <th>59941</th>\n",
       "      <td>NaN</td>\n",
       "      <td>socially</td>\n",
       "      <td>never</td>\n",
       "      <td>sales / marketing / biz dev</td>\n",
       "      <td>has kids</td>\n",
       "      <td>has dogs</td>\n",
       "      <td>catholicism but not too serious about it</td>\n",
       "      <td>no</td>\n",
       "    </tr>\n",
       "    <tr>\n",
       "      <th>59942</th>\n",
       "      <td>mostly anything</td>\n",
       "      <td>often</td>\n",
       "      <td>sometimes</td>\n",
       "      <td>entertainment / media</td>\n",
       "      <td>doesn&amp;rsquo;t have kids</td>\n",
       "      <td>likes dogs and likes cats</td>\n",
       "      <td>agnosticism</td>\n",
       "      <td>no</td>\n",
       "    </tr>\n",
       "    <tr>\n",
       "      <th>59943</th>\n",
       "      <td>mostly anything</td>\n",
       "      <td>not at all</td>\n",
       "      <td>never</td>\n",
       "      <td>construction / craftsmanship</td>\n",
       "      <td>doesn&amp;rsquo;t have kids</td>\n",
       "      <td>NaN</td>\n",
       "      <td>christianity but not too serious about it</td>\n",
       "      <td>no</td>\n",
       "    </tr>\n",
       "    <tr>\n",
       "      <th>59944</th>\n",
       "      <td>mostly anything</td>\n",
       "      <td>socially</td>\n",
       "      <td>often</td>\n",
       "      <td>medicine / health</td>\n",
       "      <td>doesn&amp;rsquo;t have kids, but wants them</td>\n",
       "      <td>likes dogs and likes cats</td>\n",
       "      <td>agnosticism but not too serious about it</td>\n",
       "      <td>trying to quit</td>\n",
       "    </tr>\n",
       "    <tr>\n",
       "      <th>59945</th>\n",
       "      <td>NaN</td>\n",
       "      <td>socially</td>\n",
       "      <td>NaN</td>\n",
       "      <td>medicine / health</td>\n",
       "      <td>NaN</td>\n",
       "      <td>likes dogs and likes cats</td>\n",
       "      <td>catholicism and laughing about it</td>\n",
       "      <td>sometimes</td>\n",
       "    </tr>\n",
       "  </tbody>\n",
       "</table>\n",
       "<p>48890 rows × 8 columns</p>\n",
       "</div>"
      ],
      "text/plain": [
       "                    diet      drinks      drugs                           job  \\\n",
       "0      strictly anything    socially      never                transportation   \n",
       "1           mostly other       often  sometimes          hospitality / travel   \n",
       "2               anything    socially        NaN                           NaN   \n",
       "3             vegetarian    socially        NaN                       student   \n",
       "4                    NaN    socially      never   artistic / musical / writer   \n",
       "...                  ...         ...        ...                           ...   \n",
       "59941                NaN    socially      never   sales / marketing / biz dev   \n",
       "59942    mostly anything       often  sometimes         entertainment / media   \n",
       "59943    mostly anything  not at all      never  construction / craftsmanship   \n",
       "59944    mostly anything    socially      often             medicine / health   \n",
       "59945                NaN    socially        NaN             medicine / health   \n",
       "\n",
       "                                          offspring  \\\n",
       "0      doesn&rsquo;t have kids, but might want them   \n",
       "1      doesn&rsquo;t have kids, but might want them   \n",
       "2                                               NaN   \n",
       "3                           doesn&rsquo;t want kids   \n",
       "4                                               NaN   \n",
       "...                                             ...   \n",
       "59941                                      has kids   \n",
       "59942                       doesn&rsquo;t have kids   \n",
       "59943                       doesn&rsquo;t have kids   \n",
       "59944       doesn&rsquo;t have kids, but wants them   \n",
       "59945                                           NaN   \n",
       "\n",
       "                            pets                                   religion  \\\n",
       "0      likes dogs and likes cats      agnosticism and very serious about it   \n",
       "1      likes dogs and likes cats   agnosticism but not too serious about it   \n",
       "2                       has cats                                        NaN   \n",
       "3                     likes cats                                        NaN   \n",
       "4      likes dogs and likes cats                                        NaN   \n",
       "...                          ...                                        ...   \n",
       "59941                   has dogs   catholicism but not too serious about it   \n",
       "59942  likes dogs and likes cats                                agnosticism   \n",
       "59943                        NaN  christianity but not too serious about it   \n",
       "59944  likes dogs and likes cats   agnosticism but not too serious about it   \n",
       "59945  likes dogs and likes cats          catholicism and laughing about it   \n",
       "\n",
       "               smokes  \n",
       "0           sometimes  \n",
       "1                  no  \n",
       "2                  no  \n",
       "3                  no  \n",
       "4                  no  \n",
       "...               ...  \n",
       "59941              no  \n",
       "59942              no  \n",
       "59943              no  \n",
       "59944  trying to quit  \n",
       "59945       sometimes  \n",
       "\n",
       "[48890 rows x 8 columns]"
      ]
     },
     "execution_count": 570,
     "metadata": {},
     "output_type": "execute_result"
    }
   ],
   "source": [
    "# we gotta drop the ones with nan as signs to keep it consistent with the feature dataframe\n",
    "hbp = df1.drop(columns = ['speaks'])\n",
    "hbp.dropna(subset = ['sign'], inplace = True)\n",
    "\n",
    "hbp.drop(columns = ['sign'], inplace = True)\n",
    "print(hbp.isna().sum())\n",
    "print(len(hbp))\n",
    "hbp"
   ]
  },
  {
   "cell_type": "markdown",
   "metadata": {},
   "source": [
    "There are quite a few null values. Let's think about what to fill in.\n",
    "\n",
    "- For diet, we can assume generally that no response means the user doesn't care much, so it's an anything.\n",
    "- For drinks and drugs, we can call it 'not disclosed'. It also tells a lot about a person's habits.\n",
    "- For offspring, similarly, we can call it 'no plans yet'\n",
    "- For pets, we can assume it means doesn't have any pets, and no preferences. (Note the pet column should be cleaned a bit more).\n",
    "- For religion and smoke, simialry, 'not disclosed'\n",
    "- For speaks, let's just drop them since it's only 50.\n",
    "\n",
    "After careful consideration, I'm going to drop; the entire `speaks` column. For two reasons.\n",
    "1. Language shows more of where you are from, and not exactly part of lifestyle.\n",
    "2. This data is too hard to clean, and once made into dummy variables, are going to create a hundred or so columns."
   ]
  },
  {
   "cell_type": "code",
   "execution_count": 571,
   "metadata": {},
   "outputs": [
    {
     "name": "stdout",
     "output_type": "stream",
     "text": [
      "['strictly anything' 'mostly other' 'anything' 'vegetarian' nan\n",
      " 'mostly anything' 'mostly vegetarian' 'strictly vegan'\n",
      " 'strictly vegetarian' 'mostly vegan' 'strictly other' 'mostly halal'\n",
      " 'other' 'vegan' 'mostly kosher' 'strictly halal' 'halal'\n",
      " 'strictly kosher' 'kosher']\n",
      "48890\n"
     ]
    }
   ],
   "source": [
    "print(hbp.diet.unique())\n",
    "hbp.diet.fillna('anything', inplace = True)\n",
    "hbp.drinks.fillna('not disclosed', inplace = True)\n",
    "hbp.drugs.fillna('not disclosed', inplace = True)\n",
    "hbp.offspring.fillna('unplanned yet', inplace = True)\n",
    "hbp.pets.fillna('not disclosed', inplace = True)\n",
    "hbp.religion.fillna('not disclosed', inplace = True)\n",
    "hbp.smokes.fillna('not disclosed', inplace = True)\n",
    "hbp.job.fillna('not disclosed', inplace = True)\n",
    "\n",
    "print(len(hbp))\n"
   ]
  },
  {
   "cell_type": "markdown",
   "metadata": {},
   "source": [
    "#### Cleaning the religion column\n",
    "Let's preprocess the religion column, as having too many subcategories affects classificaiton."
   ]
  },
  {
   "cell_type": "code",
   "execution_count": 572,
   "metadata": {
    "scrolled": true
   },
   "outputs": [
    {
     "name": "stdout",
     "output_type": "stream",
     "text": [
      "['agnosticism and very serious about it'\n",
      " 'agnosticism but not too serious about it' 'not disclosed' 'atheism'\n",
      " 'christianity' 'christianity but not too serious about it'\n",
      " 'atheism and laughing about it' 'christianity and very serious about it'\n",
      " 'other' 'catholicism' 'catholicism but not too serious about it'\n",
      " 'catholicism and somewhat serious about it'\n",
      " 'agnosticism and somewhat serious about it'\n",
      " 'catholicism and laughing about it' 'agnosticism and laughing about it'\n",
      " 'agnosticism' 'atheism and somewhat serious about it'\n",
      " 'buddhism but not too serious about it'\n",
      " 'other but not too serious about it' 'other and laughing about it'\n",
      " 'buddhism and laughing about it' 'other and somewhat serious about it'\n",
      " 'other and very serious about it' 'hinduism but not too serious about it'\n",
      " 'atheism but not too serious about it' 'judaism'\n",
      " 'christianity and somewhat serious about it' 'buddhism'\n",
      " 'judaism but not too serious about it'\n",
      " 'hinduism and very serious about it' 'judaism and laughing about it'\n",
      " 'christianity and laughing about it' 'hinduism and laughing about it'\n",
      " 'buddhism and somewhat serious about it'\n",
      " 'atheism and very serious about it' 'islam and very serious about it'\n",
      " 'hinduism' 'judaism and somewhat serious about it'\n",
      " 'catholicism and very serious about it'\n",
      " 'judaism and very serious about it' 'islam'\n",
      " 'hinduism and somewhat serious about it'\n",
      " 'islam but not too serious about it' 'buddhism and very serious about it'\n",
      " 'islam and laughing about it' 'islam and somewhat serious about it']\n",
      "not disclosed                               14130\n",
      "other                                        2439\n",
      "agnosticism but not too serious about it     2382\n",
      "agnosticism and laughing about it            2245\n",
      "agnosticism                                  2227\n",
      "                                            ...  \n",
      "judaism and very serious about it              20\n",
      "islam and somewhat serious about it            19\n",
      "islam and laughing about it                    15\n",
      "hinduism and very serious about it             13\n",
      "islam and very serious about it                13\n",
      "Name: religion, Length: 46, dtype: int64\n"
     ]
    }
   ],
   "source": [
    "print(hbp.religion.unique())\n",
    "print(hbp.religion.value_counts())"
   ]
  },
  {
   "cell_type": "code",
   "execution_count": 573,
   "metadata": {},
   "outputs": [],
   "source": [
    "hbp['religion_cleaned'] = hbp.religion.apply(lambda x:\\\n",
    "                                            x.split()[0] if x != 'not disclosed' else x)"
   ]
  },
  {
   "cell_type": "code",
   "execution_count": 574,
   "metadata": {},
   "outputs": [
    {
     "name": "stdout",
     "output_type": "stream",
     "text": [
      "['likes dogs and likes cats' 'has cats' 'likes cats' 'not disclosed'\n",
      " 'likes dogs and has cats' 'likes dogs and dislikes cats' 'has dogs'\n",
      " 'has dogs and dislikes cats' 'has dogs and likes cats' 'likes dogs'\n",
      " 'has dogs and has cats' 'dislikes dogs and has cats'\n",
      " 'dislikes dogs and dislikes cats' 'dislikes cats'\n",
      " 'dislikes dogs and likes cats' 'dislikes dogs']\n"
     ]
    }
   ],
   "source": [
    "print(hbp.pets.unique())\n"
   ]
  },
  {
   "cell_type": "markdown",
   "metadata": {},
   "source": [
    "#### Cleaning the pets column\n",
    "\n",
    "Since the pets columns are a bit messy, let's clean it. The statuses can be summed up to:\n",
    "- likes dogs\n",
    "- has dogs\n",
    "- likes cats\n",
    "- has cats\n",
    "- dislikes dogs\n",
    "- dislikes cats\n",
    "- not disclosed\n",
    "Let's set these as dummy variables and clean it up."
   ]
  },
  {
   "cell_type": "code",
   "execution_count": 575,
   "metadata": {},
   "outputs": [
    {
     "name": "stdout",
     "output_type": "stream",
     "text": [
      "48890\n"
     ]
    },
    {
     "data": {
      "text/html": [
       "<div>\n",
       "<style scoped>\n",
       "    .dataframe tbody tr th:only-of-type {\n",
       "        vertical-align: middle;\n",
       "    }\n",
       "\n",
       "    .dataframe tbody tr th {\n",
       "        vertical-align: top;\n",
       "    }\n",
       "\n",
       "    .dataframe thead th {\n",
       "        text-align: right;\n",
       "    }\n",
       "</style>\n",
       "<table border=\"1\" class=\"dataframe\">\n",
       "  <thead>\n",
       "    <tr style=\"text-align: right;\">\n",
       "      <th></th>\n",
       "      <th>pets</th>\n",
       "      <th>likes_dogs</th>\n",
       "      <th>likes_cats</th>\n",
       "      <th>has_dogs</th>\n",
       "      <th>has_cats</th>\n",
       "      <th>dislikes_dogs</th>\n",
       "      <th>dislikes_cats</th>\n",
       "      <th>pet_not_disclosed</th>\n",
       "    </tr>\n",
       "  </thead>\n",
       "  <tbody>\n",
       "    <tr>\n",
       "      <th>0</th>\n",
       "      <td>likes dogs and likes cats</td>\n",
       "      <td>1</td>\n",
       "      <td>1</td>\n",
       "      <td>0</td>\n",
       "      <td>0</td>\n",
       "      <td>0</td>\n",
       "      <td>0</td>\n",
       "      <td>0</td>\n",
       "    </tr>\n",
       "    <tr>\n",
       "      <th>1</th>\n",
       "      <td>likes dogs and likes cats</td>\n",
       "      <td>1</td>\n",
       "      <td>1</td>\n",
       "      <td>0</td>\n",
       "      <td>0</td>\n",
       "      <td>0</td>\n",
       "      <td>0</td>\n",
       "      <td>0</td>\n",
       "    </tr>\n",
       "    <tr>\n",
       "      <th>2</th>\n",
       "      <td>has cats</td>\n",
       "      <td>0</td>\n",
       "      <td>0</td>\n",
       "      <td>0</td>\n",
       "      <td>1</td>\n",
       "      <td>0</td>\n",
       "      <td>0</td>\n",
       "      <td>0</td>\n",
       "    </tr>\n",
       "    <tr>\n",
       "      <th>3</th>\n",
       "      <td>likes cats</td>\n",
       "      <td>0</td>\n",
       "      <td>1</td>\n",
       "      <td>0</td>\n",
       "      <td>0</td>\n",
       "      <td>0</td>\n",
       "      <td>0</td>\n",
       "      <td>0</td>\n",
       "    </tr>\n",
       "    <tr>\n",
       "      <th>4</th>\n",
       "      <td>likes dogs and likes cats</td>\n",
       "      <td>1</td>\n",
       "      <td>1</td>\n",
       "      <td>0</td>\n",
       "      <td>0</td>\n",
       "      <td>0</td>\n",
       "      <td>0</td>\n",
       "      <td>0</td>\n",
       "    </tr>\n",
       "  </tbody>\n",
       "</table>\n",
       "</div>"
      ],
      "text/plain": [
       "                        pets  likes_dogs  likes_cats  has_dogs  has_cats  \\\n",
       "0  likes dogs and likes cats           1           1         0         0   \n",
       "1  likes dogs and likes cats           1           1         0         0   \n",
       "2                   has cats           0           0         0         1   \n",
       "3                 likes cats           0           1         0         0   \n",
       "4  likes dogs and likes cats           1           1         0         0   \n",
       "\n",
       "   dislikes_dogs  dislikes_cats  pet_not_disclosed  \n",
       "0              0              0                  0  \n",
       "1              0              0                  0  \n",
       "2              0              0                  0  \n",
       "3              0              0                  0  \n",
       "4              0              0                  0  "
      ]
     },
     "execution_count": 575,
     "metadata": {},
     "output_type": "execute_result"
    }
   ],
   "source": [
    "hbp['likes_dogs'] = hbp.pets.apply\\\n",
    "    (lambda x: 1 if ('likes dogs' in x and 'dislikes' not in x) else 0)\n",
    "hbp['likes_cats'] = hbp.pets.apply\\\n",
    "    (lambda x: 1 if ('likes cats' in x and 'dislikes' not in x) else 0)\n",
    "hbp['has_dogs'] = hbp.pets.apply\\\n",
    "    (lambda x: 1 if ('has dogs' in x) else 0)\n",
    "hbp['has_cats'] = hbp.pets.apply\\\n",
    "    (lambda x: 1 if ('has cats' in x) else 0)\n",
    "hbp['dislikes_dogs'] = hbp.pets.apply\\\n",
    "    (lambda x: 1 if ('dislikes dogs' in x) else 0)\n",
    "hbp['dislikes_cats'] = hbp.pets.apply\\\n",
    "    (lambda x: 1 if ('dislikes_cats' in x) else 0)\n",
    "hbp['pet_not_disclosed'] = hbp.pets.apply\\\n",
    "    (lambda x: 1 if ('not_disclosed' in x) else 0)\n",
    "print(len(hbp))\n",
    "hbp.head()[['pets', 'likes_dogs', 'likes_cats', 'has_dogs', 'has_cats', 'dislikes_dogs', \\\n",
    "             'dislikes_cats', 'pet_not_disclosed']]\n"
   ]
  },
  {
   "cell_type": "markdown",
   "metadata": {},
   "source": [
    "Now it's time to set dummy variables for the rest"
   ]
  },
  {
   "cell_type": "code",
   "execution_count": 576,
   "metadata": {},
   "outputs": [
    {
     "data": {
      "text/html": [
       "<div>\n",
       "<style scoped>\n",
       "    .dataframe tbody tr th:only-of-type {\n",
       "        vertical-align: middle;\n",
       "    }\n",
       "\n",
       "    .dataframe tbody tr th {\n",
       "        vertical-align: top;\n",
       "    }\n",
       "\n",
       "    .dataframe thead th {\n",
       "        text-align: right;\n",
       "    }\n",
       "</style>\n",
       "<table border=\"1\" class=\"dataframe\">\n",
       "  <thead>\n",
       "    <tr style=\"text-align: right;\">\n",
       "      <th></th>\n",
       "      <th>likes_dogs</th>\n",
       "      <th>likes_cats</th>\n",
       "      <th>has_dogs</th>\n",
       "      <th>has_cats</th>\n",
       "      <th>dislikes_dogs</th>\n",
       "      <th>dislikes_cats</th>\n",
       "      <th>pet_not_disclosed</th>\n",
       "      <th>...</th>\n",
       "      <th>religion_cleaned_other</th>\n",
       "      <th>smokes_no</th>\n",
       "      <th>smokes_not disclosed</th>\n",
       "      <th>smokes_sometimes</th>\n",
       "      <th>smokes_trying to quit</th>\n",
       "      <th>smokes_when drinking</th>\n",
       "      <th>smokes_yes</th>\n",
       "    </tr>\n",
       "  </thead>\n",
       "  <tbody>\n",
       "    <tr>\n",
       "      <th>0</th>\n",
       "      <td>1</td>\n",
       "      <td>1</td>\n",
       "      <td>0</td>\n",
       "      <td>0</td>\n",
       "      <td>0</td>\n",
       "      <td>0</td>\n",
       "      <td>0</td>\n",
       "      <td>...</td>\n",
       "      <td>0</td>\n",
       "      <td>0</td>\n",
       "      <td>0</td>\n",
       "      <td>1</td>\n",
       "      <td>0</td>\n",
       "      <td>0</td>\n",
       "      <td>0</td>\n",
       "    </tr>\n",
       "    <tr>\n",
       "      <th>1</th>\n",
       "      <td>1</td>\n",
       "      <td>1</td>\n",
       "      <td>0</td>\n",
       "      <td>0</td>\n",
       "      <td>0</td>\n",
       "      <td>0</td>\n",
       "      <td>0</td>\n",
       "      <td>...</td>\n",
       "      <td>0</td>\n",
       "      <td>1</td>\n",
       "      <td>0</td>\n",
       "      <td>0</td>\n",
       "      <td>0</td>\n",
       "      <td>0</td>\n",
       "      <td>0</td>\n",
       "    </tr>\n",
       "    <tr>\n",
       "      <th>2</th>\n",
       "      <td>0</td>\n",
       "      <td>0</td>\n",
       "      <td>0</td>\n",
       "      <td>1</td>\n",
       "      <td>0</td>\n",
       "      <td>0</td>\n",
       "      <td>0</td>\n",
       "      <td>...</td>\n",
       "      <td>0</td>\n",
       "      <td>1</td>\n",
       "      <td>0</td>\n",
       "      <td>0</td>\n",
       "      <td>0</td>\n",
       "      <td>0</td>\n",
       "      <td>0</td>\n",
       "    </tr>\n",
       "    <tr>\n",
       "      <th>3</th>\n",
       "      <td>0</td>\n",
       "      <td>1</td>\n",
       "      <td>0</td>\n",
       "      <td>0</td>\n",
       "      <td>0</td>\n",
       "      <td>0</td>\n",
       "      <td>0</td>\n",
       "      <td>...</td>\n",
       "      <td>0</td>\n",
       "      <td>1</td>\n",
       "      <td>0</td>\n",
       "      <td>0</td>\n",
       "      <td>0</td>\n",
       "      <td>0</td>\n",
       "      <td>0</td>\n",
       "    </tr>\n",
       "    <tr>\n",
       "      <th>4</th>\n",
       "      <td>1</td>\n",
       "      <td>1</td>\n",
       "      <td>0</td>\n",
       "      <td>0</td>\n",
       "      <td>0</td>\n",
       "      <td>0</td>\n",
       "      <td>0</td>\n",
       "      <td>...</td>\n",
       "      <td>0</td>\n",
       "      <td>1</td>\n",
       "      <td>0</td>\n",
       "      <td>0</td>\n",
       "      <td>0</td>\n",
       "      <td>0</td>\n",
       "      <td>0</td>\n",
       "    </tr>\n",
       "  </tbody>\n",
       "</table>\n",
       "<p>5 rows × 90 columns</p>\n",
       "</div>"
      ],
      "text/plain": [
       "   likes_dogs  likes_cats  has_dogs  has_cats  dislikes_dogs  dislikes_cats  \\\n",
       "0           1           1         0         0              0              0   \n",
       "1           1           1         0         0              0              0   \n",
       "2           0           0         0         1              0              0   \n",
       "3           0           1         0         0              0              0   \n",
       "4           1           1         0         0              0              0   \n",
       "\n",
       "   pet_not_disclosed  ...  religion_cleaned_other  smokes_no  \\\n",
       "0                  0  ...                       0          0   \n",
       "1                  0  ...                       0          1   \n",
       "2                  0  ...                       0          1   \n",
       "3                  0  ...                       0          1   \n",
       "4                  0  ...                       0          1   \n",
       "\n",
       "   smokes_not disclosed  smokes_sometimes  smokes_trying to quit  \\\n",
       "0                     0                 1                      0   \n",
       "1                     0                 0                      0   \n",
       "2                     0                 0                      0   \n",
       "3                     0                 0                      0   \n",
       "4                     0                 0                      0   \n",
       "\n",
       "   smokes_when drinking  smokes_yes  \n",
       "0                     0           0  \n",
       "1                     0           0  \n",
       "2                     0           0  \n",
       "3                     0           0  \n",
       "4                     0           0  \n",
       "\n",
       "[5 rows x 90 columns]"
      ]
     },
     "execution_count": 576,
     "metadata": {},
     "output_type": "execute_result"
    }
   ],
   "source": [
    "cols = ['diet', 'drinks', 'drugs', 'job', 'offspring', 'religion_cleaned', 'smokes']\n",
    "q1_feature = hbp.drop(columns = 'pets')\n",
    "\n",
    "for col in cols:\n",
    "    q1_feature = pd.get_dummies(q1_feature, columns = [col], prefix = [col])\n",
    "q1_feature.drop(columns = ['religion'], inplace = True)\n",
    "q1_feature.head()"
   ]
  },
  {
   "cell_type": "code",
   "execution_count": 577,
   "metadata": {},
   "outputs": [
    {
     "name": "stdout",
     "output_type": "stream",
     "text": [
      "['likes_dogs', 'likes_cats', 'has_dogs', 'has_cats', 'dislikes_dogs', 'dislikes_cats', 'pet_not_disclosed', 'diet_anything', 'diet_halal', 'diet_kosher', 'diet_mostly anything', 'diet_mostly halal', 'diet_mostly kosher', 'diet_mostly other', 'diet_mostly vegan', 'diet_mostly vegetarian', 'diet_other', 'diet_strictly anything', 'diet_strictly halal', 'diet_strictly kosher', 'diet_strictly other', 'diet_strictly vegan', 'diet_strictly vegetarian', 'diet_vegan', 'diet_vegetarian', 'drinks_desperately', 'drinks_not at all', 'drinks_not disclosed', 'drinks_often', 'drinks_rarely', 'drinks_socially', 'drinks_very often', 'drugs_never', 'drugs_not disclosed', 'drugs_often', 'drugs_sometimes', 'job_artistic / musical / writer', 'job_banking / financial / real estate', 'job_clerical / administrative', 'job_computer / hardware / software', 'job_construction / craftsmanship', 'job_education / academia', 'job_entertainment / media', 'job_executive / management', 'job_hospitality / travel', 'job_law / legal services', 'job_medicine / health', 'job_military', 'job_not disclosed', 'job_other', 'job_political / government', 'job_rather not say', 'job_retired', 'job_sales / marketing / biz dev', 'job_science / tech / engineering', 'job_student', 'job_transportation', 'job_unemployed', 'offspring_doesn&rsquo;t have kids', 'offspring_doesn&rsquo;t have kids, and doesn&rsquo;t want any', 'offspring_doesn&rsquo;t have kids, but might want them', 'offspring_doesn&rsquo;t have kids, but wants them', 'offspring_doesn&rsquo;t want kids', 'offspring_has a kid', 'offspring_has a kid, and might want more', 'offspring_has a kid, and wants more', 'offspring_has a kid, but doesn&rsquo;t want more', 'offspring_has kids', 'offspring_has kids, and might want more', 'offspring_has kids, and wants more', 'offspring_has kids, but doesn&rsquo;t want more', 'offspring_might want kids', 'offspring_unplanned yet', 'offspring_wants kids', 'religion_cleaned_agnosticism', 'religion_cleaned_atheism', 'religion_cleaned_buddhism', 'religion_cleaned_catholicism', 'religion_cleaned_christianity', 'religion_cleaned_hinduism', 'religion_cleaned_islam', 'religion_cleaned_judaism', 'religion_cleaned_not disclosed', 'religion_cleaned_other', 'smokes_no', 'smokes_not disclosed', 'smokes_sometimes', 'smokes_trying to quit', 'smokes_when drinking', 'smokes_yes']\n"
     ]
    }
   ],
   "source": [
    "pd.set_option('display.max_columns', 15)\n",
    "pd.set_option('display.max_rows', 10)\n",
    "\n",
    "print(q1_feature.columns.tolist())"
   ]
  },
  {
   "cell_type": "markdown",
   "metadata": {},
   "source": [
    "### Question 2. Can education and location be used to predict income?\n",
    "\n",
    "After finding out that this dataset is collected in San Fransisco, California, we can conclude that the location column is basically useless. \n",
    "\n",
    "The `education` variable is ordinal categorical, so we can try to get some kind of ranking to that.\n",
    "\n",
    "We are gonna add in `age` and `job` to see if it is better.\n",
    "\n",
    "Let's re-preprocess our columns. "
   ]
  },
  {
   "cell_type": "code",
   "execution_count": 578,
   "metadata": {},
   "outputs": [
    {
     "data": {
      "text/html": [
       "<div>\n",
       "<style scoped>\n",
       "    .dataframe tbody tr th:only-of-type {\n",
       "        vertical-align: middle;\n",
       "    }\n",
       "\n",
       "    .dataframe tbody tr th {\n",
       "        vertical-align: top;\n",
       "    }\n",
       "\n",
       "    .dataframe thead th {\n",
       "        text-align: right;\n",
       "    }\n",
       "</style>\n",
       "<table border=\"1\" class=\"dataframe\">\n",
       "  <thead>\n",
       "    <tr style=\"text-align: right;\">\n",
       "      <th></th>\n",
       "      <th>age</th>\n",
       "      <th>education</th>\n",
       "      <th>job</th>\n",
       "      <th>income</th>\n",
       "    </tr>\n",
       "  </thead>\n",
       "  <tbody>\n",
       "    <tr>\n",
       "      <th>0</th>\n",
       "      <td>22</td>\n",
       "      <td>working on college/university</td>\n",
       "      <td>transportation</td>\n",
       "      <td>-1</td>\n",
       "    </tr>\n",
       "    <tr>\n",
       "      <th>1</th>\n",
       "      <td>35</td>\n",
       "      <td>working on space camp</td>\n",
       "      <td>hospitality / travel</td>\n",
       "      <td>80000</td>\n",
       "    </tr>\n",
       "    <tr>\n",
       "      <th>2</th>\n",
       "      <td>38</td>\n",
       "      <td>graduated from masters program</td>\n",
       "      <td>NaN</td>\n",
       "      <td>-1</td>\n",
       "    </tr>\n",
       "    <tr>\n",
       "      <th>3</th>\n",
       "      <td>23</td>\n",
       "      <td>working on college/university</td>\n",
       "      <td>student</td>\n",
       "      <td>20000</td>\n",
       "    </tr>\n",
       "    <tr>\n",
       "      <th>4</th>\n",
       "      <td>29</td>\n",
       "      <td>graduated from college/university</td>\n",
       "      <td>artistic / musical / writer</td>\n",
       "      <td>-1</td>\n",
       "    </tr>\n",
       "    <tr>\n",
       "      <th>...</th>\n",
       "      <td>...</td>\n",
       "      <td>...</td>\n",
       "      <td>...</td>\n",
       "      <td>...</td>\n",
       "    </tr>\n",
       "    <tr>\n",
       "      <th>59941</th>\n",
       "      <td>59</td>\n",
       "      <td>graduated from college/university</td>\n",
       "      <td>sales / marketing / biz dev</td>\n",
       "      <td>-1</td>\n",
       "    </tr>\n",
       "    <tr>\n",
       "      <th>59942</th>\n",
       "      <td>24</td>\n",
       "      <td>working on college/university</td>\n",
       "      <td>entertainment / media</td>\n",
       "      <td>-1</td>\n",
       "    </tr>\n",
       "    <tr>\n",
       "      <th>59943</th>\n",
       "      <td>42</td>\n",
       "      <td>graduated from masters program</td>\n",
       "      <td>construction / craftsmanship</td>\n",
       "      <td>100000</td>\n",
       "    </tr>\n",
       "    <tr>\n",
       "      <th>59944</th>\n",
       "      <td>27</td>\n",
       "      <td>working on college/university</td>\n",
       "      <td>medicine / health</td>\n",
       "      <td>-1</td>\n",
       "    </tr>\n",
       "    <tr>\n",
       "      <th>59945</th>\n",
       "      <td>39</td>\n",
       "      <td>graduated from masters program</td>\n",
       "      <td>medicine / health</td>\n",
       "      <td>-1</td>\n",
       "    </tr>\n",
       "  </tbody>\n",
       "</table>\n",
       "<p>59946 rows × 4 columns</p>\n",
       "</div>"
      ],
      "text/plain": [
       "       age                          education                           job  \\\n",
       "0       22      working on college/university                transportation   \n",
       "1       35              working on space camp          hospitality / travel   \n",
       "2       38     graduated from masters program                           NaN   \n",
       "3       23      working on college/university                       student   \n",
       "4       29  graduated from college/university   artistic / musical / writer   \n",
       "...    ...                                ...                           ...   \n",
       "59941   59  graduated from college/university   sales / marketing / biz dev   \n",
       "59942   24      working on college/university         entertainment / media   \n",
       "59943   42     graduated from masters program  construction / craftsmanship   \n",
       "59944   27      working on college/university             medicine / health   \n",
       "59945   39     graduated from masters program             medicine / health   \n",
       "\n",
       "       income  \n",
       "0          -1  \n",
       "1       80000  \n",
       "2          -1  \n",
       "3       20000  \n",
       "4          -1  \n",
       "...       ...  \n",
       "59941      -1  \n",
       "59942      -1  \n",
       "59943  100000  \n",
       "59944      -1  \n",
       "59945      -1  \n",
       "\n",
       "[59946 rows x 4 columns]"
      ]
     },
     "execution_count": 578,
     "metadata": {},
     "output_type": "execute_result"
    }
   ],
   "source": [
    "df_q2 = profiles[[ 'age', 'education', 'job', 'income']][:]\n",
    "\n",
    "df_q2"
   ]
  },
  {
   "cell_type": "code",
   "execution_count": 579,
   "metadata": {},
   "outputs": [
    {
     "name": "stdout",
     "output_type": "stream",
     "text": [
      "age             0\n",
      "education    6628\n",
      "job          8198\n",
      "income          0\n",
      "dtype: int64\n"
     ]
    }
   ],
   "source": [
    "print(df_q2.isna().sum())"
   ]
  },
  {
   "cell_type": "code",
   "execution_count": 580,
   "metadata": {
    "scrolled": true
   },
   "outputs": [
    {
     "name": "stdout",
     "output_type": "stream",
     "text": [
      "[  80000   20000   40000   30000   50000   60000 1000000  150000  100000\n",
      "  500000   70000  250000]\n"
     ]
    },
    {
     "data": {
      "text/html": [
       "<div>\n",
       "<style scoped>\n",
       "    .dataframe tbody tr th:only-of-type {\n",
       "        vertical-align: middle;\n",
       "    }\n",
       "\n",
       "    .dataframe tbody tr th {\n",
       "        vertical-align: top;\n",
       "    }\n",
       "\n",
       "    .dataframe thead th {\n",
       "        text-align: right;\n",
       "    }\n",
       "</style>\n",
       "<table border=\"1\" class=\"dataframe\">\n",
       "  <thead>\n",
       "    <tr style=\"text-align: right;\">\n",
       "      <th></th>\n",
       "      <th>age</th>\n",
       "      <th>education</th>\n",
       "      <th>job</th>\n",
       "      <th>income</th>\n",
       "    </tr>\n",
       "  </thead>\n",
       "  <tbody>\n",
       "    <tr>\n",
       "      <th>1</th>\n",
       "      <td>35</td>\n",
       "      <td>working on space camp</td>\n",
       "      <td>hospitality / travel</td>\n",
       "      <td>80000</td>\n",
       "    </tr>\n",
       "    <tr>\n",
       "      <th>3</th>\n",
       "      <td>23</td>\n",
       "      <td>working on college/university</td>\n",
       "      <td>student</td>\n",
       "      <td>20000</td>\n",
       "    </tr>\n",
       "    <tr>\n",
       "      <th>11</th>\n",
       "      <td>28</td>\n",
       "      <td>graduated from college/university</td>\n",
       "      <td>banking / financial / real estate</td>\n",
       "      <td>40000</td>\n",
       "    </tr>\n",
       "    <tr>\n",
       "      <th>13</th>\n",
       "      <td>30</td>\n",
       "      <td>graduated from high school</td>\n",
       "      <td>sales / marketing / biz dev</td>\n",
       "      <td>30000</td>\n",
       "    </tr>\n",
       "    <tr>\n",
       "      <th>14</th>\n",
       "      <td>29</td>\n",
       "      <td>working on college/university</td>\n",
       "      <td>other</td>\n",
       "      <td>50000</td>\n",
       "    </tr>\n",
       "    <tr>\n",
       "      <th>...</th>\n",
       "      <td>...</td>\n",
       "      <td>...</td>\n",
       "      <td>...</td>\n",
       "      <td>...</td>\n",
       "    </tr>\n",
       "    <tr>\n",
       "      <th>59917</th>\n",
       "      <td>26</td>\n",
       "      <td>graduated from masters program</td>\n",
       "      <td>rather not say</td>\n",
       "      <td>100000</td>\n",
       "    </tr>\n",
       "    <tr>\n",
       "      <th>59927</th>\n",
       "      <td>26</td>\n",
       "      <td>graduated from college/university</td>\n",
       "      <td>other</td>\n",
       "      <td>50000</td>\n",
       "    </tr>\n",
       "    <tr>\n",
       "      <th>59930</th>\n",
       "      <td>41</td>\n",
       "      <td>graduated from college/university</td>\n",
       "      <td>political / government</td>\n",
       "      <td>70000</td>\n",
       "    </tr>\n",
       "    <tr>\n",
       "      <th>59934</th>\n",
       "      <td>43</td>\n",
       "      <td>graduated from masters program</td>\n",
       "      <td>other</td>\n",
       "      <td>80000</td>\n",
       "    </tr>\n",
       "    <tr>\n",
       "      <th>59943</th>\n",
       "      <td>42</td>\n",
       "      <td>graduated from masters program</td>\n",
       "      <td>construction / craftsmanship</td>\n",
       "      <td>100000</td>\n",
       "    </tr>\n",
       "  </tbody>\n",
       "</table>\n",
       "<p>10536 rows × 4 columns</p>\n",
       "</div>"
      ],
      "text/plain": [
       "       age                          education  \\\n",
       "1       35              working on space camp   \n",
       "3       23      working on college/university   \n",
       "11      28  graduated from college/university   \n",
       "13      30         graduated from high school   \n",
       "14      29      working on college/university   \n",
       "...    ...                                ...   \n",
       "59917   26     graduated from masters program   \n",
       "59927   26  graduated from college/university   \n",
       "59930   41  graduated from college/university   \n",
       "59934   43     graduated from masters program   \n",
       "59943   42     graduated from masters program   \n",
       "\n",
       "                                     job  income  \n",
       "1                   hospitality / travel   80000  \n",
       "3                                student   20000  \n",
       "11     banking / financial / real estate   40000  \n",
       "13           sales / marketing / biz dev   30000  \n",
       "14                                 other   50000  \n",
       "...                                  ...     ...  \n",
       "59917                     rather not say  100000  \n",
       "59927                              other   50000  \n",
       "59930             political / government   70000  \n",
       "59934                              other   80000  \n",
       "59943       construction / craftsmanship  100000  \n",
       "\n",
       "[10536 rows x 4 columns]"
      ]
     },
     "execution_count": 580,
     "metadata": {},
     "output_type": "execute_result"
    }
   ],
   "source": [
    "df_q2.dropna(inplace = True)\n",
    "\n",
    "df_q2 = df_q2[df_q2.income != -1]\n",
    "print(df_q2.income.unique())\n",
    "df_q2"
   ]
  },
  {
   "cell_type": "markdown",
   "metadata": {},
   "source": [
    "#### Thoughts on preprocessing age\n",
    "\n",
    "We need to decide if `age` should be treated as a continuous or categorical variable. We will graph out age vs. income to see if there are any correlations. If so, we can treat `age` as continuous."
   ]
  },
  {
   "cell_type": "code",
   "execution_count": 581,
   "metadata": {},
   "outputs": [
    {
     "data": {
      "image/png": "[encoded data removed]",
      "text/plain": [
       "<Figure size 432x288 with 1 Axes>"
      ]
     },
     "metadata": {
      "needs_background": "light"
     },
     "output_type": "display_data"
    }
   ],
   "source": [
    "plt.scatter(df_q2.age, df_q2.income, alpha = 0.1)\n",
    "plt.title('Income vs. age')\n",
    "plt.show()"
   ]
  },
  {
   "cell_type": "markdown",
   "metadata": {},
   "source": [
    "#### Preprocessing college degrees.\n",
    "\n",
    "Let's assign scores as following\n",
    "\n",
    "5. Highschool AND Space Camp\n",
    "10. Two-year college\n",
    "15. COllege / Univeristy\n",
    "20. Med School AND Law School AND Masters Program\n",
    "25. ph.d program\n",
    "\n",
    "Now for different status.\n",
    "-2 for drop out\n",
    "+0 for working on or not disclosed\n",
    "+2 for graduated\n",
    "\n",
    "Tehrefore, if you dropped out of college / university, it's 15 - 2 = 13"
   ]
  },
  {
   "cell_type": "code",
   "execution_count": 582,
   "metadata": {},
   "outputs": [],
   "source": [
    "def score_education(x):\n",
    "    score = 0\n",
    "    if (('high school' in x) or ('space camp' in x)):\n",
    "        score = 5\n",
    "    elif ('two-year' in x):\n",
    "        score = 10\n",
    "    elif ('college/university' in x):\n",
    "        score = 15\n",
    "    elif (('med school' in x ) or ('law school' in x) or ('masters') in x):\n",
    "        score = 20\n",
    "    elif ('ph.d' in x):\n",
    "        score = 25\n",
    "    \n",
    "    if ('dropped out' in x):\n",
    "        score -=2\n",
    "    elif ('graduated from' in x):\n",
    "        score +=2\n",
    "    \n",
    "    return score"
   ]
  },
  {
   "cell_type": "code",
   "execution_count": 583,
   "metadata": {
    "scrolled": true
   },
   "outputs": [
    {
     "name": "stderr",
     "output_type": "stream",
     "text": [
      "/opt/anaconda3/lib/python3.7/site-packages/ipykernel_launcher.py:1: SettingWithCopyWarning: \n",
      "A value is trying to be set on a copy of a slice from a DataFrame.\n",
      "Try using .loc[row_indexer,col_indexer] = value instead\n",
      "\n",
      "See the caveats in the documentation: https://pandas.pydata.org/pandas-docs/stable/user_guide/indexing.html#returning-a-view-versus-a-copy\n",
      "  \"\"\"Entry point for launching an IPython kernel.\n"
     ]
    },
    {
     "data": {
      "text/html": [
       "<div>\n",
       "<style scoped>\n",
       "    .dataframe tbody tr th:only-of-type {\n",
       "        vertical-align: middle;\n",
       "    }\n",
       "\n",
       "    .dataframe tbody tr th {\n",
       "        vertical-align: top;\n",
       "    }\n",
       "\n",
       "    .dataframe thead th {\n",
       "        text-align: right;\n",
       "    }\n",
       "</style>\n",
       "<table border=\"1\" class=\"dataframe\">\n",
       "  <thead>\n",
       "    <tr style=\"text-align: right;\">\n",
       "      <th></th>\n",
       "      <th>age</th>\n",
       "      <th>education</th>\n",
       "      <th>job</th>\n",
       "      <th>income</th>\n",
       "      <th>edu_score</th>\n",
       "    </tr>\n",
       "  </thead>\n",
       "  <tbody>\n",
       "    <tr>\n",
       "      <th>1</th>\n",
       "      <td>35</td>\n",
       "      <td>working on space camp</td>\n",
       "      <td>hospitality / travel</td>\n",
       "      <td>80000</td>\n",
       "      <td>5</td>\n",
       "    </tr>\n",
       "    <tr>\n",
       "      <th>3</th>\n",
       "      <td>23</td>\n",
       "      <td>working on college/university</td>\n",
       "      <td>student</td>\n",
       "      <td>20000</td>\n",
       "      <td>15</td>\n",
       "    </tr>\n",
       "    <tr>\n",
       "      <th>11</th>\n",
       "      <td>28</td>\n",
       "      <td>graduated from college/university</td>\n",
       "      <td>banking / financial / real estate</td>\n",
       "      <td>40000</td>\n",
       "      <td>17</td>\n",
       "    </tr>\n",
       "    <tr>\n",
       "      <th>13</th>\n",
       "      <td>30</td>\n",
       "      <td>graduated from high school</td>\n",
       "      <td>sales / marketing / biz dev</td>\n",
       "      <td>30000</td>\n",
       "      <td>7</td>\n",
       "    </tr>\n",
       "    <tr>\n",
       "      <th>14</th>\n",
       "      <td>29</td>\n",
       "      <td>working on college/university</td>\n",
       "      <td>other</td>\n",
       "      <td>50000</td>\n",
       "      <td>15</td>\n",
       "    </tr>\n",
       "    <tr>\n",
       "      <th>...</th>\n",
       "      <td>...</td>\n",
       "      <td>...</td>\n",
       "      <td>...</td>\n",
       "      <td>...</td>\n",
       "      <td>...</td>\n",
       "    </tr>\n",
       "    <tr>\n",
       "      <th>59917</th>\n",
       "      <td>26</td>\n",
       "      <td>graduated from masters program</td>\n",
       "      <td>rather not say</td>\n",
       "      <td>100000</td>\n",
       "      <td>22</td>\n",
       "    </tr>\n",
       "    <tr>\n",
       "      <th>59927</th>\n",
       "      <td>26</td>\n",
       "      <td>graduated from college/university</td>\n",
       "      <td>other</td>\n",
       "      <td>50000</td>\n",
       "      <td>17</td>\n",
       "    </tr>\n",
       "    <tr>\n",
       "      <th>59930</th>\n",
       "      <td>41</td>\n",
       "      <td>graduated from college/university</td>\n",
       "      <td>political / government</td>\n",
       "      <td>70000</td>\n",
       "      <td>17</td>\n",
       "    </tr>\n",
       "    <tr>\n",
       "      <th>59934</th>\n",
       "      <td>43</td>\n",
       "      <td>graduated from masters program</td>\n",
       "      <td>other</td>\n",
       "      <td>80000</td>\n",
       "      <td>22</td>\n",
       "    </tr>\n",
       "    <tr>\n",
       "      <th>59943</th>\n",
       "      <td>42</td>\n",
       "      <td>graduated from masters program</td>\n",
       "      <td>construction / craftsmanship</td>\n",
       "      <td>100000</td>\n",
       "      <td>22</td>\n",
       "    </tr>\n",
       "  </tbody>\n",
       "</table>\n",
       "<p>10536 rows × 5 columns</p>\n",
       "</div>"
      ],
      "text/plain": [
       "       age                          education  \\\n",
       "1       35              working on space camp   \n",
       "3       23      working on college/university   \n",
       "11      28  graduated from college/university   \n",
       "13      30         graduated from high school   \n",
       "14      29      working on college/university   \n",
       "...    ...                                ...   \n",
       "59917   26     graduated from masters program   \n",
       "59927   26  graduated from college/university   \n",
       "59930   41  graduated from college/university   \n",
       "59934   43     graduated from masters program   \n",
       "59943   42     graduated from masters program   \n",
       "\n",
       "                                     job  income  edu_score  \n",
       "1                   hospitality / travel   80000          5  \n",
       "3                                student   20000         15  \n",
       "11     banking / financial / real estate   40000         17  \n",
       "13           sales / marketing / biz dev   30000          7  \n",
       "14                                 other   50000         15  \n",
       "...                                  ...     ...        ...  \n",
       "59917                     rather not say  100000         22  \n",
       "59927                              other   50000         17  \n",
       "59930             political / government   70000         17  \n",
       "59934                              other   80000         22  \n",
       "59943       construction / craftsmanship  100000         22  \n",
       "\n",
       "[10536 rows x 5 columns]"
      ]
     },
     "execution_count": 583,
     "metadata": {},
     "output_type": "execute_result"
    }
   ],
   "source": [
    "df_q2['edu_score'] = df_q2.education.apply(score_education)\n",
    "df_q2\n"
   ]
  },
  {
   "cell_type": "markdown",
   "metadata": {},
   "source": [
    "#### On income\n",
    "\n",
    "Since income is a categorical variable used here, let's change the values to strings."
   ]
  },
  {
   "cell_type": "code",
   "execution_count": 584,
   "metadata": {},
   "outputs": [
    {
     "name": "stdout",
     "output_type": "stream",
     "text": [
      "age            int64\n",
      "education     object\n",
      "job           object\n",
      "income         int64\n",
      "edu_score      int64\n",
      "income_str    object\n",
      "dtype: object\n"
     ]
    },
    {
     "name": "stderr",
     "output_type": "stream",
     "text": [
      "/opt/anaconda3/lib/python3.7/site-packages/ipykernel_launcher.py:1: SettingWithCopyWarning: \n",
      "A value is trying to be set on a copy of a slice from a DataFrame.\n",
      "Try using .loc[row_indexer,col_indexer] = value instead\n",
      "\n",
      "See the caveats in the documentation: https://pandas.pydata.org/pandas-docs/stable/user_guide/indexing.html#returning-a-view-versus-a-copy\n",
      "  \"\"\"Entry point for launching an IPython kernel.\n"
     ]
    },
    {
     "data": {
      "text/html": [
       "<div>\n",
       "<style scoped>\n",
       "    .dataframe tbody tr th:only-of-type {\n",
       "        vertical-align: middle;\n",
       "    }\n",
       "\n",
       "    .dataframe tbody tr th {\n",
       "        vertical-align: top;\n",
       "    }\n",
       "\n",
       "    .dataframe thead th {\n",
       "        text-align: right;\n",
       "    }\n",
       "</style>\n",
       "<table border=\"1\" class=\"dataframe\">\n",
       "  <thead>\n",
       "    <tr style=\"text-align: right;\">\n",
       "      <th></th>\n",
       "      <th>age</th>\n",
       "      <th>education</th>\n",
       "      <th>job</th>\n",
       "      <th>income</th>\n",
       "      <th>edu_score</th>\n",
       "      <th>income_str</th>\n",
       "    </tr>\n",
       "  </thead>\n",
       "  <tbody>\n",
       "    <tr>\n",
       "      <th>1</th>\n",
       "      <td>35</td>\n",
       "      <td>working on space camp</td>\n",
       "      <td>hospitality / travel</td>\n",
       "      <td>80000</td>\n",
       "      <td>5</td>\n",
       "      <td>80000</td>\n",
       "    </tr>\n",
       "    <tr>\n",
       "      <th>3</th>\n",
       "      <td>23</td>\n",
       "      <td>working on college/university</td>\n",
       "      <td>student</td>\n",
       "      <td>20000</td>\n",
       "      <td>15</td>\n",
       "      <td>20000</td>\n",
       "    </tr>\n",
       "    <tr>\n",
       "      <th>11</th>\n",
       "      <td>28</td>\n",
       "      <td>graduated from college/university</td>\n",
       "      <td>banking / financial / real estate</td>\n",
       "      <td>40000</td>\n",
       "      <td>17</td>\n",
       "      <td>40000</td>\n",
       "    </tr>\n",
       "    <tr>\n",
       "      <th>13</th>\n",
       "      <td>30</td>\n",
       "      <td>graduated from high school</td>\n",
       "      <td>sales / marketing / biz dev</td>\n",
       "      <td>30000</td>\n",
       "      <td>7</td>\n",
       "      <td>30000</td>\n",
       "    </tr>\n",
       "    <tr>\n",
       "      <th>14</th>\n",
       "      <td>29</td>\n",
       "      <td>working on college/university</td>\n",
       "      <td>other</td>\n",
       "      <td>50000</td>\n",
       "      <td>15</td>\n",
       "      <td>50000</td>\n",
       "    </tr>\n",
       "    <tr>\n",
       "      <th>...</th>\n",
       "      <td>...</td>\n",
       "      <td>...</td>\n",
       "      <td>...</td>\n",
       "      <td>...</td>\n",
       "      <td>...</td>\n",
       "      <td>...</td>\n",
       "    </tr>\n",
       "    <tr>\n",
       "      <th>59917</th>\n",
       "      <td>26</td>\n",
       "      <td>graduated from masters program</td>\n",
       "      <td>rather not say</td>\n",
       "      <td>100000</td>\n",
       "      <td>22</td>\n",
       "      <td>100000</td>\n",
       "    </tr>\n",
       "    <tr>\n",
       "      <th>59927</th>\n",
       "      <td>26</td>\n",
       "      <td>graduated from college/university</td>\n",
       "      <td>other</td>\n",
       "      <td>50000</td>\n",
       "      <td>17</td>\n",
       "      <td>50000</td>\n",
       "    </tr>\n",
       "    <tr>\n",
       "      <th>59930</th>\n",
       "      <td>41</td>\n",
       "      <td>graduated from college/university</td>\n",
       "      <td>political / government</td>\n",
       "      <td>70000</td>\n",
       "      <td>17</td>\n",
       "      <td>70000</td>\n",
       "    </tr>\n",
       "    <tr>\n",
       "      <th>59934</th>\n",
       "      <td>43</td>\n",
       "      <td>graduated from masters program</td>\n",
       "      <td>other</td>\n",
       "      <td>80000</td>\n",
       "      <td>22</td>\n",
       "      <td>80000</td>\n",
       "    </tr>\n",
       "    <tr>\n",
       "      <th>59943</th>\n",
       "      <td>42</td>\n",
       "      <td>graduated from masters program</td>\n",
       "      <td>construction / craftsmanship</td>\n",
       "      <td>100000</td>\n",
       "      <td>22</td>\n",
       "      <td>100000</td>\n",
       "    </tr>\n",
       "  </tbody>\n",
       "</table>\n",
       "<p>10536 rows × 6 columns</p>\n",
       "</div>"
      ],
      "text/plain": [
       "       age                          education  \\\n",
       "1       35              working on space camp   \n",
       "3       23      working on college/university   \n",
       "11      28  graduated from college/university   \n",
       "13      30         graduated from high school   \n",
       "14      29      working on college/university   \n",
       "...    ...                                ...   \n",
       "59917   26     graduated from masters program   \n",
       "59927   26  graduated from college/university   \n",
       "59930   41  graduated from college/university   \n",
       "59934   43     graduated from masters program   \n",
       "59943   42     graduated from masters program   \n",
       "\n",
       "                                     job  income  edu_score income_str  \n",
       "1                   hospitality / travel   80000          5      80000  \n",
       "3                                student   20000         15      20000  \n",
       "11     banking / financial / real estate   40000         17      40000  \n",
       "13           sales / marketing / biz dev   30000          7      30000  \n",
       "14                                 other   50000         15      50000  \n",
       "...                                  ...     ...        ...        ...  \n",
       "59917                     rather not say  100000         22     100000  \n",
       "59927                              other   50000         17      50000  \n",
       "59930             political / government   70000         17      70000  \n",
       "59934                              other   80000         22      80000  \n",
       "59943       construction / craftsmanship  100000         22     100000  \n",
       "\n",
       "[10536 rows x 6 columns]"
      ]
     },
     "execution_count": 584,
     "metadata": {},
     "output_type": "execute_result"
    }
   ],
   "source": [
    "df_q2['income_str'] = df_q2.income.apply(str)\n",
    "print(df_q2.dtypes)\n",
    "df_q2"
   ]
  },
  {
   "cell_type": "markdown",
   "metadata": {},
   "source": [
    "#### One hot encoding for Job column\n",
    "\n",
    "Since it's categorical nominal, let's use one hot encoding to do it as practice."
   ]
  },
  {
   "cell_type": "code",
   "execution_count": 585,
   "metadata": {},
   "outputs": [],
   "source": [
    "from sklearn.preprocessing import OneHotEncoder"
   ]
  },
  {
   "cell_type": "code",
   "execution_count": 586,
   "metadata": {},
   "outputs": [],
   "source": [
    "enc = OneHotEncoder(handle_unknown='ignore')"
   ]
  },
  {
   "cell_type": "code",
   "execution_count": 587,
   "metadata": {},
   "outputs": [
    {
     "name": "stdout",
     "output_type": "stream",
     "text": [
      "['job_artistic / musical / writer' 'job_banking / financial / real estate'\n",
      " 'job_clerical / administrative' 'job_computer / hardware / software'\n",
      " 'job_construction / craftsmanship' 'job_education / academia'\n",
      " 'job_entertainment / media' 'job_executive / management'\n",
      " 'job_hospitality / travel' 'job_law / legal services'\n",
      " 'job_medicine / health' 'job_military' 'job_other'\n",
      " 'job_political / government' 'job_rather not say' 'job_retired'\n",
      " 'job_sales / marketing / biz dev' 'job_science / tech / engineering'\n",
      " 'job_student' 'job_transportation' 'job_unemployed']\n"
     ]
    },
    {
     "data": {
      "text/html": [
       "<div>\n",
       "<style scoped>\n",
       "    .dataframe tbody tr th:only-of-type {\n",
       "        vertical-align: middle;\n",
       "    }\n",
       "\n",
       "    .dataframe tbody tr th {\n",
       "        vertical-align: top;\n",
       "    }\n",
       "\n",
       "    .dataframe thead th {\n",
       "        text-align: right;\n",
       "    }\n",
       "</style>\n",
       "<table border=\"1\" class=\"dataframe\">\n",
       "  <thead>\n",
       "    <tr style=\"text-align: right;\">\n",
       "      <th></th>\n",
       "      <th>job_artistic / musical / writer</th>\n",
       "      <th>job_banking / financial / real estate</th>\n",
       "      <th>job_clerical / administrative</th>\n",
       "      <th>job_computer / hardware / software</th>\n",
       "      <th>job_construction / craftsmanship</th>\n",
       "      <th>job_education / academia</th>\n",
       "      <th>job_entertainment / media</th>\n",
       "      <th>...</th>\n",
       "      <th>job_rather not say</th>\n",
       "      <th>job_retired</th>\n",
       "      <th>job_sales / marketing / biz dev</th>\n",
       "      <th>job_science / tech / engineering</th>\n",
       "      <th>job_student</th>\n",
       "      <th>job_transportation</th>\n",
       "      <th>job_unemployed</th>\n",
       "    </tr>\n",
       "  </thead>\n",
       "  <tbody>\n",
       "    <tr>\n",
       "      <th>0</th>\n",
       "      <td>0.0</td>\n",
       "      <td>0.0</td>\n",
       "      <td>0.0</td>\n",
       "      <td>0.0</td>\n",
       "      <td>0.0</td>\n",
       "      <td>0.0</td>\n",
       "      <td>0.0</td>\n",
       "      <td>...</td>\n",
       "      <td>0.0</td>\n",
       "      <td>0.0</td>\n",
       "      <td>0.0</td>\n",
       "      <td>0.0</td>\n",
       "      <td>0.0</td>\n",
       "      <td>0.0</td>\n",
       "      <td>0.0</td>\n",
       "    </tr>\n",
       "    <tr>\n",
       "      <th>1</th>\n",
       "      <td>0.0</td>\n",
       "      <td>0.0</td>\n",
       "      <td>0.0</td>\n",
       "      <td>0.0</td>\n",
       "      <td>0.0</td>\n",
       "      <td>0.0</td>\n",
       "      <td>0.0</td>\n",
       "      <td>...</td>\n",
       "      <td>0.0</td>\n",
       "      <td>0.0</td>\n",
       "      <td>0.0</td>\n",
       "      <td>0.0</td>\n",
       "      <td>1.0</td>\n",
       "      <td>0.0</td>\n",
       "      <td>0.0</td>\n",
       "    </tr>\n",
       "    <tr>\n",
       "      <th>2</th>\n",
       "      <td>0.0</td>\n",
       "      <td>1.0</td>\n",
       "      <td>0.0</td>\n",
       "      <td>0.0</td>\n",
       "      <td>0.0</td>\n",
       "      <td>0.0</td>\n",
       "      <td>0.0</td>\n",
       "      <td>...</td>\n",
       "      <td>0.0</td>\n",
       "      <td>0.0</td>\n",
       "      <td>0.0</td>\n",
       "      <td>0.0</td>\n",
       "      <td>0.0</td>\n",
       "      <td>0.0</td>\n",
       "      <td>0.0</td>\n",
       "    </tr>\n",
       "    <tr>\n",
       "      <th>3</th>\n",
       "      <td>0.0</td>\n",
       "      <td>0.0</td>\n",
       "      <td>0.0</td>\n",
       "      <td>0.0</td>\n",
       "      <td>0.0</td>\n",
       "      <td>0.0</td>\n",
       "      <td>0.0</td>\n",
       "      <td>...</td>\n",
       "      <td>0.0</td>\n",
       "      <td>0.0</td>\n",
       "      <td>1.0</td>\n",
       "      <td>0.0</td>\n",
       "      <td>0.0</td>\n",
       "      <td>0.0</td>\n",
       "      <td>0.0</td>\n",
       "    </tr>\n",
       "    <tr>\n",
       "      <th>4</th>\n",
       "      <td>0.0</td>\n",
       "      <td>0.0</td>\n",
       "      <td>0.0</td>\n",
       "      <td>0.0</td>\n",
       "      <td>0.0</td>\n",
       "      <td>0.0</td>\n",
       "      <td>0.0</td>\n",
       "      <td>...</td>\n",
       "      <td>0.0</td>\n",
       "      <td>0.0</td>\n",
       "      <td>0.0</td>\n",
       "      <td>0.0</td>\n",
       "      <td>0.0</td>\n",
       "      <td>0.0</td>\n",
       "      <td>0.0</td>\n",
       "    </tr>\n",
       "    <tr>\n",
       "      <th>...</th>\n",
       "      <td>...</td>\n",
       "      <td>...</td>\n",
       "      <td>...</td>\n",
       "      <td>...</td>\n",
       "      <td>...</td>\n",
       "      <td>...</td>\n",
       "      <td>...</td>\n",
       "      <td>...</td>\n",
       "      <td>...</td>\n",
       "      <td>...</td>\n",
       "      <td>...</td>\n",
       "      <td>...</td>\n",
       "      <td>...</td>\n",
       "      <td>...</td>\n",
       "      <td>...</td>\n",
       "    </tr>\n",
       "    <tr>\n",
       "      <th>10531</th>\n",
       "      <td>0.0</td>\n",
       "      <td>0.0</td>\n",
       "      <td>0.0</td>\n",
       "      <td>0.0</td>\n",
       "      <td>0.0</td>\n",
       "      <td>0.0</td>\n",
       "      <td>0.0</td>\n",
       "      <td>...</td>\n",
       "      <td>1.0</td>\n",
       "      <td>0.0</td>\n",
       "      <td>0.0</td>\n",
       "      <td>0.0</td>\n",
       "      <td>0.0</td>\n",
       "      <td>0.0</td>\n",
       "      <td>0.0</td>\n",
       "    </tr>\n",
       "    <tr>\n",
       "      <th>10532</th>\n",
       "      <td>0.0</td>\n",
       "      <td>0.0</td>\n",
       "      <td>0.0</td>\n",
       "      <td>0.0</td>\n",
       "      <td>0.0</td>\n",
       "      <td>0.0</td>\n",
       "      <td>0.0</td>\n",
       "      <td>...</td>\n",
       "      <td>0.0</td>\n",
       "      <td>0.0</td>\n",
       "      <td>0.0</td>\n",
       "      <td>0.0</td>\n",
       "      <td>0.0</td>\n",
       "      <td>0.0</td>\n",
       "      <td>0.0</td>\n",
       "    </tr>\n",
       "    <tr>\n",
       "      <th>10533</th>\n",
       "      <td>0.0</td>\n",
       "      <td>0.0</td>\n",
       "      <td>0.0</td>\n",
       "      <td>0.0</td>\n",
       "      <td>0.0</td>\n",
       "      <td>0.0</td>\n",
       "      <td>0.0</td>\n",
       "      <td>...</td>\n",
       "      <td>0.0</td>\n",
       "      <td>0.0</td>\n",
       "      <td>0.0</td>\n",
       "      <td>0.0</td>\n",
       "      <td>0.0</td>\n",
       "      <td>0.0</td>\n",
       "      <td>0.0</td>\n",
       "    </tr>\n",
       "    <tr>\n",
       "      <th>10534</th>\n",
       "      <td>0.0</td>\n",
       "      <td>0.0</td>\n",
       "      <td>0.0</td>\n",
       "      <td>0.0</td>\n",
       "      <td>0.0</td>\n",
       "      <td>0.0</td>\n",
       "      <td>0.0</td>\n",
       "      <td>...</td>\n",
       "      <td>0.0</td>\n",
       "      <td>0.0</td>\n",
       "      <td>0.0</td>\n",
       "      <td>0.0</td>\n",
       "      <td>0.0</td>\n",
       "      <td>0.0</td>\n",
       "      <td>0.0</td>\n",
       "    </tr>\n",
       "    <tr>\n",
       "      <th>10535</th>\n",
       "      <td>0.0</td>\n",
       "      <td>0.0</td>\n",
       "      <td>0.0</td>\n",
       "      <td>0.0</td>\n",
       "      <td>1.0</td>\n",
       "      <td>0.0</td>\n",
       "      <td>0.0</td>\n",
       "      <td>...</td>\n",
       "      <td>0.0</td>\n",
       "      <td>0.0</td>\n",
       "      <td>0.0</td>\n",
       "      <td>0.0</td>\n",
       "      <td>0.0</td>\n",
       "      <td>0.0</td>\n",
       "      <td>0.0</td>\n",
       "    </tr>\n",
       "  </tbody>\n",
       "</table>\n",
       "<p>10536 rows × 21 columns</p>\n",
       "</div>"
      ],
      "text/plain": [
       "       job_artistic / musical / writer  job_banking / financial / real estate  \\\n",
       "0                                  0.0                                    0.0   \n",
       "1                                  0.0                                    0.0   \n",
       "2                                  0.0                                    1.0   \n",
       "3                                  0.0                                    0.0   \n",
       "4                                  0.0                                    0.0   \n",
       "...                                ...                                    ...   \n",
       "10531                              0.0                                    0.0   \n",
       "10532                              0.0                                    0.0   \n",
       "10533                              0.0                                    0.0   \n",
       "10534                              0.0                                    0.0   \n",
       "10535                              0.0                                    0.0   \n",
       "\n",
       "       job_clerical / administrative  job_computer / hardware / software  \\\n",
       "0                                0.0                                 0.0   \n",
       "1                                0.0                                 0.0   \n",
       "2                                0.0                                 0.0   \n",
       "3                                0.0                                 0.0   \n",
       "4                                0.0                                 0.0   \n",
       "...                              ...                                 ...   \n",
       "10531                            0.0                                 0.0   \n",
       "10532                            0.0                                 0.0   \n",
       "10533                            0.0                                 0.0   \n",
       "10534                            0.0                                 0.0   \n",
       "10535                            0.0                                 0.0   \n",
       "\n",
       "       job_construction / craftsmanship  job_education / academia  \\\n",
       "0                                   0.0                       0.0   \n",
       "1                                   0.0                       0.0   \n",
       "2                                   0.0                       0.0   \n",
       "3                                   0.0                       0.0   \n",
       "4                                   0.0                       0.0   \n",
       "...                                 ...                       ...   \n",
       "10531                               0.0                       0.0   \n",
       "10532                               0.0                       0.0   \n",
       "10533                               0.0                       0.0   \n",
       "10534                               0.0                       0.0   \n",
       "10535                               1.0                       0.0   \n",
       "\n",
       "       job_entertainment / media  ...  job_rather not say  job_retired  \\\n",
       "0                            0.0  ...                 0.0          0.0   \n",
       "1                            0.0  ...                 0.0          0.0   \n",
       "2                            0.0  ...                 0.0          0.0   \n",
       "3                            0.0  ...                 0.0          0.0   \n",
       "4                            0.0  ...                 0.0          0.0   \n",
       "...                          ...  ...                 ...          ...   \n",
       "10531                        0.0  ...                 1.0          0.0   \n",
       "10532                        0.0  ...                 0.0          0.0   \n",
       "10533                        0.0  ...                 0.0          0.0   \n",
       "10534                        0.0  ...                 0.0          0.0   \n",
       "10535                        0.0  ...                 0.0          0.0   \n",
       "\n",
       "       job_sales / marketing / biz dev  job_science / tech / engineering  \\\n",
       "0                                  0.0                               0.0   \n",
       "1                                  0.0                               0.0   \n",
       "2                                  0.0                               0.0   \n",
       "3                                  1.0                               0.0   \n",
       "4                                  0.0                               0.0   \n",
       "...                                ...                               ...   \n",
       "10531                              0.0                               0.0   \n",
       "10532                              0.0                               0.0   \n",
       "10533                              0.0                               0.0   \n",
       "10534                              0.0                               0.0   \n",
       "10535                              0.0                               0.0   \n",
       "\n",
       "       job_student  job_transportation  job_unemployed  \n",
       "0              0.0                 0.0             0.0  \n",
       "1              1.0                 0.0             0.0  \n",
       "2              0.0                 0.0             0.0  \n",
       "3              0.0                 0.0             0.0  \n",
       "4              0.0                 0.0             0.0  \n",
       "...            ...                 ...             ...  \n",
       "10531          0.0                 0.0             0.0  \n",
       "10532          0.0                 0.0             0.0  \n",
       "10533          0.0                 0.0             0.0  \n",
       "10534          0.0                 0.0             0.0  \n",
       "10535          0.0                 0.0             0.0  \n",
       "\n",
       "[10536 rows x 21 columns]"
      ]
     },
     "execution_count": 587,
     "metadata": {},
     "output_type": "execute_result"
    }
   ],
   "source": [
    "enc_job = pd.DataFrame(enc.fit_transform(df_q2[['job']]).toarray())\n",
    "print(enc.get_feature_names(['job']))\n",
    "\n",
    "enc_job.columns = enc.get_feature_names(['job'])\n",
    "enc_job"
   ]
  },
  {
   "cell_type": "markdown",
   "metadata": {},
   "source": [
    "#### Normalize the continuous data\n",
    "\n",
    "Let's make sure all continuosu data is from 0 to 1. We are going to use sklearn's MinMaxScaler."
   ]
  },
  {
   "cell_type": "code",
   "execution_count": 588,
   "metadata": {},
   "outputs": [],
   "source": [
    "from sklearn.preprocessing import MinMaxScaler"
   ]
  },
  {
   "cell_type": "code",
   "execution_count": 589,
   "metadata": {},
   "outputs": [],
   "source": [
    "scaler = MinMaxScaler()\n"
   ]
  },
  {
   "cell_type": "code",
   "execution_count": 590,
   "metadata": {},
   "outputs": [
    {
     "data": {
      "text/html": [
       "<div>\n",
       "<style scoped>\n",
       "    .dataframe tbody tr th:only-of-type {\n",
       "        vertical-align: middle;\n",
       "    }\n",
       "\n",
       "    .dataframe tbody tr th {\n",
       "        vertical-align: top;\n",
       "    }\n",
       "\n",
       "    .dataframe thead th {\n",
       "        text-align: right;\n",
       "    }\n",
       "</style>\n",
       "<table border=\"1\" class=\"dataframe\">\n",
       "  <thead>\n",
       "    <tr style=\"text-align: right;\">\n",
       "      <th></th>\n",
       "      <th>age</th>\n",
       "      <th>edu_score</th>\n",
       "    </tr>\n",
       "  </thead>\n",
       "  <tbody>\n",
       "    <tr>\n",
       "      <th>0</th>\n",
       "      <td>0.333333</td>\n",
       "      <td>0.083333</td>\n",
       "    </tr>\n",
       "    <tr>\n",
       "      <th>1</th>\n",
       "      <td>0.098039</td>\n",
       "      <td>0.500000</td>\n",
       "    </tr>\n",
       "    <tr>\n",
       "      <th>2</th>\n",
       "      <td>0.196078</td>\n",
       "      <td>0.583333</td>\n",
       "    </tr>\n",
       "    <tr>\n",
       "      <th>3</th>\n",
       "      <td>0.235294</td>\n",
       "      <td>0.166667</td>\n",
       "    </tr>\n",
       "    <tr>\n",
       "      <th>4</th>\n",
       "      <td>0.215686</td>\n",
       "      <td>0.500000</td>\n",
       "    </tr>\n",
       "    <tr>\n",
       "      <th>...</th>\n",
       "      <td>...</td>\n",
       "      <td>...</td>\n",
       "    </tr>\n",
       "    <tr>\n",
       "      <th>10531</th>\n",
       "      <td>0.156863</td>\n",
       "      <td>0.791667</td>\n",
       "    </tr>\n",
       "    <tr>\n",
       "      <th>10532</th>\n",
       "      <td>0.156863</td>\n",
       "      <td>0.583333</td>\n",
       "    </tr>\n",
       "    <tr>\n",
       "      <th>10533</th>\n",
       "      <td>0.450980</td>\n",
       "      <td>0.583333</td>\n",
       "    </tr>\n",
       "    <tr>\n",
       "      <th>10534</th>\n",
       "      <td>0.490196</td>\n",
       "      <td>0.791667</td>\n",
       "    </tr>\n",
       "    <tr>\n",
       "      <th>10535</th>\n",
       "      <td>0.470588</td>\n",
       "      <td>0.791667</td>\n",
       "    </tr>\n",
       "  </tbody>\n",
       "</table>\n",
       "<p>10536 rows × 2 columns</p>\n",
       "</div>"
      ],
      "text/plain": [
       "            age  edu_score\n",
       "0      0.333333   0.083333\n",
       "1      0.098039   0.500000\n",
       "2      0.196078   0.583333\n",
       "3      0.235294   0.166667\n",
       "4      0.215686   0.500000\n",
       "...         ...        ...\n",
       "10531  0.156863   0.791667\n",
       "10532  0.156863   0.583333\n",
       "10533  0.450980   0.583333\n",
       "10534  0.490196   0.791667\n",
       "10535  0.470588   0.791667\n",
       "\n",
       "[10536 rows x 2 columns]"
      ]
     },
     "execution_count": 590,
     "metadata": {},
     "output_type": "execute_result"
    }
   ],
   "source": [
    "df_q2_scaled = pd.DataFrame(scaler.fit_transform(df_q2[['age', 'edu_score']]))\n",
    "df_q2_scaled.columns = ['age', 'edu_score']\n",
    "df_q2_scaled"
   ]
  },
  {
   "cell_type": "code",
   "execution_count": 591,
   "metadata": {},
   "outputs": [
    {
     "data": {
      "text/html": [
       "<div>\n",
       "<style scoped>\n",
       "    .dataframe tbody tr th:only-of-type {\n",
       "        vertical-align: middle;\n",
       "    }\n",
       "\n",
       "    .dataframe tbody tr th {\n",
       "        vertical-align: top;\n",
       "    }\n",
       "\n",
       "    .dataframe thead th {\n",
       "        text-align: right;\n",
       "    }\n",
       "</style>\n",
       "<table border=\"1\" class=\"dataframe\">\n",
       "  <thead>\n",
       "    <tr style=\"text-align: right;\">\n",
       "      <th></th>\n",
       "      <th>age</th>\n",
       "      <th>edu_score</th>\n",
       "      <th>job_artistic / musical / writer</th>\n",
       "      <th>job_banking / financial / real estate</th>\n",
       "      <th>job_clerical / administrative</th>\n",
       "      <th>job_computer / hardware / software</th>\n",
       "      <th>job_construction / craftsmanship</th>\n",
       "      <th>...</th>\n",
       "      <th>job_rather not say</th>\n",
       "      <th>job_retired</th>\n",
       "      <th>job_sales / marketing / biz dev</th>\n",
       "      <th>job_science / tech / engineering</th>\n",
       "      <th>job_student</th>\n",
       "      <th>job_transportation</th>\n",
       "      <th>job_unemployed</th>\n",
       "    </tr>\n",
       "  </thead>\n",
       "  <tbody>\n",
       "    <tr>\n",
       "      <th>0</th>\n",
       "      <td>0.333333</td>\n",
       "      <td>0.083333</td>\n",
       "      <td>0.0</td>\n",
       "      <td>0.0</td>\n",
       "      <td>0.0</td>\n",
       "      <td>0.0</td>\n",
       "      <td>0.0</td>\n",
       "      <td>...</td>\n",
       "      <td>0.0</td>\n",
       "      <td>0.0</td>\n",
       "      <td>0.0</td>\n",
       "      <td>0.0</td>\n",
       "      <td>0.0</td>\n",
       "      <td>0.0</td>\n",
       "      <td>0.0</td>\n",
       "    </tr>\n",
       "    <tr>\n",
       "      <th>1</th>\n",
       "      <td>0.098039</td>\n",
       "      <td>0.500000</td>\n",
       "      <td>0.0</td>\n",
       "      <td>0.0</td>\n",
       "      <td>0.0</td>\n",
       "      <td>0.0</td>\n",
       "      <td>0.0</td>\n",
       "      <td>...</td>\n",
       "      <td>0.0</td>\n",
       "      <td>0.0</td>\n",
       "      <td>0.0</td>\n",
       "      <td>0.0</td>\n",
       "      <td>1.0</td>\n",
       "      <td>0.0</td>\n",
       "      <td>0.0</td>\n",
       "    </tr>\n",
       "    <tr>\n",
       "      <th>2</th>\n",
       "      <td>0.196078</td>\n",
       "      <td>0.583333</td>\n",
       "      <td>0.0</td>\n",
       "      <td>1.0</td>\n",
       "      <td>0.0</td>\n",
       "      <td>0.0</td>\n",
       "      <td>0.0</td>\n",
       "      <td>...</td>\n",
       "      <td>0.0</td>\n",
       "      <td>0.0</td>\n",
       "      <td>0.0</td>\n",
       "      <td>0.0</td>\n",
       "      <td>0.0</td>\n",
       "      <td>0.0</td>\n",
       "      <td>0.0</td>\n",
       "    </tr>\n",
       "    <tr>\n",
       "      <th>3</th>\n",
       "      <td>0.235294</td>\n",
       "      <td>0.166667</td>\n",
       "      <td>0.0</td>\n",
       "      <td>0.0</td>\n",
       "      <td>0.0</td>\n",
       "      <td>0.0</td>\n",
       "      <td>0.0</td>\n",
       "      <td>...</td>\n",
       "      <td>0.0</td>\n",
       "      <td>0.0</td>\n",
       "      <td>1.0</td>\n",
       "      <td>0.0</td>\n",
       "      <td>0.0</td>\n",
       "      <td>0.0</td>\n",
       "      <td>0.0</td>\n",
       "    </tr>\n",
       "    <tr>\n",
       "      <th>4</th>\n",
       "      <td>0.215686</td>\n",
       "      <td>0.500000</td>\n",
       "      <td>0.0</td>\n",
       "      <td>0.0</td>\n",
       "      <td>0.0</td>\n",
       "      <td>0.0</td>\n",
       "      <td>0.0</td>\n",
       "      <td>...</td>\n",
       "      <td>0.0</td>\n",
       "      <td>0.0</td>\n",
       "      <td>0.0</td>\n",
       "      <td>0.0</td>\n",
       "      <td>0.0</td>\n",
       "      <td>0.0</td>\n",
       "      <td>0.0</td>\n",
       "    </tr>\n",
       "    <tr>\n",
       "      <th>...</th>\n",
       "      <td>...</td>\n",
       "      <td>...</td>\n",
       "      <td>...</td>\n",
       "      <td>...</td>\n",
       "      <td>...</td>\n",
       "      <td>...</td>\n",
       "      <td>...</td>\n",
       "      <td>...</td>\n",
       "      <td>...</td>\n",
       "      <td>...</td>\n",
       "      <td>...</td>\n",
       "      <td>...</td>\n",
       "      <td>...</td>\n",
       "      <td>...</td>\n",
       "      <td>...</td>\n",
       "    </tr>\n",
       "    <tr>\n",
       "      <th>10531</th>\n",
       "      <td>0.156863</td>\n",
       "      <td>0.791667</td>\n",
       "      <td>0.0</td>\n",
       "      <td>0.0</td>\n",
       "      <td>0.0</td>\n",
       "      <td>0.0</td>\n",
       "      <td>0.0</td>\n",
       "      <td>...</td>\n",
       "      <td>1.0</td>\n",
       "      <td>0.0</td>\n",
       "      <td>0.0</td>\n",
       "      <td>0.0</td>\n",
       "      <td>0.0</td>\n",
       "      <td>0.0</td>\n",
       "      <td>0.0</td>\n",
       "    </tr>\n",
       "    <tr>\n",
       "      <th>10532</th>\n",
       "      <td>0.156863</td>\n",
       "      <td>0.583333</td>\n",
       "      <td>0.0</td>\n",
       "      <td>0.0</td>\n",
       "      <td>0.0</td>\n",
       "      <td>0.0</td>\n",
       "      <td>0.0</td>\n",
       "      <td>...</td>\n",
       "      <td>0.0</td>\n",
       "      <td>0.0</td>\n",
       "      <td>0.0</td>\n",
       "      <td>0.0</td>\n",
       "      <td>0.0</td>\n",
       "      <td>0.0</td>\n",
       "      <td>0.0</td>\n",
       "    </tr>\n",
       "    <tr>\n",
       "      <th>10533</th>\n",
       "      <td>0.450980</td>\n",
       "      <td>0.583333</td>\n",
       "      <td>0.0</td>\n",
       "      <td>0.0</td>\n",
       "      <td>0.0</td>\n",
       "      <td>0.0</td>\n",
       "      <td>0.0</td>\n",
       "      <td>...</td>\n",
       "      <td>0.0</td>\n",
       "      <td>0.0</td>\n",
       "      <td>0.0</td>\n",
       "      <td>0.0</td>\n",
       "      <td>0.0</td>\n",
       "      <td>0.0</td>\n",
       "      <td>0.0</td>\n",
       "    </tr>\n",
       "    <tr>\n",
       "      <th>10534</th>\n",
       "      <td>0.490196</td>\n",
       "      <td>0.791667</td>\n",
       "      <td>0.0</td>\n",
       "      <td>0.0</td>\n",
       "      <td>0.0</td>\n",
       "      <td>0.0</td>\n",
       "      <td>0.0</td>\n",
       "      <td>...</td>\n",
       "      <td>0.0</td>\n",
       "      <td>0.0</td>\n",
       "      <td>0.0</td>\n",
       "      <td>0.0</td>\n",
       "      <td>0.0</td>\n",
       "      <td>0.0</td>\n",
       "      <td>0.0</td>\n",
       "    </tr>\n",
       "    <tr>\n",
       "      <th>10535</th>\n",
       "      <td>0.470588</td>\n",
       "      <td>0.791667</td>\n",
       "      <td>0.0</td>\n",
       "      <td>0.0</td>\n",
       "      <td>0.0</td>\n",
       "      <td>0.0</td>\n",
       "      <td>1.0</td>\n",
       "      <td>...</td>\n",
       "      <td>0.0</td>\n",
       "      <td>0.0</td>\n",
       "      <td>0.0</td>\n",
       "      <td>0.0</td>\n",
       "      <td>0.0</td>\n",
       "      <td>0.0</td>\n",
       "      <td>0.0</td>\n",
       "    </tr>\n",
       "  </tbody>\n",
       "</table>\n",
       "<p>10536 rows × 23 columns</p>\n",
       "</div>"
      ],
      "text/plain": [
       "            age  edu_score  job_artistic / musical / writer  \\\n",
       "0      0.333333   0.083333                              0.0   \n",
       "1      0.098039   0.500000                              0.0   \n",
       "2      0.196078   0.583333                              0.0   \n",
       "3      0.235294   0.166667                              0.0   \n",
       "4      0.215686   0.500000                              0.0   \n",
       "...         ...        ...                              ...   \n",
       "10531  0.156863   0.791667                              0.0   \n",
       "10532  0.156863   0.583333                              0.0   \n",
       "10533  0.450980   0.583333                              0.0   \n",
       "10534  0.490196   0.791667                              0.0   \n",
       "10535  0.470588   0.791667                              0.0   \n",
       "\n",
       "       job_banking / financial / real estate  job_clerical / administrative  \\\n",
       "0                                        0.0                            0.0   \n",
       "1                                        0.0                            0.0   \n",
       "2                                        1.0                            0.0   \n",
       "3                                        0.0                            0.0   \n",
       "4                                        0.0                            0.0   \n",
       "...                                      ...                            ...   \n",
       "10531                                    0.0                            0.0   \n",
       "10532                                    0.0                            0.0   \n",
       "10533                                    0.0                            0.0   \n",
       "10534                                    0.0                            0.0   \n",
       "10535                                    0.0                            0.0   \n",
       "\n",
       "       job_computer / hardware / software  job_construction / craftsmanship  \\\n",
       "0                                     0.0                               0.0   \n",
       "1                                     0.0                               0.0   \n",
       "2                                     0.0                               0.0   \n",
       "3                                     0.0                               0.0   \n",
       "4                                     0.0                               0.0   \n",
       "...                                   ...                               ...   \n",
       "10531                                 0.0                               0.0   \n",
       "10532                                 0.0                               0.0   \n",
       "10533                                 0.0                               0.0   \n",
       "10534                                 0.0                               0.0   \n",
       "10535                                 0.0                               1.0   \n",
       "\n",
       "       ...  job_rather not say  job_retired  job_sales / marketing / biz dev  \\\n",
       "0      ...                 0.0          0.0                              0.0   \n",
       "1      ...                 0.0          0.0                              0.0   \n",
       "2      ...                 0.0          0.0                              0.0   \n",
       "3      ...                 0.0          0.0                              1.0   \n",
       "4      ...                 0.0          0.0                              0.0   \n",
       "...    ...                 ...          ...                              ...   \n",
       "10531  ...                 1.0          0.0                              0.0   \n",
       "10532  ...                 0.0          0.0                              0.0   \n",
       "10533  ...                 0.0          0.0                              0.0   \n",
       "10534  ...                 0.0          0.0                              0.0   \n",
       "10535  ...                 0.0          0.0                              0.0   \n",
       "\n",
       "       job_science / tech / engineering  job_student  job_transportation  \\\n",
       "0                                   0.0          0.0                 0.0   \n",
       "1                                   0.0          1.0                 0.0   \n",
       "2                                   0.0          0.0                 0.0   \n",
       "3                                   0.0          0.0                 0.0   \n",
       "4                                   0.0          0.0                 0.0   \n",
       "...                                 ...          ...                 ...   \n",
       "10531                               0.0          0.0                 0.0   \n",
       "10532                               0.0          0.0                 0.0   \n",
       "10533                               0.0          0.0                 0.0   \n",
       "10534                               0.0          0.0                 0.0   \n",
       "10535                               0.0          0.0                 0.0   \n",
       "\n",
       "       job_unemployed  \n",
       "0                 0.0  \n",
       "1                 0.0  \n",
       "2                 0.0  \n",
       "3                 0.0  \n",
       "4                 0.0  \n",
       "...               ...  \n",
       "10531             0.0  \n",
       "10532             0.0  \n",
       "10533             0.0  \n",
       "10534             0.0  \n",
       "10535             0.0  \n",
       "\n",
       "[10536 rows x 23 columns]"
      ]
     },
     "execution_count": 591,
     "metadata": {},
     "output_type": "execute_result"
    }
   ],
   "source": [
    "df_q2_features = df_q2_scaled.join(enc_job)\n",
    "df_q2_features"
   ]
  },
  {
   "cell_type": "code",
   "execution_count": 592,
   "metadata": {},
   "outputs": [
    {
     "data": {
      "text/plain": [
       "1     80000\n",
       "3     20000\n",
       "11    40000\n",
       "13    30000\n",
       "14    50000\n",
       "Name: income_str, dtype: object"
      ]
     },
     "execution_count": 592,
     "metadata": {},
     "output_type": "execute_result"
    }
   ],
   "source": [
    "df_q2_labels = df_q2['income_str']\n",
    "df_q2_labels.head()"
   ]
  },
  {
   "cell_type": "code",
   "execution_count": null,
   "metadata": {},
   "outputs": [],
   "source": []
  },
  {
   "cell_type": "markdown",
   "metadata": {},
   "source": [
    "### Step 4: Prediction"
   ]
  },
  {
   "cell_type": "markdown",
   "metadata": {},
   "source": [
    "### Question 1: Can habits, beliefs, & preferences be used to predict someone's astrological sign?\n",
    "\n",
    "We are goning to use two classification models and see which one is better\n",
    "- KNN\n",
    "- Decision Tree\n"
   ]
  },
  {
   "cell_type": "markdown",
   "metadata": {},
   "source": [
    "#### Splitting Train Test"
   ]
  },
  {
   "cell_type": "code",
   "execution_count": 593,
   "metadata": {},
   "outputs": [],
   "source": [
    "from sklearn.model_selection import train_test_split"
   ]
  },
  {
   "cell_type": "code",
   "execution_count": 594,
   "metadata": {},
   "outputs": [],
   "source": [
    "X_train1, X_test1, y_train1, y_test1 = train_test_split(q1_feature, np.ravel(q1_label), test_size = 0.2)"
   ]
  },
  {
   "cell_type": "markdown",
   "metadata": {},
   "source": [
    "#### KNN"
   ]
  },
  {
   "cell_type": "code",
   "execution_count": 595,
   "metadata": {},
   "outputs": [],
   "source": [
    "from sklearn.neighbors import KNeighborsClassifier"
   ]
  },
  {
   "cell_type": "code",
   "execution_count": 596,
   "metadata": {},
   "outputs": [
    {
     "name": "stdout",
     "output_type": "stream",
     "text": [
      "0.08631622008590714\n"
     ]
    }
   ],
   "source": [
    "knn1 = KNeighborsClassifier(n_neighbors = 5)\n",
    "\n",
    "knn1.fit(X_train1, y_train1)\n",
    "print(knn1.score(X_test1, y_test1))"
   ]
  },
  {
   "cell_type": "code",
   "execution_count": 597,
   "metadata": {},
   "outputs": [],
   "source": [
    "from sklearn.metrics import classification_report"
   ]
  },
  {
   "cell_type": "code",
   "execution_count": 598,
   "metadata": {},
   "outputs": [],
   "source": [
    "knn1_predictions = knn1.predict(X_test1)"
   ]
  },
  {
   "cell_type": "code",
   "execution_count": 599,
   "metadata": {},
   "outputs": [
    {
     "name": "stdout",
     "output_type": "stream",
     "text": [
      "              precision    recall  f1-score   support\n",
      "\n",
      "    aquarius       0.08      0.20      0.11       778\n",
      "       aries       0.09      0.16      0.11       835\n",
      "      cancer       0.08      0.12      0.10       774\n",
      "   capricorn       0.06      0.06      0.06       699\n",
      "      gemini       0.09      0.07      0.08       866\n",
      "         leo       0.06      0.04      0.05       887\n",
      "       libra       0.07      0.05      0.06       847\n",
      "      pisces       0.07      0.04      0.05       757\n",
      " sagittarius       0.07      0.04      0.05       770\n",
      "     scorpio       0.07      0.04      0.05       830\n",
      "      taurus       0.07      0.04      0.05       856\n",
      "       virgo       0.07      0.04      0.05       879\n",
      "\n",
      "    accuracy                           0.08      9778\n",
      "   macro avg       0.07      0.08      0.07      9778\n",
      "weighted avg       0.07      0.08      0.07      9778\n",
      "\n"
     ]
    }
   ],
   "source": [
    "print(classification_report(Y_test1, knn1_predictions))"
   ]
  },
  {
   "cell_type": "markdown",
   "metadata": {},
   "source": [
    "From both score and classification report, we see an accuracy of about 8%. That's terrible. Let's try decision tree instead."
   ]
  },
  {
   "cell_type": "markdown",
   "metadata": {},
   "source": [
    "#### Decision Tree"
   ]
  },
  {
   "cell_type": "code",
   "execution_count": 600,
   "metadata": {},
   "outputs": [],
   "source": [
    "from sklearn.tree import DecisionTreeClassifier"
   ]
  },
  {
   "cell_type": "code",
   "execution_count": 601,
   "metadata": {},
   "outputs": [],
   "source": [
    "tree1 = DecisionTreeClassifier(max_depth = None)"
   ]
  },
  {
   "cell_type": "code",
   "execution_count": 602,
   "metadata": {},
   "outputs": [
    {
     "data": {
      "text/plain": [
       "DecisionTreeClassifier(ccp_alpha=0.0, class_weight=None, criterion='gini',\n",
       "                       max_depth=None, max_features=None, max_leaf_nodes=None,\n",
       "                       min_impurity_decrease=0.0, min_impurity_split=None,\n",
       "                       min_samples_leaf=1, min_samples_split=2,\n",
       "                       min_weight_fraction_leaf=0.0, presort='deprecated',\n",
       "                       random_state=None, splitter='best')"
      ]
     },
     "execution_count": 602,
     "metadata": {},
     "output_type": "execute_result"
    }
   ],
   "source": [
    "tree1.fit(X_train1, Y_train1)"
   ]
  },
  {
   "cell_type": "code",
   "execution_count": 603,
   "metadata": {},
   "outputs": [],
   "source": [
    "tree1_predictions = tree1.predict(X_test1)"
   ]
  },
  {
   "cell_type": "code",
   "execution_count": 604,
   "metadata": {},
   "outputs": [
    {
     "name": "stdout",
     "output_type": "stream",
     "text": [
      "              precision    recall  f1-score   support\n",
      "\n",
      "    aquarius       0.06      0.09      0.08       778\n",
      "       aries       0.10      0.12      0.11       835\n",
      "      cancer       0.08      0.10      0.09       774\n",
      "   capricorn       0.07      0.08      0.08       699\n",
      "      gemini       0.08      0.08      0.08       866\n",
      "         leo       0.09      0.08      0.09       887\n",
      "       libra       0.06      0.06      0.06       847\n",
      "      pisces       0.09      0.08      0.09       757\n",
      " sagittarius       0.08      0.07      0.08       770\n",
      "     scorpio       0.07      0.06      0.06       830\n",
      "      taurus       0.10      0.08      0.09       856\n",
      "       virgo       0.10      0.08      0.09       879\n",
      "\n",
      "    accuracy                           0.08      9778\n",
      "   macro avg       0.08      0.08      0.08      9778\n",
      "weighted avg       0.08      0.08      0.08      9778\n",
      "\n"
     ]
    }
   ],
   "source": [
    "print(classification_report(Y_test1, tree1_predictions))"
   ]
  },
  {
   "cell_type": "markdown",
   "metadata": {},
   "source": [
    "We are also yielding results of around 8% to 9%. This is a bit frustrating. Let's see if we can do something to improve prediction rate.\n",
    "\n",
    "We have had a lot of 'not disclosed' columns. Let's drop all of those and see if it works."
   ]
  },
  {
   "cell_type": "markdown",
   "metadata": {},
   "source": [
    "#### Fixing by removing most NaN rows."
   ]
  },
  {
   "cell_type": "code",
   "execution_count": 605,
   "metadata": {},
   "outputs": [
    {
     "name": "stdout",
     "output_type": "stream",
     "text": [
      "7802\n",
      "['gemini' 'cancer' 'sagittarius' 'taurus' 'pisces' 'aquarius' 'libra'\n",
      " 'aries' 'capricorn' 'virgo' 'leo' 'scorpio']\n"
     ]
    },
    {
     "data": {
      "text/html": [
       "<div>\n",
       "<style scoped>\n",
       "    .dataframe tbody tr th:only-of-type {\n",
       "        vertical-align: middle;\n",
       "    }\n",
       "\n",
       "    .dataframe tbody tr th {\n",
       "        vertical-align: top;\n",
       "    }\n",
       "\n",
       "    .dataframe thead th {\n",
       "        text-align: right;\n",
       "    }\n",
       "</style>\n",
       "<table border=\"1\" class=\"dataframe\">\n",
       "  <thead>\n",
       "    <tr style=\"text-align: right;\">\n",
       "      <th></th>\n",
       "      <th>diet</th>\n",
       "      <th>drinks</th>\n",
       "      <th>drugs</th>\n",
       "      <th>job</th>\n",
       "      <th>offspring</th>\n",
       "      <th>pets</th>\n",
       "      <th>smokes</th>\n",
       "      <th>religion_cleaned</th>\n",
       "      <th>sign_cleaned</th>\n",
       "    </tr>\n",
       "  </thead>\n",
       "  <tbody>\n",
       "    <tr>\n",
       "      <th>0</th>\n",
       "      <td>strictly anything</td>\n",
       "      <td>socially</td>\n",
       "      <td>never</td>\n",
       "      <td>transportation</td>\n",
       "      <td>doesn&amp;rsquo;t have kids, but might want them</td>\n",
       "      <td>likes dogs and likes cats</td>\n",
       "      <td>sometimes</td>\n",
       "      <td>agnosticism</td>\n",
       "      <td>gemini</td>\n",
       "    </tr>\n",
       "    <tr>\n",
       "      <th>1</th>\n",
       "      <td>mostly other</td>\n",
       "      <td>often</td>\n",
       "      <td>sometimes</td>\n",
       "      <td>hospitality / travel</td>\n",
       "      <td>doesn&amp;rsquo;t have kids, but might want them</td>\n",
       "      <td>likes dogs and likes cats</td>\n",
       "      <td>no</td>\n",
       "      <td>agnosticism</td>\n",
       "      <td>cancer</td>\n",
       "    </tr>\n",
       "    <tr>\n",
       "      <th>7</th>\n",
       "      <td>mostly anything</td>\n",
       "      <td>socially</td>\n",
       "      <td>never</td>\n",
       "      <td>artistic / musical / writer</td>\n",
       "      <td>doesn&amp;rsquo;t have kids, but wants them</td>\n",
       "      <td>likes dogs and likes cats</td>\n",
       "      <td>no</td>\n",
       "      <td>christianity</td>\n",
       "      <td>sagittarius</td>\n",
       "    </tr>\n",
       "    <tr>\n",
       "      <th>14</th>\n",
       "      <td>mostly anything</td>\n",
       "      <td>socially</td>\n",
       "      <td>never</td>\n",
       "      <td>other</td>\n",
       "      <td>doesn&amp;rsquo;t have kids, but wants them</td>\n",
       "      <td>likes dogs and has cats</td>\n",
       "      <td>no</td>\n",
       "      <td>catholicism</td>\n",
       "      <td>taurus</td>\n",
       "    </tr>\n",
       "    <tr>\n",
       "      <th>19</th>\n",
       "      <td>mostly anything</td>\n",
       "      <td>socially</td>\n",
       "      <td>never</td>\n",
       "      <td>science / tech / engineering</td>\n",
       "      <td>doesn&amp;rsquo;t have kids</td>\n",
       "      <td>likes dogs and likes cats</td>\n",
       "      <td>no</td>\n",
       "      <td>catholicism</td>\n",
       "      <td>pisces</td>\n",
       "    </tr>\n",
       "    <tr>\n",
       "      <th>...</th>\n",
       "      <td>...</td>\n",
       "      <td>...</td>\n",
       "      <td>...</td>\n",
       "      <td>...</td>\n",
       "      <td>...</td>\n",
       "      <td>...</td>\n",
       "      <td>...</td>\n",
       "      <td>...</td>\n",
       "      <td>...</td>\n",
       "    </tr>\n",
       "    <tr>\n",
       "      <th>59907</th>\n",
       "      <td>anything</td>\n",
       "      <td>socially</td>\n",
       "      <td>sometimes</td>\n",
       "      <td>artistic / musical / writer</td>\n",
       "      <td>doesn&amp;rsquo;t have kids</td>\n",
       "      <td>likes dogs</td>\n",
       "      <td>sometimes</td>\n",
       "      <td>atheism</td>\n",
       "      <td>taurus</td>\n",
       "    </tr>\n",
       "    <tr>\n",
       "      <th>59913</th>\n",
       "      <td>mostly anything</td>\n",
       "      <td>socially</td>\n",
       "      <td>never</td>\n",
       "      <td>executive / management</td>\n",
       "      <td>doesn&amp;rsquo;t have kids</td>\n",
       "      <td>likes dogs and likes cats</td>\n",
       "      <td>no</td>\n",
       "      <td>agnosticism</td>\n",
       "      <td>libra</td>\n",
       "    </tr>\n",
       "    <tr>\n",
       "      <th>59920</th>\n",
       "      <td>mostly anything</td>\n",
       "      <td>socially</td>\n",
       "      <td>sometimes</td>\n",
       "      <td>science / tech / engineering</td>\n",
       "      <td>doesn&amp;rsquo;t have kids</td>\n",
       "      <td>likes dogs and likes cats</td>\n",
       "      <td>no</td>\n",
       "      <td>agnosticism</td>\n",
       "      <td>sagittarius</td>\n",
       "    </tr>\n",
       "    <tr>\n",
       "      <th>59942</th>\n",
       "      <td>mostly anything</td>\n",
       "      <td>often</td>\n",
       "      <td>sometimes</td>\n",
       "      <td>entertainment / media</td>\n",
       "      <td>doesn&amp;rsquo;t have kids</td>\n",
       "      <td>likes dogs and likes cats</td>\n",
       "      <td>no</td>\n",
       "      <td>agnosticism</td>\n",
       "      <td>leo</td>\n",
       "    </tr>\n",
       "    <tr>\n",
       "      <th>59944</th>\n",
       "      <td>mostly anything</td>\n",
       "      <td>socially</td>\n",
       "      <td>often</td>\n",
       "      <td>medicine / health</td>\n",
       "      <td>doesn&amp;rsquo;t have kids, but wants them</td>\n",
       "      <td>likes dogs and likes cats</td>\n",
       "      <td>trying to quit</td>\n",
       "      <td>agnosticism</td>\n",
       "      <td>leo</td>\n",
       "    </tr>\n",
       "  </tbody>\n",
       "</table>\n",
       "<p>7802 rows × 9 columns</p>\n",
       "</div>"
      ],
      "text/plain": [
       "                    diet    drinks      drugs                           job  \\\n",
       "0      strictly anything  socially      never                transportation   \n",
       "1           mostly other     often  sometimes          hospitality / travel   \n",
       "7        mostly anything  socially      never   artistic / musical / writer   \n",
       "14       mostly anything  socially      never                         other   \n",
       "19       mostly anything  socially      never  science / tech / engineering   \n",
       "...                  ...       ...        ...                           ...   \n",
       "59907           anything  socially  sometimes   artistic / musical / writer   \n",
       "59913    mostly anything  socially      never        executive / management   \n",
       "59920    mostly anything  socially  sometimes  science / tech / engineering   \n",
       "59942    mostly anything     often  sometimes         entertainment / media   \n",
       "59944    mostly anything  socially      often             medicine / health   \n",
       "\n",
       "                                          offspring  \\\n",
       "0      doesn&rsquo;t have kids, but might want them   \n",
       "1      doesn&rsquo;t have kids, but might want them   \n",
       "7           doesn&rsquo;t have kids, but wants them   \n",
       "14          doesn&rsquo;t have kids, but wants them   \n",
       "19                          doesn&rsquo;t have kids   \n",
       "...                                             ...   \n",
       "59907                       doesn&rsquo;t have kids   \n",
       "59913                       doesn&rsquo;t have kids   \n",
       "59920                       doesn&rsquo;t have kids   \n",
       "59942                       doesn&rsquo;t have kids   \n",
       "59944       doesn&rsquo;t have kids, but wants them   \n",
       "\n",
       "                            pets          smokes religion_cleaned sign_cleaned  \n",
       "0      likes dogs and likes cats       sometimes      agnosticism       gemini  \n",
       "1      likes dogs and likes cats              no      agnosticism       cancer  \n",
       "7      likes dogs and likes cats              no     christianity  sagittarius  \n",
       "14       likes dogs and has cats              no      catholicism       taurus  \n",
       "19     likes dogs and likes cats              no      catholicism       pisces  \n",
       "...                          ...             ...              ...          ...  \n",
       "59907                 likes dogs       sometimes          atheism       taurus  \n",
       "59913  likes dogs and likes cats              no      agnosticism        libra  \n",
       "59920  likes dogs and likes cats              no      agnosticism  sagittarius  \n",
       "59942  likes dogs and likes cats              no      agnosticism          leo  \n",
       "59944  likes dogs and likes cats  trying to quit      agnosticism          leo  \n",
       "\n",
       "[7802 rows x 9 columns]"
      ]
     },
     "execution_count": 605,
     "metadata": {},
     "output_type": "execute_result"
    }
   ],
   "source": [
    "new_df = profiles[habits_beliefs_preferences + ['sign']][:]\n",
    "#new_df.diet.fillna('anything', inplace = True)\n",
    "new_df.drop(columns = ['speaks'], inplace = True)\n",
    "new_df = new_df.dropna()\n",
    "print(len(new_df))\n",
    "\n",
    "new_df['religion_cleaned'] = new_df.religion.apply(lambda x:\\\n",
    "                                            x.split()[0] if x != 'not disclosed' else x)\n",
    "\n",
    "new_df['sign_cleaned'] = new_df.sign.apply(lambda x: x.split()[0])\n",
    "\n",
    "print(new_df.sign_cleaned.unique())\n",
    "      \n",
    "new_df.drop(columns = ['religion', 'sign'], inplace = True)\n",
    "\n",
    "new_df"
   ]
  },
  {
   "cell_type": "code",
   "execution_count": 606,
   "metadata": {},
   "outputs": [
    {
     "name": "stdout",
     "output_type": "stream",
     "text": [
      "['diet_anything', 'diet_kosher', 'diet_mostly anything', 'diet_mostly halal', 'diet_mostly kosher', 'diet_mostly other', 'diet_mostly vegan', 'diet_mostly vegetarian', 'diet_other', 'diet_strictly anything', 'diet_strictly halal', 'diet_strictly kosher', 'diet_strictly other', 'diet_strictly vegan', 'diet_strictly vegetarian', 'diet_vegan', 'diet_vegetarian', 'drinks_desperately', 'drinks_not at all', 'drinks_often', 'drinks_rarely', 'drinks_socially', 'drinks_very often', 'drugs_never', 'drugs_often', 'drugs_sometimes', 'job_artistic / musical / writer', 'job_banking / financial / real estate', 'job_clerical / administrative', 'job_computer / hardware / software', 'job_construction / craftsmanship', 'job_education / academia', 'job_entertainment / media', 'job_executive / management', 'job_hospitality / travel', 'job_law / legal services', 'job_medicine / health', 'job_military', 'job_other', 'job_political / government', 'job_rather not say', 'job_retired', 'job_sales / marketing / biz dev', 'job_science / tech / engineering', 'job_student', 'job_transportation', 'job_unemployed', 'offspring_doesn&rsquo;t have kids', 'offspring_doesn&rsquo;t have kids, and doesn&rsquo;t want any', 'offspring_doesn&rsquo;t have kids, but might want them', 'offspring_doesn&rsquo;t have kids, but wants them', 'offspring_doesn&rsquo;t want kids', 'offspring_has a kid', 'offspring_has a kid, and might want more', 'offspring_has a kid, and wants more', 'offspring_has a kid, but doesn&rsquo;t want more', 'offspring_has kids', 'offspring_has kids, and might want more', 'offspring_has kids, and wants more', 'offspring_has kids, but doesn&rsquo;t want more', 'offspring_might want kids', 'offspring_wants kids', 'pets_dislikes cats', 'pets_dislikes dogs', 'pets_dislikes dogs and dislikes cats', 'pets_dislikes dogs and has cats', 'pets_dislikes dogs and likes cats', 'pets_has cats', 'pets_has dogs', 'pets_has dogs and dislikes cats', 'pets_has dogs and has cats', 'pets_has dogs and likes cats', 'pets_likes cats', 'pets_likes dogs', 'pets_likes dogs and dislikes cats', 'pets_likes dogs and has cats', 'pets_likes dogs and likes cats', 'religion_cleaned_agnosticism', 'religion_cleaned_atheism', 'religion_cleaned_buddhism', 'religion_cleaned_catholicism', 'religion_cleaned_christianity', 'religion_cleaned_hinduism', 'religion_cleaned_islam', 'religion_cleaned_judaism', 'religion_cleaned_other', 'smokes_no', 'smokes_sometimes', 'smokes_trying to quit', 'smokes_when drinking', 'smokes_yes']\n",
      "7802\n",
      "7802\n"
     ]
    },
    {
     "data": {
      "text/plain": [
       "0          gemini\n",
       "1          cancer\n",
       "7     sagittarius\n",
       "14         taurus\n",
       "19         pisces\n",
       "Name: sign_cleaned, dtype: object"
      ]
     },
     "execution_count": 606,
     "metadata": {},
     "output_type": "execute_result"
    }
   ],
   "source": [
    "cols = ['diet', 'drinks', 'drugs', 'job', 'offspring', 'pets', 'religion_cleaned', 'smokes']\n",
    "q1_label_rev = new_df['sign_cleaned']\n",
    "q1_feature_rev = new_df.drop(columns = 'sign_cleaned')\n",
    "\n",
    "for col in cols:\n",
    "    q1_feature_rev = pd.get_dummies(q1_feature_rev, columns = [col], prefix = [col])\n",
    "print(q1_feature_rev.columns.tolist())\n",
    "print(len(q1_label_rev))\n",
    "print(len(q1_feature_rev))\n",
    "q1_label_rev.head()"
   ]
  },
  {
   "cell_type": "code",
   "execution_count": 607,
   "metadata": {},
   "outputs": [],
   "source": [
    "X_train2, X_test2, y_train2, y_test2 = \\\n",
    "    train_test_split(q1_feature_rev, q1_label_rev, test_size = 0.2)"
   ]
  },
  {
   "cell_type": "code",
   "execution_count": 608,
   "metadata": {},
   "outputs": [],
   "source": [
    "tree2 = DecisionTreeClassifier(max_depth = None)"
   ]
  },
  {
   "cell_type": "code",
   "execution_count": 609,
   "metadata": {},
   "outputs": [
    {
     "data": {
      "text/plain": [
       "DecisionTreeClassifier(ccp_alpha=0.0, class_weight=None, criterion='gini',\n",
       "                       max_depth=None, max_features=None, max_leaf_nodes=None,\n",
       "                       min_impurity_decrease=0.0, min_impurity_split=None,\n",
       "                       min_samples_leaf=1, min_samples_split=2,\n",
       "                       min_weight_fraction_leaf=0.0, presort='deprecated',\n",
       "                       random_state=None, splitter='best')"
      ]
     },
     "execution_count": 609,
     "metadata": {},
     "output_type": "execute_result"
    }
   ],
   "source": [
    "tree2.fit(X_train2, y_train2)"
   ]
  },
  {
   "cell_type": "code",
   "execution_count": 610,
   "metadata": {},
   "outputs": [],
   "source": [
    "tree2_predictions = tree2.predict(X_test2)"
   ]
  },
  {
   "cell_type": "code",
   "execution_count": 611,
   "metadata": {},
   "outputs": [
    {
     "name": "stdout",
     "output_type": "stream",
     "text": [
      "              precision    recall  f1-score   support\n",
      "\n",
      "    aquarius       0.08      0.09      0.08       111\n",
      "       aries       0.09      0.08      0.08       140\n",
      "      cancer       0.10      0.10      0.10       143\n",
      "   capricorn       0.07      0.08      0.08       111\n",
      "      gemini       0.12      0.11      0.11       141\n",
      "         leo       0.14      0.14      0.14       155\n",
      "       libra       0.05      0.06      0.06       119\n",
      "      pisces       0.07      0.06      0.06       131\n",
      " sagittarius       0.06      0.06      0.06       121\n",
      "     scorpio       0.15      0.15      0.15       131\n",
      "      taurus       0.03      0.03      0.03       132\n",
      "       virgo       0.07      0.08      0.07       126\n",
      "\n",
      "    accuracy                           0.09      1561\n",
      "   macro avg       0.09      0.09      0.09      1561\n",
      "weighted avg       0.09      0.09      0.09      1561\n",
      "\n"
     ]
    }
   ],
   "source": [
    "print(classification_report(y_test2, tree2_predictions))"
   ]
  },
  {
   "cell_type": "code",
   "execution_count": 612,
   "metadata": {},
   "outputs": [],
   "source": [
    "from sklearn.ensemble import RandomForestClassifier"
   ]
  },
  {
   "cell_type": "code",
   "execution_count": 613,
   "metadata": {},
   "outputs": [],
   "source": [
    "forest = RandomForestClassifier()"
   ]
  },
  {
   "cell_type": "code",
   "execution_count": 614,
   "metadata": {},
   "outputs": [
    {
     "data": {
      "text/plain": [
       "RandomForestClassifier(bootstrap=True, ccp_alpha=0.0, class_weight=None,\n",
       "                       criterion='gini', max_depth=None, max_features='auto',\n",
       "                       max_leaf_nodes=None, max_samples=None,\n",
       "                       min_impurity_decrease=0.0, min_impurity_split=None,\n",
       "                       min_samples_leaf=1, min_samples_split=2,\n",
       "                       min_weight_fraction_leaf=0.0, n_estimators=100,\n",
       "                       n_jobs=None, oob_score=False, random_state=None,\n",
       "                       verbose=0, warm_start=False)"
      ]
     },
     "execution_count": 614,
     "metadata": {},
     "output_type": "execute_result"
    }
   ],
   "source": [
    "forest.fit(X_train2, y_train2)"
   ]
  },
  {
   "cell_type": "code",
   "execution_count": 615,
   "metadata": {},
   "outputs": [],
   "source": [
    "forest_predictions = forest.predict(X_test2)"
   ]
  },
  {
   "cell_type": "code",
   "execution_count": 676,
   "metadata": {},
   "outputs": [
    {
     "name": "stdout",
     "output_type": "stream",
     "text": [
      "              precision    recall  f1-score   support\n",
      "\n",
      "    aquarius       0.10      0.09      0.10       111\n",
      "       aries       0.07      0.06      0.06       140\n",
      "      cancer       0.09      0.10      0.10       143\n",
      "   capricorn       0.05      0.05      0.05       111\n",
      "      gemini       0.08      0.09      0.08       141\n",
      "         leo       0.09      0.09      0.09       155\n",
      "       libra       0.08      0.09      0.09       119\n",
      "      pisces       0.09      0.08      0.09       131\n",
      " sagittarius       0.07      0.07      0.07       121\n",
      "     scorpio       0.12      0.11      0.11       131\n",
      "      taurus       0.06      0.05      0.05       132\n",
      "       virgo       0.09      0.10      0.09       126\n",
      "\n",
      "    accuracy                           0.08      1561\n",
      "   macro avg       0.08      0.08      0.08      1561\n",
      "weighted avg       0.08      0.08      0.08      1561\n",
      "\n"
     ]
    }
   ],
   "source": [
    "print(classification_report(y_test2, forest_predictions))"
   ]
  },
  {
   "cell_type": "markdown",
   "metadata": {},
   "source": [
    "#### One last desperate attempt\n",
    "\n",
    "Let's try to group the zodiac signs, as how we had done with the income brackets in Question 2."
   ]
  },
  {
   "cell_type": "code",
   "execution_count": 685,
   "metadata": {},
   "outputs": [
    {
     "data": {
      "text/plain": [
       "0             gemini\n",
       "1             cancer\n",
       "7        sagittarius\n",
       "14            taurus\n",
       "19            pisces\n",
       "            ...     \n",
       "59907         taurus\n",
       "59913          libra\n",
       "59920    sagittarius\n",
       "59942            leo\n",
       "59944            leo\n",
       "Name: sign_cleaned, Length: 7802, dtype: object"
      ]
     },
     "execution_count": 685,
     "metadata": {},
     "output_type": "execute_result"
    }
   ],
   "source": [
    "q1_label_rev"
   ]
  },
  {
   "cell_type": "code",
   "execution_count": 690,
   "metadata": {
    "scrolled": true
   },
   "outputs": [
    {
     "name": "stdout",
     "output_type": "stream",
     "text": [
      "Water    1991\n",
      "Fire     1977\n",
      "Air      1932\n",
      "Earth    1902\n",
      "Name: sign_cleaned, dtype: int64\n"
     ]
    },
    {
     "data": {
      "text/plain": [
       "0          Air\n",
       "1        Water\n",
       "7         Fire\n",
       "14       Earth\n",
       "19       Water\n",
       "         ...  \n",
       "59907    Earth\n",
       "59913      Air\n",
       "59920     Fire\n",
       "59942     Fire\n",
       "59944     Fire\n",
       "Name: sign_cleaned, Length: 7802, dtype: object"
      ]
     },
     "execution_count": 690,
     "metadata": {},
     "output_type": "execute_result"
    }
   ],
   "source": [
    "def sign_group(x):\n",
    "    if (x in ['aries', 'leo', 'sagittarius']):\n",
    "        return 'Fire'\n",
    "    elif (x in ['taurus', 'virgo', 'capricorn']):\n",
    "        return 'Earth'\n",
    "    elif (x in ['gemini', 'libra', 'aquarius']):\n",
    "        return 'Air'\n",
    "    elif (x in ['cancer', 'scorpio', 'pisces']):\n",
    "        return 'Water'\n",
    "q1_label_group = q1_label_rev.apply(sign_group)\n",
    "print(q1_label_group.value_counts())\n",
    "q1_label_group"
   ]
  },
  {
   "cell_type": "code",
   "execution_count": 694,
   "metadata": {},
   "outputs": [],
   "source": [
    "X_train1_2, X_test1_2, y_train1_2, y_test1_2 = train_test_split(q1_feature_rev, q1_label_group, test_size = 0.2)"
   ]
  },
  {
   "cell_type": "code",
   "execution_count": 695,
   "metadata": {},
   "outputs": [],
   "source": [
    "forest6 = RandomForestClassifier()"
   ]
  },
  {
   "cell_type": "code",
   "execution_count": 699,
   "metadata": {},
   "outputs": [
    {
     "data": {
      "text/plain": [
       "RandomForestClassifier(bootstrap=True, ccp_alpha=0.0, class_weight=None,\n",
       "                       criterion='gini', max_depth=None, max_features='auto',\n",
       "                       max_leaf_nodes=None, max_samples=None,\n",
       "                       min_impurity_decrease=0.0, min_impurity_split=None,\n",
       "                       min_samples_leaf=1, min_samples_split=2,\n",
       "                       min_weight_fraction_leaf=0.0, n_estimators=100,\n",
       "                       n_jobs=None, oob_score=False, random_state=None,\n",
       "                       verbose=0, warm_start=False)"
      ]
     },
     "execution_count": 699,
     "metadata": {},
     "output_type": "execute_result"
    }
   ],
   "source": [
    "forest6.fit(X_train1_2, y_train1_2)"
   ]
  },
  {
   "cell_type": "code",
   "execution_count": 701,
   "metadata": {},
   "outputs": [],
   "source": [
    "forest6_predict = forest6.predict(X_test1_2)"
   ]
  },
  {
   "cell_type": "code",
   "execution_count": 702,
   "metadata": {},
   "outputs": [
    {
     "name": "stdout",
     "output_type": "stream",
     "text": [
      "              precision    recall  f1-score   support\n",
      "\n",
      "         Air       0.26      0.27      0.27       391\n",
      "       Earth       0.24      0.25      0.24       351\n",
      "        Fire       0.29      0.27      0.28       411\n",
      "       Water       0.28      0.27      0.27       408\n",
      "\n",
      "    accuracy                           0.27      1561\n",
      "   macro avg       0.27      0.27      0.27      1561\n",
      "weighted avg       0.27      0.27      0.27      1561\n",
      "\n"
     ]
    }
   ],
   "source": [
    "print(classification_report(y_test1_2, forest6_predict))"
   ]
  },
  {
   "cell_type": "markdown",
   "metadata": {},
   "source": [
    "#### Analysis of Question 1 Predictions\n",
    "\n",
    "We have tried KNN and decision tree, and we have tried to add the `job` column to the `habits, beliefs & prefrences` features. In all the cases, we have a prediction rate not much better than random guessing.\n",
    "\n",
    "Perhaps we could get a better model by adding in appearance related information, but that would not make logical sense since appearance is not related to astrology anyhow. That would create an overfitted model that defeats our original purpose.\n",
    "\n",
    "Therefore, my conclusion here is that we cannot predict zodiac signs from lifestyle. It's highly likely that there's no correlation between the two."
   ]
  },
  {
   "cell_type": "markdown",
   "metadata": {},
   "source": [
    "### Question 2: Can education and location be used to predict income?\n",
    "\n",
    "We are going to use random forest to predict. Remember that we are predicting `income` from `job`, `education`, and `age`\n",
    "\n",
    "We have dataframes `df_q2_features` and `df_q2_labels`"
   ]
  },
  {
   "cell_type": "code",
   "execution_count": 617,
   "metadata": {},
   "outputs": [
    {
     "data": {
      "text/html": [
       "<div>\n",
       "<style scoped>\n",
       "    .dataframe tbody tr th:only-of-type {\n",
       "        vertical-align: middle;\n",
       "    }\n",
       "\n",
       "    .dataframe tbody tr th {\n",
       "        vertical-align: top;\n",
       "    }\n",
       "\n",
       "    .dataframe thead th {\n",
       "        text-align: right;\n",
       "    }\n",
       "</style>\n",
       "<table border=\"1\" class=\"dataframe\">\n",
       "  <thead>\n",
       "    <tr style=\"text-align: right;\">\n",
       "      <th></th>\n",
       "      <th>age</th>\n",
       "      <th>edu_score</th>\n",
       "      <th>job_artistic / musical / writer</th>\n",
       "      <th>job_banking / financial / real estate</th>\n",
       "      <th>job_clerical / administrative</th>\n",
       "      <th>job_computer / hardware / software</th>\n",
       "      <th>job_construction / craftsmanship</th>\n",
       "      <th>...</th>\n",
       "      <th>job_rather not say</th>\n",
       "      <th>job_retired</th>\n",
       "      <th>job_sales / marketing / biz dev</th>\n",
       "      <th>job_science / tech / engineering</th>\n",
       "      <th>job_student</th>\n",
       "      <th>job_transportation</th>\n",
       "      <th>job_unemployed</th>\n",
       "    </tr>\n",
       "  </thead>\n",
       "  <tbody>\n",
       "    <tr>\n",
       "      <th>0</th>\n",
       "      <td>0.333333</td>\n",
       "      <td>0.083333</td>\n",
       "      <td>0.0</td>\n",
       "      <td>0.0</td>\n",
       "      <td>0.0</td>\n",
       "      <td>0.0</td>\n",
       "      <td>0.0</td>\n",
       "      <td>...</td>\n",
       "      <td>0.0</td>\n",
       "      <td>0.0</td>\n",
       "      <td>0.0</td>\n",
       "      <td>0.0</td>\n",
       "      <td>0.0</td>\n",
       "      <td>0.0</td>\n",
       "      <td>0.0</td>\n",
       "    </tr>\n",
       "    <tr>\n",
       "      <th>1</th>\n",
       "      <td>0.098039</td>\n",
       "      <td>0.500000</td>\n",
       "      <td>0.0</td>\n",
       "      <td>0.0</td>\n",
       "      <td>0.0</td>\n",
       "      <td>0.0</td>\n",
       "      <td>0.0</td>\n",
       "      <td>...</td>\n",
       "      <td>0.0</td>\n",
       "      <td>0.0</td>\n",
       "      <td>0.0</td>\n",
       "      <td>0.0</td>\n",
       "      <td>1.0</td>\n",
       "      <td>0.0</td>\n",
       "      <td>0.0</td>\n",
       "    </tr>\n",
       "    <tr>\n",
       "      <th>2</th>\n",
       "      <td>0.196078</td>\n",
       "      <td>0.583333</td>\n",
       "      <td>0.0</td>\n",
       "      <td>1.0</td>\n",
       "      <td>0.0</td>\n",
       "      <td>0.0</td>\n",
       "      <td>0.0</td>\n",
       "      <td>...</td>\n",
       "      <td>0.0</td>\n",
       "      <td>0.0</td>\n",
       "      <td>0.0</td>\n",
       "      <td>0.0</td>\n",
       "      <td>0.0</td>\n",
       "      <td>0.0</td>\n",
       "      <td>0.0</td>\n",
       "    </tr>\n",
       "    <tr>\n",
       "      <th>3</th>\n",
       "      <td>0.235294</td>\n",
       "      <td>0.166667</td>\n",
       "      <td>0.0</td>\n",
       "      <td>0.0</td>\n",
       "      <td>0.0</td>\n",
       "      <td>0.0</td>\n",
       "      <td>0.0</td>\n",
       "      <td>...</td>\n",
       "      <td>0.0</td>\n",
       "      <td>0.0</td>\n",
       "      <td>1.0</td>\n",
       "      <td>0.0</td>\n",
       "      <td>0.0</td>\n",
       "      <td>0.0</td>\n",
       "      <td>0.0</td>\n",
       "    </tr>\n",
       "    <tr>\n",
       "      <th>4</th>\n",
       "      <td>0.215686</td>\n",
       "      <td>0.500000</td>\n",
       "      <td>0.0</td>\n",
       "      <td>0.0</td>\n",
       "      <td>0.0</td>\n",
       "      <td>0.0</td>\n",
       "      <td>0.0</td>\n",
       "      <td>...</td>\n",
       "      <td>0.0</td>\n",
       "      <td>0.0</td>\n",
       "      <td>0.0</td>\n",
       "      <td>0.0</td>\n",
       "      <td>0.0</td>\n",
       "      <td>0.0</td>\n",
       "      <td>0.0</td>\n",
       "    </tr>\n",
       "  </tbody>\n",
       "</table>\n",
       "<p>5 rows × 23 columns</p>\n",
       "</div>"
      ],
      "text/plain": [
       "        age  edu_score  job_artistic / musical / writer  \\\n",
       "0  0.333333   0.083333                              0.0   \n",
       "1  0.098039   0.500000                              0.0   \n",
       "2  0.196078   0.583333                              0.0   \n",
       "3  0.235294   0.166667                              0.0   \n",
       "4  0.215686   0.500000                              0.0   \n",
       "\n",
       "   job_banking / financial / real estate  job_clerical / administrative  \\\n",
       "0                                    0.0                            0.0   \n",
       "1                                    0.0                            0.0   \n",
       "2                                    1.0                            0.0   \n",
       "3                                    0.0                            0.0   \n",
       "4                                    0.0                            0.0   \n",
       "\n",
       "   job_computer / hardware / software  job_construction / craftsmanship  ...  \\\n",
       "0                                 0.0                               0.0  ...   \n",
       "1                                 0.0                               0.0  ...   \n",
       "2                                 0.0                               0.0  ...   \n",
       "3                                 0.0                               0.0  ...   \n",
       "4                                 0.0                               0.0  ...   \n",
       "\n",
       "   job_rather not say  job_retired  job_sales / marketing / biz dev  \\\n",
       "0                 0.0          0.0                              0.0   \n",
       "1                 0.0          0.0                              0.0   \n",
       "2                 0.0          0.0                              0.0   \n",
       "3                 0.0          0.0                              1.0   \n",
       "4                 0.0          0.0                              0.0   \n",
       "\n",
       "   job_science / tech / engineering  job_student  job_transportation  \\\n",
       "0                               0.0          0.0                 0.0   \n",
       "1                               0.0          1.0                 0.0   \n",
       "2                               0.0          0.0                 0.0   \n",
       "3                               0.0          0.0                 0.0   \n",
       "4                               0.0          0.0                 0.0   \n",
       "\n",
       "   job_unemployed  \n",
       "0             0.0  \n",
       "1             0.0  \n",
       "2             0.0  \n",
       "3             0.0  \n",
       "4             0.0  \n",
       "\n",
       "[5 rows x 23 columns]"
      ]
     },
     "execution_count": 617,
     "metadata": {},
     "output_type": "execute_result"
    }
   ],
   "source": [
    "df_q2_features.head()"
   ]
  },
  {
   "cell_type": "code",
   "execution_count": 618,
   "metadata": {},
   "outputs": [
    {
     "data": {
      "text/plain": [
       "1     80000\n",
       "3     20000\n",
       "11    40000\n",
       "13    30000\n",
       "14    50000\n",
       "Name: income_str, dtype: object"
      ]
     },
     "execution_count": 618,
     "metadata": {},
     "output_type": "execute_result"
    }
   ],
   "source": [
    "df_q2_labels.head()"
   ]
  },
  {
   "cell_type": "code",
   "execution_count": 620,
   "metadata": {},
   "outputs": [],
   "source": [
    "X_train3, X_test3, y_train3, y_test3 = train_test_split\\\n",
    "                (df_q2_features, df_q2_labels, test_size = 0.2)"
   ]
  },
  {
   "cell_type": "code",
   "execution_count": 621,
   "metadata": {},
   "outputs": [],
   "source": [
    "forest3 = RandomForestClassifier()"
   ]
  },
  {
   "cell_type": "code",
   "execution_count": 622,
   "metadata": {},
   "outputs": [
    {
     "data": {
      "text/plain": [
       "RandomForestClassifier(bootstrap=True, ccp_alpha=0.0, class_weight=None,\n",
       "                       criterion='gini', max_depth=None, max_features='auto',\n",
       "                       max_leaf_nodes=None, max_samples=None,\n",
       "                       min_impurity_decrease=0.0, min_impurity_split=None,\n",
       "                       min_samples_leaf=1, min_samples_split=2,\n",
       "                       min_weight_fraction_leaf=0.0, n_estimators=100,\n",
       "                       n_jobs=None, oob_score=False, random_state=None,\n",
       "                       verbose=0, warm_start=False)"
      ]
     },
     "execution_count": 622,
     "metadata": {},
     "output_type": "execute_result"
    }
   ],
   "source": [
    "forest3.fit(X_train3, y_train3)"
   ]
  },
  {
   "cell_type": "code",
   "execution_count": 623,
   "metadata": {},
   "outputs": [],
   "source": [
    "forest3_predict = forest3.predict(X_test3)"
   ]
  },
  {
   "cell_type": "code",
   "execution_count": 624,
   "metadata": {},
   "outputs": [
    {
     "name": "stdout",
     "output_type": "stream",
     "text": [
      "              precision    recall  f1-score   support\n",
      "\n",
      "      100000       0.30      0.46      0.37       277\n",
      "     1000000       0.13      0.08      0.10        92\n",
      "      150000       0.19      0.13      0.15       126\n",
      "       20000       0.56      0.67      0.61       547\n",
      "      250000       0.07      0.05      0.05        22\n",
      "       30000       0.12      0.08      0.10       196\n",
      "       40000       0.11      0.12      0.12       188\n",
      "       50000       0.09      0.06      0.07       177\n",
      "      500000       0.00      0.00      0.00        10\n",
      "       60000       0.09      0.08      0.09       133\n",
      "       70000       0.11      0.08      0.09       147\n",
      "       80000       0.14      0.15      0.14       193\n",
      "\n",
      "    accuracy                           0.29      2108\n",
      "   macro avg       0.16      0.16      0.16      2108\n",
      "weighted avg       0.26      0.29      0.27      2108\n",
      "\n"
     ]
    }
   ],
   "source": [
    "print(classification_report(y_test3, forest3_predict))"
   ]
  },
  {
   "cell_type": "markdown",
   "metadata": {},
   "source": [
    "This score is a little disappointing. Let's try to remove the 'job' columns from feature. Maybe that will give us a bit more clue."
   ]
  },
  {
   "cell_type": "code",
   "execution_count": 625,
   "metadata": {},
   "outputs": [
    {
     "data": {
      "text/html": [
       "<div>\n",
       "<style scoped>\n",
       "    .dataframe tbody tr th:only-of-type {\n",
       "        vertical-align: middle;\n",
       "    }\n",
       "\n",
       "    .dataframe tbody tr th {\n",
       "        vertical-align: top;\n",
       "    }\n",
       "\n",
       "    .dataframe thead th {\n",
       "        text-align: right;\n",
       "    }\n",
       "</style>\n",
       "<table border=\"1\" class=\"dataframe\">\n",
       "  <thead>\n",
       "    <tr style=\"text-align: right;\">\n",
       "      <th></th>\n",
       "      <th>age</th>\n",
       "      <th>edu_score</th>\n",
       "    </tr>\n",
       "  </thead>\n",
       "  <tbody>\n",
       "    <tr>\n",
       "      <th>0</th>\n",
       "      <td>0.333333</td>\n",
       "      <td>0.083333</td>\n",
       "    </tr>\n",
       "    <tr>\n",
       "      <th>1</th>\n",
       "      <td>0.098039</td>\n",
       "      <td>0.500000</td>\n",
       "    </tr>\n",
       "    <tr>\n",
       "      <th>2</th>\n",
       "      <td>0.196078</td>\n",
       "      <td>0.583333</td>\n",
       "    </tr>\n",
       "    <tr>\n",
       "      <th>3</th>\n",
       "      <td>0.235294</td>\n",
       "      <td>0.166667</td>\n",
       "    </tr>\n",
       "    <tr>\n",
       "      <th>4</th>\n",
       "      <td>0.215686</td>\n",
       "      <td>0.500000</td>\n",
       "    </tr>\n",
       "    <tr>\n",
       "      <th>...</th>\n",
       "      <td>...</td>\n",
       "      <td>...</td>\n",
       "    </tr>\n",
       "    <tr>\n",
       "      <th>10531</th>\n",
       "      <td>0.156863</td>\n",
       "      <td>0.791667</td>\n",
       "    </tr>\n",
       "    <tr>\n",
       "      <th>10532</th>\n",
       "      <td>0.156863</td>\n",
       "      <td>0.583333</td>\n",
       "    </tr>\n",
       "    <tr>\n",
       "      <th>10533</th>\n",
       "      <td>0.450980</td>\n",
       "      <td>0.583333</td>\n",
       "    </tr>\n",
       "    <tr>\n",
       "      <th>10534</th>\n",
       "      <td>0.490196</td>\n",
       "      <td>0.791667</td>\n",
       "    </tr>\n",
       "    <tr>\n",
       "      <th>10535</th>\n",
       "      <td>0.470588</td>\n",
       "      <td>0.791667</td>\n",
       "    </tr>\n",
       "  </tbody>\n",
       "</table>\n",
       "<p>10536 rows × 2 columns</p>\n",
       "</div>"
      ],
      "text/plain": [
       "            age  edu_score\n",
       "0      0.333333   0.083333\n",
       "1      0.098039   0.500000\n",
       "2      0.196078   0.583333\n",
       "3      0.235294   0.166667\n",
       "4      0.215686   0.500000\n",
       "...         ...        ...\n",
       "10531  0.156863   0.791667\n",
       "10532  0.156863   0.583333\n",
       "10533  0.450980   0.583333\n",
       "10534  0.490196   0.791667\n",
       "10535  0.470588   0.791667\n",
       "\n",
       "[10536 rows x 2 columns]"
      ]
     },
     "execution_count": 625,
     "metadata": {},
     "output_type": "execute_result"
    }
   ],
   "source": [
    "df_q2_features_2 = df_q2_features[['age', 'edu_score']]\n",
    "df_q2_features_2"
   ]
  },
  {
   "cell_type": "code",
   "execution_count": 626,
   "metadata": {},
   "outputs": [],
   "source": [
    "X_train4, X_test4, y_train4, y_test4 = \\\n",
    "        train_test_split(df_q2_features_2, df_q2_labels, test_size = 0.2)"
   ]
  },
  {
   "cell_type": "code",
   "execution_count": 627,
   "metadata": {},
   "outputs": [],
   "source": [
    "forest4 = RandomForestClassifier()"
   ]
  },
  {
   "cell_type": "code",
   "execution_count": 628,
   "metadata": {},
   "outputs": [
    {
     "data": {
      "text/plain": [
       "RandomForestClassifier(bootstrap=True, ccp_alpha=0.0, class_weight=None,\n",
       "                       criterion='gini', max_depth=None, max_features='auto',\n",
       "                       max_leaf_nodes=None, max_samples=None,\n",
       "                       min_impurity_decrease=0.0, min_impurity_split=None,\n",
       "                       min_samples_leaf=1, min_samples_split=2,\n",
       "                       min_weight_fraction_leaf=0.0, n_estimators=100,\n",
       "                       n_jobs=None, oob_score=False, random_state=None,\n",
       "                       verbose=0, warm_start=False)"
      ]
     },
     "execution_count": 628,
     "metadata": {},
     "output_type": "execute_result"
    }
   ],
   "source": [
    "forest4.fit(X_train4, y_train4)"
   ]
  },
  {
   "cell_type": "code",
   "execution_count": 629,
   "metadata": {},
   "outputs": [],
   "source": [
    "forest4_predict = forest4.predict(X_test4)"
   ]
  },
  {
   "cell_type": "code",
   "execution_count": 630,
   "metadata": {},
   "outputs": [
    {
     "name": "stdout",
     "output_type": "stream",
     "text": [
      "              precision    recall  f1-score   support\n",
      "\n",
      "      100000       0.25      0.61      0.36       319\n",
      "     1000000       0.26      0.06      0.09        90\n",
      "      150000       0.15      0.08      0.10       119\n",
      "       20000       0.46      0.79      0.58       530\n",
      "      250000       0.00      0.00      0.00        17\n",
      "       30000       0.12      0.04      0.06       189\n",
      "       40000       0.16      0.04      0.07       195\n",
      "       50000       0.18      0.08      0.11       169\n",
      "      500000       0.00      0.00      0.00         7\n",
      "       60000       0.00      0.00      0.00       126\n",
      "       70000       0.13      0.02      0.04       124\n",
      "       80000       0.10      0.05      0.07       223\n",
      "\n",
      "    accuracy                           0.32      2108\n",
      "   macro avg       0.15      0.15      0.12      2108\n",
      "weighted avg       0.23      0.32      0.24      2108\n",
      "\n"
     ]
    },
    {
     "name": "stderr",
     "output_type": "stream",
     "text": [
      "/opt/anaconda3/lib/python3.7/site-packages/sklearn/metrics/_classification.py:1272: UndefinedMetricWarning: Precision and F-score are ill-defined and being set to 0.0 in labels with no predicted samples. Use `zero_division` parameter to control this behavior.\n",
      "  _warn_prf(average, modifier, msg_start, len(result))\n"
     ]
    }
   ],
   "source": [
    "print(classification_report(y_test4, forest4_predict))"
   ]
  },
  {
   "cell_type": "markdown",
   "metadata": {},
   "source": [
    "This is roughly similar.\n",
    "\n",
    "Let's try a KNN model."
   ]
  },
  {
   "cell_type": "code",
   "execution_count": 632,
   "metadata": {},
   "outputs": [
    {
     "data": {
      "text/plain": [
       "KNeighborsClassifier(algorithm='auto', leaf_size=30, metric='minkowski',\n",
       "                     metric_params=None, n_jobs=None, n_neighbors=5, p=2,\n",
       "                     weights='uniform')"
      ]
     },
     "execution_count": 632,
     "metadata": {},
     "output_type": "execute_result"
    }
   ],
   "source": [
    "knn2 = KNeighborsClassifier(n_neighbors = 5)\n",
    "knn2.fit(X_train4, y_train4)"
   ]
  },
  {
   "cell_type": "code",
   "execution_count": 633,
   "metadata": {},
   "outputs": [],
   "source": [
    "knn2_predict = knn2.predict(X_test4)"
   ]
  },
  {
   "cell_type": "code",
   "execution_count": 634,
   "metadata": {},
   "outputs": [
    {
     "name": "stdout",
     "output_type": "stream",
     "text": [
      "              precision    recall  f1-score   support\n",
      "\n",
      "      100000       0.23      0.44      0.30       319\n",
      "     1000000       0.14      0.09      0.11        90\n",
      "      150000       0.13      0.13      0.13       119\n",
      "       20000       0.49      0.63      0.55       530\n",
      "      250000       0.00      0.00      0.00        17\n",
      "       30000       0.13      0.17      0.15       189\n",
      "       40000       0.11      0.06      0.08       195\n",
      "       50000       0.11      0.03      0.05       169\n",
      "      500000       0.00      0.00      0.00         7\n",
      "       60000       0.09      0.02      0.04       126\n",
      "       70000       0.10      0.06      0.07       124\n",
      "       80000       0.10      0.05      0.07       223\n",
      "\n",
      "    accuracy                           0.27      2108\n",
      "   macro avg       0.13      0.14      0.13      2108\n",
      "weighted avg       0.22      0.27      0.23      2108\n",
      "\n"
     ]
    },
    {
     "name": "stderr",
     "output_type": "stream",
     "text": [
      "/opt/anaconda3/lib/python3.7/site-packages/sklearn/metrics/_classification.py:1272: UndefinedMetricWarning: Precision and F-score are ill-defined and being set to 0.0 in labels with no predicted samples. Use `zero_division` parameter to control this behavior.\n",
      "  _warn_prf(average, modifier, msg_start, len(result))\n"
     ]
    }
   ],
   "source": [
    "print(classification_report(y_test4, knn2_predict))"
   ]
  },
  {
   "cell_type": "markdown",
   "metadata": {},
   "source": [
    "Still roughly similar."
   ]
  },
  {
   "cell_type": "markdown",
   "metadata": {},
   "source": [
    "Lastly let's try to reduce the categories of the `income` to 3 major categories, and see if predictions improve."
   ]
  },
  {
   "cell_type": "code",
   "execution_count": 646,
   "metadata": {},
   "outputs": [
    {
     "name": "stdout",
     "output_type": "stream",
     "text": [
      "['80000' '20000' '40000' '30000' '50000' '60000' '1000000' '150000'\n",
      " '100000' '500000' '70000' '250000']\n"
     ]
    },
    {
     "data": {
      "text/plain": [
       "1         80000\n",
       "3         20000\n",
       "11        40000\n",
       "13        30000\n",
       "14        50000\n",
       "          ...  \n",
       "59917    100000\n",
       "59927     50000\n",
       "59930     70000\n",
       "59934     80000\n",
       "59943    100000\n",
       "Name: income_str, Length: 10536, dtype: object"
      ]
     },
     "execution_count": 646,
     "metadata": {},
     "output_type": "execute_result"
    }
   ],
   "source": [
    "print(df_q2_labels.unique())\n",
    "df_q2_labels"
   ]
  },
  {
   "cell_type": "code",
   "execution_count": 652,
   "metadata": {},
   "outputs": [
    {
     "name": "stdout",
     "output_type": "stream",
     "text": [
      "['<= 100000' '<=50000' '> 100000']\n"
     ]
    },
    {
     "data": {
      "text/plain": [
       "1        <= 100000\n",
       "3          <=50000\n",
       "11         <=50000\n",
       "13         <=50000\n",
       "14         <=50000\n",
       "           ...    \n",
       "59917    <= 100000\n",
       "59927      <=50000\n",
       "59930    <= 100000\n",
       "59934    <= 100000\n",
       "59943    <= 100000\n",
       "Name: income, Length: 10536, dtype: object"
      ]
     },
     "execution_count": 652,
     "metadata": {},
     "output_type": "execute_result"
    }
   ],
   "source": [
    "def find_income_label(x):\n",
    "    if (x <= 50000):\n",
    "        return '<=50000'\n",
    "    elif (x <= 100000):\n",
    "        return '<= 100000'\n",
    "    else:\n",
    "        return '> 100000'\n",
    "    \n",
    "df_q2_labels_grouped = df_q2.income.apply(find_income_label)\n",
    "print(df_q2_labels_grouped.unique())\n",
    "df_q2_labels_grouped"
   ]
  },
  {
   "cell_type": "markdown",
   "metadata": {},
   "source": [
    "Let's classify those again, with all features."
   ]
  },
  {
   "cell_type": "code",
   "execution_count": 657,
   "metadata": {},
   "outputs": [],
   "source": [
    "X_train5, X_test5, y_train5, y_test5 = train_test_split\\\n",
    "            (df_q2_features, df_q2_labels_grouped, test_size = 0.2)"
   ]
  },
  {
   "cell_type": "code",
   "execution_count": 661,
   "metadata": {},
   "outputs": [
    {
     "data": {
      "text/plain": [
       "RandomForestClassifier(bootstrap=True, ccp_alpha=0.0, class_weight=None,\n",
       "                       criterion='gini', max_depth=None, max_features='auto',\n",
       "                       max_leaf_nodes=None, max_samples=None,\n",
       "                       min_impurity_decrease=0.0, min_impurity_split=None,\n",
       "                       min_samples_leaf=1, min_samples_split=2,\n",
       "                       min_weight_fraction_leaf=0.0, n_estimators=100,\n",
       "                       n_jobs=None, oob_score=False, random_state=None,\n",
       "                       verbose=0, warm_start=False)"
      ]
     },
     "execution_count": 661,
     "metadata": {},
     "output_type": "execute_result"
    }
   ],
   "source": [
    "forest5 = RandomForestClassifier()\n",
    "forest5.fit(X_train5, y_train5)"
   ]
  },
  {
   "cell_type": "code",
   "execution_count": 662,
   "metadata": {},
   "outputs": [],
   "source": [
    "forest5_predict = forest5.predict(X_test5)"
   ]
  },
  {
   "cell_type": "code",
   "execution_count": 675,
   "metadata": {},
   "outputs": [
    {
     "name": "stdout",
     "output_type": "stream",
     "text": [
      "              precision    recall  f1-score   support\n",
      "\n",
      "   <= 100000       0.57      0.63      0.60       759\n",
      "     <=50000       0.72      0.77      0.75      1079\n",
      "    > 100000       0.32      0.12      0.18       270\n",
      "\n",
      "    accuracy                           0.64      2108\n",
      "   macro avg       0.54      0.51      0.51      2108\n",
      "weighted avg       0.61      0.64      0.62      2108\n",
      "\n",
      "<=50000      0.520501\n",
      "<= 100000    0.364370\n",
      "> 100000     0.115129\n",
      "Name: income, dtype: float64\n"
     ]
    }
   ],
   "source": [
    "print(classification_report(y_test5, forest5_predict))\n",
    "print(df_q2_labels_grouped.value_counts() / len(df_q2_labels_grouped))"
   ]
  },
  {
   "cell_type": "markdown",
   "metadata": {},
   "source": [
    "After grouping income into 3 major categories. Most of those have gone above random guessing. We see the accuracy rate going up a lot than the natural proportion distribution."
   ]
  },
  {
   "cell_type": "markdown",
   "metadata": {},
   "source": [
    "## Conclusion\n",
    "\n",
    "### 1. Can habits, beliefs, & preferences be used to predict someone's astrological sign?\n",
    "\n",
    "- Our features include `diet`, `drinks`, `drugs`, `offspring`, `pets`, `religion`, `smokes`, and `job` sometimes\n",
    "- Whether including job as part of lifestyle or not, we cannot reach a prediction significantly better than random guess.\n",
    "- Even by reducing categories of astrological signs, we see no improvements.\n",
    "- This shows that most likely, astrological sign has no correlation with one's lifestyle.\n",
    "\n",
    "### 2. Can education and location be used to predict income?\n",
    "- Our features include `age`, `education`, and sometimes `job`\n",
    "- While initially using approx 10 income brackets, it is difficult to reach an accurate prediction.\n",
    "- After reducing income brackets to 3 major ones, we can attain a precision significantly better than random guess to proportion."
   ]
  }
 ],
 "metadata": {
  "kernelspec": {
   "display_name": "Python 3",
   "language": "python",
   "name": "python3"
  },
  "language_info": {
   "codemirror_mode": {
    "name": "ipython",
    "version": 3
   },
   "file_extension": ".py",
   "mimetype": "text/x-python",
   "name": "python",
   "nbconvert_exporter": "python",
   "pygments_lexer": "ipython3",
   "version": "3.7.6"
  }
 },
 "nbformat": 4,
 "nbformat_minor": 4
}
